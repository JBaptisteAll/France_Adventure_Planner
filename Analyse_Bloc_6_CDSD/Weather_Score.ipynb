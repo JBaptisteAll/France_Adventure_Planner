{
 "cells": [
  {
   "cell_type": "code",
   "execution_count": 1,
   "metadata": {},
   "outputs": [],
   "source": [
    "import pandas as pd\n",
    "import matplotlib.pyplot as plt\n",
    "import numpy as np\n",
    "import seaborn as sns\n",
    "import plotly.express as px"
   ]
  },
  {
   "cell_type": "code",
   "execution_count": 3,
   "metadata": {},
   "outputs": [
    {
     "name": "stdout",
     "output_type": "stream",
     "text": [
      "<class 'pandas.core.frame.DataFrame'>\n",
      "RangeIndex: 26000 entries, 0 to 25999\n",
      "Data columns (total 12 columns):\n",
      " #   Column            Non-Null Count  Dtype  \n",
      "---  ------            --------------  -----  \n",
      " 0   Ville             26000 non-null  object \n",
      " 1   Latitude          26000 non-null  float64\n",
      " 2   Longitude         26000 non-null  float64\n",
      " 3   Date              26000 non-null  object \n",
      " 4   Temp_Max          26000 non-null  float64\n",
      " 5   Temp_Min          26000 non-null  float64\n",
      " 6   Humidity          26000 non-null  int64  \n",
      " 7   Weather           26000 non-null  object \n",
      " 8   Rain_Probability  26000 non-null  float64\n",
      " 9   Weather_Score     26000 non-null  int64  \n",
      " 10  Temp_Avg          26000 non-null  float64\n",
      " 11  Run_Date          26000 non-null  object \n",
      "dtypes: float64(6), int64(2), object(4)\n",
      "memory usage: 2.4+ MB\n"
     ]
    }
   ],
   "source": [
    "df_1 = pd.read_csv(\"forecasts\\weather_data_forecast_1day.csv\")\n",
    "df_2 = pd.read_csv(\"forecasts\\weather_data_forecast_2day.csv\")\n",
    "df_3 = pd.read_csv(\"forecasts\\weather_data_forecast_3day.csv\")\n",
    "df_4 = pd.read_csv(\"forecasts\\weather_data_forecast_4day.csv\")\n",
    "df_5 = pd.read_csv(\"forecasts\\weather_data_forecast_5day.csv\")\n",
    "\n",
    "df_1.info()"
   ]
  },
  {
   "cell_type": "code",
   "execution_count": 43,
   "metadata": {},
   "outputs": [],
   "source": [
    "# Ajouter un suffixe aux colonnes pour les distinguer\n",
    "df_1 = df_1.add_suffix('_jour1')\n",
    "df_2 = df_2.add_suffix('_jour2')\n",
    "df_3 = df_3.add_suffix('_jour3')\n",
    "df_4 = df_4.add_suffix('_jour4')\n",
    "df_5 = df_5.add_suffix('_jour5')\n"
   ]
  },
  {
   "cell_type": "code",
   "execution_count": 44,
   "metadata": {},
   "outputs": [
    {
     "data": {
      "text/html": [
       "<div>\n",
       "<style scoped>\n",
       "    .dataframe tbody tr th:only-of-type {\n",
       "        vertical-align: middle;\n",
       "    }\n",
       "\n",
       "    .dataframe tbody tr th {\n",
       "        vertical-align: top;\n",
       "    }\n",
       "\n",
       "    .dataframe thead th {\n",
       "        text-align: right;\n",
       "    }\n",
       "</style>\n",
       "<table border=\"1\" class=\"dataframe\">\n",
       "  <thead>\n",
       "    <tr style=\"text-align: right;\">\n",
       "      <th></th>\n",
       "      <th>Ville_jour1</th>\n",
       "      <th>Latitude_jour1</th>\n",
       "      <th>Longitude_jour1</th>\n",
       "      <th>Date_jour1</th>\n",
       "      <th>Temp_Max_jour1</th>\n",
       "      <th>Temp_Min_jour1</th>\n",
       "      <th>Humidity_jour1</th>\n",
       "      <th>Weather_jour1</th>\n",
       "      <th>Rain_Probability_jour1</th>\n",
       "      <th>Weather_Score_jour1</th>\n",
       "      <th>Temp_Avg_jour1</th>\n",
       "      <th>Run_Date_jour1</th>\n",
       "      <th>Ville_jour2</th>\n",
       "      <th>Latitude_jour2</th>\n",
       "      <th>Longitude_jour2</th>\n",
       "      <th>Date_jour2</th>\n",
       "      <th>Temp_Max_jour2</th>\n",
       "      <th>Temp_Min_jour2</th>\n",
       "      <th>Humidity_jour2</th>\n",
       "      <th>Weather_jour2</th>\n",
       "      <th>Rain_Probability_jour2</th>\n",
       "      <th>Weather_Score_jour2</th>\n",
       "      <th>Temp_Avg_jour2</th>\n",
       "      <th>Run_Date_jour2</th>\n",
       "      <th>Ville_jour3</th>\n",
       "      <th>Latitude_jour3</th>\n",
       "      <th>Longitude_jour3</th>\n",
       "      <th>Date_jour3</th>\n",
       "      <th>Temp_Max_jour3</th>\n",
       "      <th>Temp_Min_jour3</th>\n",
       "      <th>Humidity_jour3</th>\n",
       "      <th>Weather_jour3</th>\n",
       "      <th>Rain_Probability_jour3</th>\n",
       "      <th>Weather_Score_jour3</th>\n",
       "      <th>Temp_Avg_jour3</th>\n",
       "      <th>Run_Date_jour3</th>\n",
       "      <th>Ville_jour4</th>\n",
       "      <th>Latitude_jour4</th>\n",
       "      <th>Longitude_jour4</th>\n",
       "      <th>Date_jour4</th>\n",
       "      <th>Temp_Max_jour4</th>\n",
       "      <th>Temp_Min_jour4</th>\n",
       "      <th>Humidity_jour4</th>\n",
       "      <th>Weather_jour4</th>\n",
       "      <th>Rain_Probability_jour4</th>\n",
       "      <th>Weather_Score_jour4</th>\n",
       "      <th>Temp_Avg_jour4</th>\n",
       "      <th>Run_Date_jour4</th>\n",
       "      <th>Ville_jour5</th>\n",
       "      <th>Latitude_jour5</th>\n",
       "      <th>Longitude_jour5</th>\n",
       "      <th>Date_jour5</th>\n",
       "      <th>Temp_Max_jour5</th>\n",
       "      <th>Temp_Min_jour5</th>\n",
       "      <th>Humidity_jour5</th>\n",
       "      <th>Weather_jour5</th>\n",
       "      <th>Rain_Probability_jour5</th>\n",
       "      <th>Weather_Score_jour5</th>\n",
       "      <th>Temp_Avg_jour5</th>\n",
       "      <th>Run_Date_jour5</th>\n",
       "    </tr>\n",
       "  </thead>\n",
       "  <tbody>\n",
       "    <tr>\n",
       "      <th>0</th>\n",
       "      <td>Paris</td>\n",
       "      <td>48.85889</td>\n",
       "      <td>2.320041</td>\n",
       "      <td>2024-12-05 00:00:00</td>\n",
       "      <td>6.76</td>\n",
       "      <td>5.89</td>\n",
       "      <td>90</td>\n",
       "      <td>overcast clouds</td>\n",
       "      <td>0.0</td>\n",
       "      <td>200</td>\n",
       "      <td>6.325</td>\n",
       "      <td>2024-12-04</td>\n",
       "      <td>Paris</td>\n",
       "      <td>48.85889</td>\n",
       "      <td>2.320041</td>\n",
       "      <td>2024-12-05 00:00:00</td>\n",
       "      <td>6.91</td>\n",
       "      <td>6.91</td>\n",
       "      <td>78</td>\n",
       "      <td>overcast clouds</td>\n",
       "      <td>0.00</td>\n",
       "      <td>200</td>\n",
       "      <td>6.91</td>\n",
       "      <td>2024-12-03</td>\n",
       "      <td>Paris</td>\n",
       "      <td>48.85889</td>\n",
       "      <td>2.320041</td>\n",
       "      <td>2024-12-05 00:00:00</td>\n",
       "      <td>6.89</td>\n",
       "      <td>6.89</td>\n",
       "      <td>74</td>\n",
       "      <td>overcast clouds</td>\n",
       "      <td>0.0</td>\n",
       "      <td>200</td>\n",
       "      <td>6.89</td>\n",
       "      <td>2024-12-02</td>\n",
       "      <td>Paris</td>\n",
       "      <td>48.85889</td>\n",
       "      <td>2.320041</td>\n",
       "      <td>2024-12-05 00:00:00</td>\n",
       "      <td>7.68</td>\n",
       "      <td>7.68</td>\n",
       "      <td>77</td>\n",
       "      <td>overcast clouds</td>\n",
       "      <td>0.0</td>\n",
       "      <td>200</td>\n",
       "      <td>7.68</td>\n",
       "      <td>2024-12-01</td>\n",
       "      <td>Paris</td>\n",
       "      <td>48.85889</td>\n",
       "      <td>2.320041</td>\n",
       "      <td>2024-12-05</td>\n",
       "      <td>6.31</td>\n",
       "      <td>6.31</td>\n",
       "      <td>90</td>\n",
       "      <td>overcast clouds</td>\n",
       "      <td>0.00</td>\n",
       "      <td>200</td>\n",
       "      <td>6.31</td>\n",
       "      <td>2024-11-30</td>\n",
       "    </tr>\n",
       "    <tr>\n",
       "      <th>1</th>\n",
       "      <td>Paris</td>\n",
       "      <td>48.85889</td>\n",
       "      <td>2.320041</td>\n",
       "      <td>2024-12-05 00:00:00</td>\n",
       "      <td>6.35</td>\n",
       "      <td>6.05</td>\n",
       "      <td>82</td>\n",
       "      <td>overcast clouds</td>\n",
       "      <td>0.0</td>\n",
       "      <td>200</td>\n",
       "      <td>6.200</td>\n",
       "      <td>2024-12-04</td>\n",
       "      <td>Paris</td>\n",
       "      <td>48.85889</td>\n",
       "      <td>2.320041</td>\n",
       "      <td>2024-12-05 00:00:00</td>\n",
       "      <td>6.55</td>\n",
       "      <td>6.55</td>\n",
       "      <td>81</td>\n",
       "      <td>overcast clouds</td>\n",
       "      <td>0.00</td>\n",
       "      <td>200</td>\n",
       "      <td>6.55</td>\n",
       "      <td>2024-12-03</td>\n",
       "      <td>Paris</td>\n",
       "      <td>48.85889</td>\n",
       "      <td>2.320041</td>\n",
       "      <td>2024-12-05 00:00:00</td>\n",
       "      <td>6.50</td>\n",
       "      <td>6.50</td>\n",
       "      <td>75</td>\n",
       "      <td>overcast clouds</td>\n",
       "      <td>0.0</td>\n",
       "      <td>200</td>\n",
       "      <td>6.50</td>\n",
       "      <td>2024-12-02</td>\n",
       "      <td>Paris</td>\n",
       "      <td>48.85889</td>\n",
       "      <td>2.320041</td>\n",
       "      <td>2024-12-05 00:00:00</td>\n",
       "      <td>6.81</td>\n",
       "      <td>6.81</td>\n",
       "      <td>75</td>\n",
       "      <td>overcast clouds</td>\n",
       "      <td>0.0</td>\n",
       "      <td>200</td>\n",
       "      <td>6.81</td>\n",
       "      <td>2024-12-01</td>\n",
       "      <td>Paris</td>\n",
       "      <td>48.85889</td>\n",
       "      <td>2.320041</td>\n",
       "      <td>2024-12-05</td>\n",
       "      <td>7.05</td>\n",
       "      <td>7.05</td>\n",
       "      <td>86</td>\n",
       "      <td>overcast clouds</td>\n",
       "      <td>0.00</td>\n",
       "      <td>200</td>\n",
       "      <td>7.05</td>\n",
       "      <td>2024-11-30</td>\n",
       "    </tr>\n",
       "    <tr>\n",
       "      <th>2</th>\n",
       "      <td>Paris</td>\n",
       "      <td>48.85889</td>\n",
       "      <td>2.320041</td>\n",
       "      <td>2024-12-05 00:00:00</td>\n",
       "      <td>6.62</td>\n",
       "      <td>6.62</td>\n",
       "      <td>70</td>\n",
       "      <td>overcast clouds</td>\n",
       "      <td>0.0</td>\n",
       "      <td>200</td>\n",
       "      <td>6.620</td>\n",
       "      <td>2024-12-04</td>\n",
       "      <td>Paris</td>\n",
       "      <td>48.85889</td>\n",
       "      <td>2.320041</td>\n",
       "      <td>2024-12-05 00:00:00</td>\n",
       "      <td>6.63</td>\n",
       "      <td>6.63</td>\n",
       "      <td>72</td>\n",
       "      <td>overcast clouds</td>\n",
       "      <td>0.00</td>\n",
       "      <td>200</td>\n",
       "      <td>6.63</td>\n",
       "      <td>2024-12-03</td>\n",
       "      <td>Paris</td>\n",
       "      <td>48.85889</td>\n",
       "      <td>2.320041</td>\n",
       "      <td>2024-12-05 00:00:00</td>\n",
       "      <td>6.47</td>\n",
       "      <td>6.47</td>\n",
       "      <td>76</td>\n",
       "      <td>overcast clouds</td>\n",
       "      <td>0.0</td>\n",
       "      <td>200</td>\n",
       "      <td>6.47</td>\n",
       "      <td>2024-12-02</td>\n",
       "      <td>Paris</td>\n",
       "      <td>48.85889</td>\n",
       "      <td>2.320041</td>\n",
       "      <td>2024-12-05 00:00:00</td>\n",
       "      <td>6.71</td>\n",
       "      <td>6.71</td>\n",
       "      <td>79</td>\n",
       "      <td>overcast clouds</td>\n",
       "      <td>0.0</td>\n",
       "      <td>200</td>\n",
       "      <td>6.71</td>\n",
       "      <td>2024-12-01</td>\n",
       "      <td>Paris</td>\n",
       "      <td>48.85889</td>\n",
       "      <td>2.320041</td>\n",
       "      <td>2024-12-05</td>\n",
       "      <td>7.53</td>\n",
       "      <td>7.53</td>\n",
       "      <td>79</td>\n",
       "      <td>light rain</td>\n",
       "      <td>0.20</td>\n",
       "      <td>-10</td>\n",
       "      <td>7.53</td>\n",
       "      <td>2024-11-30</td>\n",
       "    </tr>\n",
       "    <tr>\n",
       "      <th>3</th>\n",
       "      <td>Paris</td>\n",
       "      <td>48.85889</td>\n",
       "      <td>2.320041</td>\n",
       "      <td>2024-12-05 00:00:00</td>\n",
       "      <td>6.62</td>\n",
       "      <td>6.62</td>\n",
       "      <td>81</td>\n",
       "      <td>light rain</td>\n",
       "      <td>1.0</td>\n",
       "      <td>-10</td>\n",
       "      <td>6.620</td>\n",
       "      <td>2024-12-04</td>\n",
       "      <td>Paris</td>\n",
       "      <td>48.85889</td>\n",
       "      <td>2.320041</td>\n",
       "      <td>2024-12-05 00:00:00</td>\n",
       "      <td>7.10</td>\n",
       "      <td>7.10</td>\n",
       "      <td>80</td>\n",
       "      <td>light rain</td>\n",
       "      <td>0.24</td>\n",
       "      <td>-10</td>\n",
       "      <td>7.10</td>\n",
       "      <td>2024-12-03</td>\n",
       "      <td>Paris</td>\n",
       "      <td>48.85889</td>\n",
       "      <td>2.320041</td>\n",
       "      <td>2024-12-05 00:00:00</td>\n",
       "      <td>6.53</td>\n",
       "      <td>6.53</td>\n",
       "      <td>75</td>\n",
       "      <td>overcast clouds</td>\n",
       "      <td>0.0</td>\n",
       "      <td>200</td>\n",
       "      <td>6.53</td>\n",
       "      <td>2024-12-02</td>\n",
       "      <td>Paris</td>\n",
       "      <td>48.85889</td>\n",
       "      <td>2.320041</td>\n",
       "      <td>2024-12-05 00:00:00</td>\n",
       "      <td>6.78</td>\n",
       "      <td>6.78</td>\n",
       "      <td>75</td>\n",
       "      <td>overcast clouds</td>\n",
       "      <td>0.0</td>\n",
       "      <td>200</td>\n",
       "      <td>6.78</td>\n",
       "      <td>2024-12-01</td>\n",
       "      <td>Paris</td>\n",
       "      <td>48.85889</td>\n",
       "      <td>2.320041</td>\n",
       "      <td>2024-12-05</td>\n",
       "      <td>8.70</td>\n",
       "      <td>8.70</td>\n",
       "      <td>87</td>\n",
       "      <td>light rain</td>\n",
       "      <td>1.00</td>\n",
       "      <td>-10</td>\n",
       "      <td>8.70</td>\n",
       "      <td>2024-11-30</td>\n",
       "    </tr>\n",
       "    <tr>\n",
       "      <th>4</th>\n",
       "      <td>Paris</td>\n",
       "      <td>48.85889</td>\n",
       "      <td>2.320041</td>\n",
       "      <td>2024-12-05 00:00:00</td>\n",
       "      <td>7.91</td>\n",
       "      <td>7.91</td>\n",
       "      <td>86</td>\n",
       "      <td>light rain</td>\n",
       "      <td>1.0</td>\n",
       "      <td>-10</td>\n",
       "      <td>7.910</td>\n",
       "      <td>2024-12-04</td>\n",
       "      <td>Paris</td>\n",
       "      <td>48.85889</td>\n",
       "      <td>2.320041</td>\n",
       "      <td>2024-12-05 00:00:00</td>\n",
       "      <td>8.09</td>\n",
       "      <td>8.09</td>\n",
       "      <td>83</td>\n",
       "      <td>light rain</td>\n",
       "      <td>0.25</td>\n",
       "      <td>-10</td>\n",
       "      <td>8.09</td>\n",
       "      <td>2024-12-03</td>\n",
       "      <td>Paris</td>\n",
       "      <td>48.85889</td>\n",
       "      <td>2.320041</td>\n",
       "      <td>2024-12-05 00:00:00</td>\n",
       "      <td>7.49</td>\n",
       "      <td>7.49</td>\n",
       "      <td>74</td>\n",
       "      <td>overcast clouds</td>\n",
       "      <td>0.0</td>\n",
       "      <td>200</td>\n",
       "      <td>7.49</td>\n",
       "      <td>2024-12-02</td>\n",
       "      <td>Paris</td>\n",
       "      <td>48.85889</td>\n",
       "      <td>2.320041</td>\n",
       "      <td>2024-12-05 00:00:00</td>\n",
       "      <td>6.81</td>\n",
       "      <td>6.81</td>\n",
       "      <td>80</td>\n",
       "      <td>light rain</td>\n",
       "      <td>1.0</td>\n",
       "      <td>-10</td>\n",
       "      <td>6.81</td>\n",
       "      <td>2024-12-01</td>\n",
       "      <td>Paris</td>\n",
       "      <td>48.85889</td>\n",
       "      <td>2.320041</td>\n",
       "      <td>2024-12-05</td>\n",
       "      <td>11.84</td>\n",
       "      <td>11.84</td>\n",
       "      <td>65</td>\n",
       "      <td>overcast clouds</td>\n",
       "      <td>0.81</td>\n",
       "      <td>200</td>\n",
       "      <td>11.84</td>\n",
       "      <td>2024-11-30</td>\n",
       "    </tr>\n",
       "  </tbody>\n",
       "</table>\n",
       "</div>"
      ],
      "text/plain": [
       "  Ville_jour1  Latitude_jour1  Longitude_jour1           Date_jour1  \\\n",
       "0       Paris        48.85889         2.320041  2024-12-05 00:00:00   \n",
       "1       Paris        48.85889         2.320041  2024-12-05 00:00:00   \n",
       "2       Paris        48.85889         2.320041  2024-12-05 00:00:00   \n",
       "3       Paris        48.85889         2.320041  2024-12-05 00:00:00   \n",
       "4       Paris        48.85889         2.320041  2024-12-05 00:00:00   \n",
       "\n",
       "   Temp_Max_jour1  Temp_Min_jour1  Humidity_jour1    Weather_jour1  \\\n",
       "0            6.76            5.89              90  overcast clouds   \n",
       "1            6.35            6.05              82  overcast clouds   \n",
       "2            6.62            6.62              70  overcast clouds   \n",
       "3            6.62            6.62              81       light rain   \n",
       "4            7.91            7.91              86       light rain   \n",
       "\n",
       "   Rain_Probability_jour1  Weather_Score_jour1  Temp_Avg_jour1 Run_Date_jour1  \\\n",
       "0                     0.0                  200           6.325     2024-12-04   \n",
       "1                     0.0                  200           6.200     2024-12-04   \n",
       "2                     0.0                  200           6.620     2024-12-04   \n",
       "3                     1.0                  -10           6.620     2024-12-04   \n",
       "4                     1.0                  -10           7.910     2024-12-04   \n",
       "\n",
       "  Ville_jour2  Latitude_jour2  Longitude_jour2           Date_jour2  \\\n",
       "0       Paris        48.85889         2.320041  2024-12-05 00:00:00   \n",
       "1       Paris        48.85889         2.320041  2024-12-05 00:00:00   \n",
       "2       Paris        48.85889         2.320041  2024-12-05 00:00:00   \n",
       "3       Paris        48.85889         2.320041  2024-12-05 00:00:00   \n",
       "4       Paris        48.85889         2.320041  2024-12-05 00:00:00   \n",
       "\n",
       "   Temp_Max_jour2  Temp_Min_jour2  Humidity_jour2    Weather_jour2  \\\n",
       "0            6.91            6.91              78  overcast clouds   \n",
       "1            6.55            6.55              81  overcast clouds   \n",
       "2            6.63            6.63              72  overcast clouds   \n",
       "3            7.10            7.10              80       light rain   \n",
       "4            8.09            8.09              83       light rain   \n",
       "\n",
       "   Rain_Probability_jour2  Weather_Score_jour2  Temp_Avg_jour2 Run_Date_jour2  \\\n",
       "0                    0.00                  200            6.91     2024-12-03   \n",
       "1                    0.00                  200            6.55     2024-12-03   \n",
       "2                    0.00                  200            6.63     2024-12-03   \n",
       "3                    0.24                  -10            7.10     2024-12-03   \n",
       "4                    0.25                  -10            8.09     2024-12-03   \n",
       "\n",
       "  Ville_jour3  Latitude_jour3  Longitude_jour3           Date_jour3  \\\n",
       "0       Paris        48.85889         2.320041  2024-12-05 00:00:00   \n",
       "1       Paris        48.85889         2.320041  2024-12-05 00:00:00   \n",
       "2       Paris        48.85889         2.320041  2024-12-05 00:00:00   \n",
       "3       Paris        48.85889         2.320041  2024-12-05 00:00:00   \n",
       "4       Paris        48.85889         2.320041  2024-12-05 00:00:00   \n",
       "\n",
       "   Temp_Max_jour3  Temp_Min_jour3  Humidity_jour3    Weather_jour3  \\\n",
       "0            6.89            6.89              74  overcast clouds   \n",
       "1            6.50            6.50              75  overcast clouds   \n",
       "2            6.47            6.47              76  overcast clouds   \n",
       "3            6.53            6.53              75  overcast clouds   \n",
       "4            7.49            7.49              74  overcast clouds   \n",
       "\n",
       "   Rain_Probability_jour3  Weather_Score_jour3  Temp_Avg_jour3 Run_Date_jour3  \\\n",
       "0                     0.0                  200            6.89     2024-12-02   \n",
       "1                     0.0                  200            6.50     2024-12-02   \n",
       "2                     0.0                  200            6.47     2024-12-02   \n",
       "3                     0.0                  200            6.53     2024-12-02   \n",
       "4                     0.0                  200            7.49     2024-12-02   \n",
       "\n",
       "  Ville_jour4  Latitude_jour4  Longitude_jour4           Date_jour4  \\\n",
       "0       Paris        48.85889         2.320041  2024-12-05 00:00:00   \n",
       "1       Paris        48.85889         2.320041  2024-12-05 00:00:00   \n",
       "2       Paris        48.85889         2.320041  2024-12-05 00:00:00   \n",
       "3       Paris        48.85889         2.320041  2024-12-05 00:00:00   \n",
       "4       Paris        48.85889         2.320041  2024-12-05 00:00:00   \n",
       "\n",
       "   Temp_Max_jour4  Temp_Min_jour4  Humidity_jour4    Weather_jour4  \\\n",
       "0            7.68            7.68              77  overcast clouds   \n",
       "1            6.81            6.81              75  overcast clouds   \n",
       "2            6.71            6.71              79  overcast clouds   \n",
       "3            6.78            6.78              75  overcast clouds   \n",
       "4            6.81            6.81              80       light rain   \n",
       "\n",
       "   Rain_Probability_jour4  Weather_Score_jour4  Temp_Avg_jour4 Run_Date_jour4  \\\n",
       "0                     0.0                  200            7.68     2024-12-01   \n",
       "1                     0.0                  200            6.81     2024-12-01   \n",
       "2                     0.0                  200            6.71     2024-12-01   \n",
       "3                     0.0                  200            6.78     2024-12-01   \n",
       "4                     1.0                  -10            6.81     2024-12-01   \n",
       "\n",
       "  Ville_jour5  Latitude_jour5  Longitude_jour5  Date_jour5  Temp_Max_jour5  \\\n",
       "0       Paris        48.85889         2.320041  2024-12-05            6.31   \n",
       "1       Paris        48.85889         2.320041  2024-12-05            7.05   \n",
       "2       Paris        48.85889         2.320041  2024-12-05            7.53   \n",
       "3       Paris        48.85889         2.320041  2024-12-05            8.70   \n",
       "4       Paris        48.85889         2.320041  2024-12-05           11.84   \n",
       "\n",
       "   Temp_Min_jour5  Humidity_jour5    Weather_jour5  Rain_Probability_jour5  \\\n",
       "0            6.31              90  overcast clouds                    0.00   \n",
       "1            7.05              86  overcast clouds                    0.00   \n",
       "2            7.53              79       light rain                    0.20   \n",
       "3            8.70              87       light rain                    1.00   \n",
       "4           11.84              65  overcast clouds                    0.81   \n",
       "\n",
       "   Weather_Score_jour5  Temp_Avg_jour5 Run_Date_jour5  \n",
       "0                  200            6.31     2024-11-30  \n",
       "1                  200            7.05     2024-11-30  \n",
       "2                  -10            7.53     2024-11-30  \n",
       "3                  -10            8.70     2024-11-30  \n",
       "4                  200           11.84     2024-11-30  "
      ]
     },
     "metadata": {},
     "output_type": "display_data"
    }
   ],
   "source": [
    "# Combiner les fichiers en un seul DataFrame\n",
    "all_data = pd.concat([df_1, df_2, df_3, df_4, df_5], axis=1)\n",
    "\n",
    "# Vérifier le DataFrame résultant\n",
    "display(all_data.head())"
   ]
  },
  {
   "cell_type": "code",
   "execution_count": 45,
   "metadata": {},
   "outputs": [],
   "source": [
    "# Supprimer les colonnes \"Ville\" \"Latitude\" et \"Longitude\", \"Date\", \"Run_Date\" des jours 2 à 5\n",
    "all_data.drop(columns=['Ville_jour2', 'Latitude_jour2', 'Longitude_jour2', 'Date_jour2', 'Run_Date_jour2',\n",
    "                       'Ville_jour3', 'Latitude_jour3', 'Longitude_jour3', 'Date_jour3', 'Run_Date_jour3',\n",
    "                       'Ville_jour4', 'Latitude_jour4', 'Longitude_jour4', 'Date_jour4', 'Run_Date_jour4',\n",
    "                       'Ville_jour5', 'Latitude_jour5', 'Longitude_jour5', 'Date_jour5', 'Run_Date_jour5'], inplace=True)\n"
   ]
  },
  {
   "cell_type": "code",
   "execution_count": 46,
   "metadata": {},
   "outputs": [
    {
     "data": {
      "text/plain": [
       "(26000, 40)"
      ]
     },
     "execution_count": 46,
     "metadata": {},
     "output_type": "execute_result"
    }
   ],
   "source": [
    "all_data.shape"
   ]
  },
  {
   "cell_type": "code",
   "execution_count": 47,
   "metadata": {},
   "outputs": [
    {
     "data": {
      "text/html": [
       "<div>\n",
       "<style scoped>\n",
       "    .dataframe tbody tr th:only-of-type {\n",
       "        vertical-align: middle;\n",
       "    }\n",
       "\n",
       "    .dataframe tbody tr th {\n",
       "        vertical-align: top;\n",
       "    }\n",
       "\n",
       "    .dataframe thead th {\n",
       "        text-align: right;\n",
       "    }\n",
       "</style>\n",
       "<table border=\"1\" class=\"dataframe\">\n",
       "  <thead>\n",
       "    <tr style=\"text-align: right;\">\n",
       "      <th></th>\n",
       "      <th>Ville_jour1</th>\n",
       "      <th>Latitude_jour1</th>\n",
       "      <th>Longitude_jour1</th>\n",
       "      <th>Date_jour1</th>\n",
       "      <th>Temp_Max_jour1</th>\n",
       "      <th>Temp_Min_jour1</th>\n",
       "      <th>Humidity_jour1</th>\n",
       "      <th>Weather_jour1</th>\n",
       "      <th>Rain_Probability_jour1</th>\n",
       "      <th>Weather_Score_jour1</th>\n",
       "      <th>Temp_Avg_jour1</th>\n",
       "      <th>Run_Date_jour1</th>\n",
       "      <th>Temp_Max_jour2</th>\n",
       "      <th>Temp_Min_jour2</th>\n",
       "      <th>Humidity_jour2</th>\n",
       "      <th>Weather_jour2</th>\n",
       "      <th>Rain_Probability_jour2</th>\n",
       "      <th>Weather_Score_jour2</th>\n",
       "      <th>Temp_Avg_jour2</th>\n",
       "      <th>Temp_Max_jour3</th>\n",
       "      <th>Temp_Min_jour3</th>\n",
       "      <th>Humidity_jour3</th>\n",
       "      <th>Weather_jour3</th>\n",
       "      <th>Rain_Probability_jour3</th>\n",
       "      <th>Weather_Score_jour3</th>\n",
       "      <th>Temp_Avg_jour3</th>\n",
       "      <th>Temp_Max_jour4</th>\n",
       "      <th>Temp_Min_jour4</th>\n",
       "      <th>Humidity_jour4</th>\n",
       "      <th>Weather_jour4</th>\n",
       "      <th>Rain_Probability_jour4</th>\n",
       "      <th>Weather_Score_jour4</th>\n",
       "      <th>Temp_Avg_jour4</th>\n",
       "      <th>Temp_Max_jour5</th>\n",
       "      <th>Temp_Min_jour5</th>\n",
       "      <th>Humidity_jour5</th>\n",
       "      <th>Weather_jour5</th>\n",
       "      <th>Rain_Probability_jour5</th>\n",
       "      <th>Weather_Score_jour5</th>\n",
       "      <th>Temp_Avg_jour5</th>\n",
       "    </tr>\n",
       "  </thead>\n",
       "  <tbody>\n",
       "    <tr>\n",
       "      <th>0</th>\n",
       "      <td>Paris</td>\n",
       "      <td>48.85889</td>\n",
       "      <td>2.320041</td>\n",
       "      <td>2024-12-05 00:00:00</td>\n",
       "      <td>6.76</td>\n",
       "      <td>5.89</td>\n",
       "      <td>90</td>\n",
       "      <td>overcast clouds</td>\n",
       "      <td>0.0</td>\n",
       "      <td>200</td>\n",
       "      <td>6.325</td>\n",
       "      <td>2024-12-04</td>\n",
       "      <td>6.91</td>\n",
       "      <td>6.91</td>\n",
       "      <td>78</td>\n",
       "      <td>overcast clouds</td>\n",
       "      <td>0.00</td>\n",
       "      <td>200</td>\n",
       "      <td>6.91</td>\n",
       "      <td>6.89</td>\n",
       "      <td>6.89</td>\n",
       "      <td>74</td>\n",
       "      <td>overcast clouds</td>\n",
       "      <td>0.0</td>\n",
       "      <td>200</td>\n",
       "      <td>6.89</td>\n",
       "      <td>7.68</td>\n",
       "      <td>7.68</td>\n",
       "      <td>77</td>\n",
       "      <td>overcast clouds</td>\n",
       "      <td>0.0</td>\n",
       "      <td>200</td>\n",
       "      <td>7.68</td>\n",
       "      <td>6.31</td>\n",
       "      <td>6.31</td>\n",
       "      <td>90</td>\n",
       "      <td>overcast clouds</td>\n",
       "      <td>0.00</td>\n",
       "      <td>200</td>\n",
       "      <td>6.31</td>\n",
       "    </tr>\n",
       "    <tr>\n",
       "      <th>1</th>\n",
       "      <td>Paris</td>\n",
       "      <td>48.85889</td>\n",
       "      <td>2.320041</td>\n",
       "      <td>2024-12-05 00:00:00</td>\n",
       "      <td>6.35</td>\n",
       "      <td>6.05</td>\n",
       "      <td>82</td>\n",
       "      <td>overcast clouds</td>\n",
       "      <td>0.0</td>\n",
       "      <td>200</td>\n",
       "      <td>6.200</td>\n",
       "      <td>2024-12-04</td>\n",
       "      <td>6.55</td>\n",
       "      <td>6.55</td>\n",
       "      <td>81</td>\n",
       "      <td>overcast clouds</td>\n",
       "      <td>0.00</td>\n",
       "      <td>200</td>\n",
       "      <td>6.55</td>\n",
       "      <td>6.50</td>\n",
       "      <td>6.50</td>\n",
       "      <td>75</td>\n",
       "      <td>overcast clouds</td>\n",
       "      <td>0.0</td>\n",
       "      <td>200</td>\n",
       "      <td>6.50</td>\n",
       "      <td>6.81</td>\n",
       "      <td>6.81</td>\n",
       "      <td>75</td>\n",
       "      <td>overcast clouds</td>\n",
       "      <td>0.0</td>\n",
       "      <td>200</td>\n",
       "      <td>6.81</td>\n",
       "      <td>7.05</td>\n",
       "      <td>7.05</td>\n",
       "      <td>86</td>\n",
       "      <td>overcast clouds</td>\n",
       "      <td>0.00</td>\n",
       "      <td>200</td>\n",
       "      <td>7.05</td>\n",
       "    </tr>\n",
       "    <tr>\n",
       "      <th>2</th>\n",
       "      <td>Paris</td>\n",
       "      <td>48.85889</td>\n",
       "      <td>2.320041</td>\n",
       "      <td>2024-12-05 00:00:00</td>\n",
       "      <td>6.62</td>\n",
       "      <td>6.62</td>\n",
       "      <td>70</td>\n",
       "      <td>overcast clouds</td>\n",
       "      <td>0.0</td>\n",
       "      <td>200</td>\n",
       "      <td>6.620</td>\n",
       "      <td>2024-12-04</td>\n",
       "      <td>6.63</td>\n",
       "      <td>6.63</td>\n",
       "      <td>72</td>\n",
       "      <td>overcast clouds</td>\n",
       "      <td>0.00</td>\n",
       "      <td>200</td>\n",
       "      <td>6.63</td>\n",
       "      <td>6.47</td>\n",
       "      <td>6.47</td>\n",
       "      <td>76</td>\n",
       "      <td>overcast clouds</td>\n",
       "      <td>0.0</td>\n",
       "      <td>200</td>\n",
       "      <td>6.47</td>\n",
       "      <td>6.71</td>\n",
       "      <td>6.71</td>\n",
       "      <td>79</td>\n",
       "      <td>overcast clouds</td>\n",
       "      <td>0.0</td>\n",
       "      <td>200</td>\n",
       "      <td>6.71</td>\n",
       "      <td>7.53</td>\n",
       "      <td>7.53</td>\n",
       "      <td>79</td>\n",
       "      <td>light rain</td>\n",
       "      <td>0.20</td>\n",
       "      <td>-10</td>\n",
       "      <td>7.53</td>\n",
       "    </tr>\n",
       "    <tr>\n",
       "      <th>3</th>\n",
       "      <td>Paris</td>\n",
       "      <td>48.85889</td>\n",
       "      <td>2.320041</td>\n",
       "      <td>2024-12-05 00:00:00</td>\n",
       "      <td>6.62</td>\n",
       "      <td>6.62</td>\n",
       "      <td>81</td>\n",
       "      <td>light rain</td>\n",
       "      <td>1.0</td>\n",
       "      <td>-10</td>\n",
       "      <td>6.620</td>\n",
       "      <td>2024-12-04</td>\n",
       "      <td>7.10</td>\n",
       "      <td>7.10</td>\n",
       "      <td>80</td>\n",
       "      <td>light rain</td>\n",
       "      <td>0.24</td>\n",
       "      <td>-10</td>\n",
       "      <td>7.10</td>\n",
       "      <td>6.53</td>\n",
       "      <td>6.53</td>\n",
       "      <td>75</td>\n",
       "      <td>overcast clouds</td>\n",
       "      <td>0.0</td>\n",
       "      <td>200</td>\n",
       "      <td>6.53</td>\n",
       "      <td>6.78</td>\n",
       "      <td>6.78</td>\n",
       "      <td>75</td>\n",
       "      <td>overcast clouds</td>\n",
       "      <td>0.0</td>\n",
       "      <td>200</td>\n",
       "      <td>6.78</td>\n",
       "      <td>8.70</td>\n",
       "      <td>8.70</td>\n",
       "      <td>87</td>\n",
       "      <td>light rain</td>\n",
       "      <td>1.00</td>\n",
       "      <td>-10</td>\n",
       "      <td>8.70</td>\n",
       "    </tr>\n",
       "    <tr>\n",
       "      <th>4</th>\n",
       "      <td>Paris</td>\n",
       "      <td>48.85889</td>\n",
       "      <td>2.320041</td>\n",
       "      <td>2024-12-05 00:00:00</td>\n",
       "      <td>7.91</td>\n",
       "      <td>7.91</td>\n",
       "      <td>86</td>\n",
       "      <td>light rain</td>\n",
       "      <td>1.0</td>\n",
       "      <td>-10</td>\n",
       "      <td>7.910</td>\n",
       "      <td>2024-12-04</td>\n",
       "      <td>8.09</td>\n",
       "      <td>8.09</td>\n",
       "      <td>83</td>\n",
       "      <td>light rain</td>\n",
       "      <td>0.25</td>\n",
       "      <td>-10</td>\n",
       "      <td>8.09</td>\n",
       "      <td>7.49</td>\n",
       "      <td>7.49</td>\n",
       "      <td>74</td>\n",
       "      <td>overcast clouds</td>\n",
       "      <td>0.0</td>\n",
       "      <td>200</td>\n",
       "      <td>7.49</td>\n",
       "      <td>6.81</td>\n",
       "      <td>6.81</td>\n",
       "      <td>80</td>\n",
       "      <td>light rain</td>\n",
       "      <td>1.0</td>\n",
       "      <td>-10</td>\n",
       "      <td>6.81</td>\n",
       "      <td>11.84</td>\n",
       "      <td>11.84</td>\n",
       "      <td>65</td>\n",
       "      <td>overcast clouds</td>\n",
       "      <td>0.81</td>\n",
       "      <td>200</td>\n",
       "      <td>11.84</td>\n",
       "    </tr>\n",
       "  </tbody>\n",
       "</table>\n",
       "</div>"
      ],
      "text/plain": [
       "  Ville_jour1  Latitude_jour1  Longitude_jour1           Date_jour1  \\\n",
       "0       Paris        48.85889         2.320041  2024-12-05 00:00:00   \n",
       "1       Paris        48.85889         2.320041  2024-12-05 00:00:00   \n",
       "2       Paris        48.85889         2.320041  2024-12-05 00:00:00   \n",
       "3       Paris        48.85889         2.320041  2024-12-05 00:00:00   \n",
       "4       Paris        48.85889         2.320041  2024-12-05 00:00:00   \n",
       "\n",
       "   Temp_Max_jour1  Temp_Min_jour1  Humidity_jour1    Weather_jour1  \\\n",
       "0            6.76            5.89              90  overcast clouds   \n",
       "1            6.35            6.05              82  overcast clouds   \n",
       "2            6.62            6.62              70  overcast clouds   \n",
       "3            6.62            6.62              81       light rain   \n",
       "4            7.91            7.91              86       light rain   \n",
       "\n",
       "   Rain_Probability_jour1  Weather_Score_jour1  Temp_Avg_jour1 Run_Date_jour1  \\\n",
       "0                     0.0                  200           6.325     2024-12-04   \n",
       "1                     0.0                  200           6.200     2024-12-04   \n",
       "2                     0.0                  200           6.620     2024-12-04   \n",
       "3                     1.0                  -10           6.620     2024-12-04   \n",
       "4                     1.0                  -10           7.910     2024-12-04   \n",
       "\n",
       "   Temp_Max_jour2  Temp_Min_jour2  Humidity_jour2    Weather_jour2  \\\n",
       "0            6.91            6.91              78  overcast clouds   \n",
       "1            6.55            6.55              81  overcast clouds   \n",
       "2            6.63            6.63              72  overcast clouds   \n",
       "3            7.10            7.10              80       light rain   \n",
       "4            8.09            8.09              83       light rain   \n",
       "\n",
       "   Rain_Probability_jour2  Weather_Score_jour2  Temp_Avg_jour2  \\\n",
       "0                    0.00                  200            6.91   \n",
       "1                    0.00                  200            6.55   \n",
       "2                    0.00                  200            6.63   \n",
       "3                    0.24                  -10            7.10   \n",
       "4                    0.25                  -10            8.09   \n",
       "\n",
       "   Temp_Max_jour3  Temp_Min_jour3  Humidity_jour3    Weather_jour3  \\\n",
       "0            6.89            6.89              74  overcast clouds   \n",
       "1            6.50            6.50              75  overcast clouds   \n",
       "2            6.47            6.47              76  overcast clouds   \n",
       "3            6.53            6.53              75  overcast clouds   \n",
       "4            7.49            7.49              74  overcast clouds   \n",
       "\n",
       "   Rain_Probability_jour3  Weather_Score_jour3  Temp_Avg_jour3  \\\n",
       "0                     0.0                  200            6.89   \n",
       "1                     0.0                  200            6.50   \n",
       "2                     0.0                  200            6.47   \n",
       "3                     0.0                  200            6.53   \n",
       "4                     0.0                  200            7.49   \n",
       "\n",
       "   Temp_Max_jour4  Temp_Min_jour4  Humidity_jour4    Weather_jour4  \\\n",
       "0            7.68            7.68              77  overcast clouds   \n",
       "1            6.81            6.81              75  overcast clouds   \n",
       "2            6.71            6.71              79  overcast clouds   \n",
       "3            6.78            6.78              75  overcast clouds   \n",
       "4            6.81            6.81              80       light rain   \n",
       "\n",
       "   Rain_Probability_jour4  Weather_Score_jour4  Temp_Avg_jour4  \\\n",
       "0                     0.0                  200            7.68   \n",
       "1                     0.0                  200            6.81   \n",
       "2                     0.0                  200            6.71   \n",
       "3                     0.0                  200            6.78   \n",
       "4                     1.0                  -10            6.81   \n",
       "\n",
       "   Temp_Max_jour5  Temp_Min_jour5  Humidity_jour5    Weather_jour5  \\\n",
       "0            6.31            6.31              90  overcast clouds   \n",
       "1            7.05            7.05              86  overcast clouds   \n",
       "2            7.53            7.53              79       light rain   \n",
       "3            8.70            8.70              87       light rain   \n",
       "4           11.84           11.84              65  overcast clouds   \n",
       "\n",
       "   Rain_Probability_jour5  Weather_Score_jour5  Temp_Avg_jour5  \n",
       "0                    0.00                  200            6.31  \n",
       "1                    0.00                  200            7.05  \n",
       "2                    0.20                  -10            7.53  \n",
       "3                    1.00                  -10            8.70  \n",
       "4                    0.81                  200           11.84  "
      ]
     },
     "metadata": {},
     "output_type": "display_data"
    }
   ],
   "source": [
    "display(all_data.head())"
   ]
  },
  {
   "cell_type": "code",
   "execution_count": 48,
   "metadata": {},
   "outputs": [
    {
     "data": {
      "image/png": "[encoded data removed]",
      "text/plain": [
       "<Figure size 1000x600 with 1 Axes>"
      ]
     },
     "metadata": {},
     "output_type": "display_data"
    }
   ],
   "source": [
    "#comparer l'évolution de la température entre les 5 jours\n",
    "plt.figure(figsize=(10, 6))\n",
    "plt.plot(all_data['Temp_Avg_jour1'], label='Jour 1')\n",
    "plt.plot(all_data['Temp_Avg_jour2'], label='Jour 2')\n",
    "plt.plot(all_data['Temp_Avg_jour3'], label='Jour 3')\n",
    "plt.plot(all_data['Temp_Avg_jour4'], label='Jour 4')\n",
    "plt.plot(all_data['Temp_Avg_jour5'], label='Jour 5')\n",
    "plt.legend()\n",
    "plt.title(\"Evolution de la température sur 5 jours\")\n",
    "plt.xlabel(\"Heures\")\n",
    "plt.ylabel(\"Température (°C)\")\n",
    "plt.show()\n"
   ]
  },
  {
   "cell_type": "code",
   "execution_count": 49,
   "metadata": {},
   "outputs": [
    {
     "name": "stderr",
     "output_type": "stream",
     "text": [
      "c:\\Users\\j-bal\\anaconda3\\Lib\\site-packages\\seaborn\\_oldcore.py:1119: FutureWarning:\n",
      "\n",
      "use_inf_as_na option is deprecated and will be removed in a future version. Convert inf values to NaN before operating instead.\n",
      "\n"
     ]
    },
    {
     "data": {
      "image/png": "[encoded data removed]",
      "text/plain": [
       "<Figure size 1200x600 with 1 Axes>"
      ]
     },
     "metadata": {},
     "output_type": "display_data"
    }
   ],
   "source": [
    "# Visualisation de l'humidité\n",
    "plt.figure(figsize=(12, 6))\n",
    "sns.histplot(all_data[\"Humidity_jour1\"], bins=30, kde=True, color=\"green\", label=\"Humidité (J+1)\")\n",
    "plt.xlabel(\"Humidité (%)\")\n",
    "plt.ylabel(\"Fréquence\")\n",
    "plt.title(\"Distribution de l'humidité prévue (J+1)\")\n",
    "plt.legend()\n",
    "plt.show()"
   ]
  },
  {
   "cell_type": "code",
   "execution_count": 50,
   "metadata": {},
   "outputs": [
    {
     "name": "stdout",
     "output_type": "stream",
     "text": [
      "City with the Most Favorable Cumulative Weather \n",
      "City : Nice\n",
      "Total Weather Score : 192370\n",
      "\n",
      " **Top 5 Cities with the Highest Weather Score** \n",
      "        Ville_jour1  Weather_Score_jour1\n",
      "34             Nice               192370\n",
      "0   Aix-en-Provence               191740\n",
      "6             Arles               190180\n",
      "29        Marseille               188630\n",
      "47           Toulon               187400\n"
     ]
    },
    {
     "data": {
      "image/png": "[encoded data removed]",
      "text/plain": [
       "<Figure size 1200x600 with 1 Axes>"
      ]
     },
     "metadata": {},
     "output_type": "display_data"
    }
   ],
   "source": [
    "# Calculer le score total pour chaque ville pour le jour 1\n",
    "city_ranking = all_data.groupby(\"Ville_jour1\")[\"Weather_Score_jour1\"].sum().reset_index()\n",
    "    \n",
    "# Trier les villes par meilleur score\n",
    "city_ranking = city_ranking.sort_values(by=\"Weather_Score_jour1\", ascending=False)\n",
    "\n",
    "# Trouver la ville avec le meilleur score\n",
    "best_city = city_ranking.iloc[0]\n",
    "\n",
    "# Afficher les résultats\n",
    "print(\"City with the Most Favorable Cumulative Weather \")\n",
    "print(f\"City : {best_city['Ville_jour1']}\")\n",
    "print(f\"Total Weather Score : {best_city['Weather_Score_jour1']}\")\n",
    "\n",
    "print(\"\\n **Top 5 Cities with the Highest Weather Score** \")\n",
    "print(city_ranking.head(5))\n",
    "\n",
    "# Visualisation du classement en barplot\n",
    "plt.figure(figsize=(12, 6))\n",
    "sns.barplot(\n",
    "    x=\"Weather_Score_jour1\", \n",
    "    y=\"Ville_jour1\", \n",
    "    data=city_ranking.head(10), \n",
    "    palette=\"magma\"\n",
    ")\n",
    "plt.xlabel(\"Weather Score (Sum)\")\n",
    "plt.ylabel(\"Cities\")\n",
    "plt.title(\"Ranking of the Best Cities Based on the Weather Score\")\n",
    "plt.show()\n"
   ]
  },
  {
   "cell_type": "code",
   "execution_count": 51,
   "metadata": {},
   "outputs": [
    {
     "name": "stdout",
     "output_type": "stream",
     "text": [
      "City with the Least Favorable Cumulative Weather \n",
      "City : Brest\n",
      "Total Weather Score : 99870\n",
      "\n",
      " **Top 5 Cities with the Lowest Weather Score** \n",
      "         Ville_jour1  Weather_Score_jour1\n",
      "13             Brest                99870\n",
      "23          Le Havre               107550\n",
      "44        Saint-Malo               111530\n",
      "14              Caen               119970\n",
      "12  Boulogne-sur-Mer               121190\n"
     ]
    },
    {
     "data": {
      "image/png": "[encoded data removed]",
      "text/plain": [
       "<Figure size 1200x600 with 1 Axes>"
      ]
     },
     "metadata": {},
     "output_type": "display_data"
    }
   ],
   "source": [
    "# Calculer le score total pour chaque ville pour le jour 1\n",
    "city_ranking = all_data.groupby(\"Ville_jour1\")[\"Weather_Score_jour1\"].sum().reset_index()\n",
    "    \n",
    "# Trier les villes par meilleur score\n",
    "city_ranking = city_ranking.sort_values(by=\"Weather_Score_jour1\", ascending=True)\n",
    "\n",
    "# Trouver la ville avec le meilleur score\n",
    "best_city = city_ranking.iloc[0]\n",
    "\n",
    "# Afficher les résultats\n",
    "print(\"City with the Least Favorable Cumulative Weather \")\n",
    "print(f\"City : {best_city['Ville_jour1']}\")\n",
    "print(f\"Total Weather Score : {best_city['Weather_Score_jour1']}\")\n",
    "\n",
    "print(\"\\n **Top 5 Cities with the Lowest Weather Score** \")\n",
    "print(city_ranking.head(5))\n",
    "\n",
    "# Visualisation du classement en barplot\n",
    "plt.figure(figsize=(12, 6))\n",
    "sns.barplot(\n",
    "    x=\"Weather_Score_jour1\", \n",
    "    y=\"Ville_jour1\", \n",
    "    data=city_ranking.head(10), \n",
    "    palette=\"magma\"\n",
    ")\n",
    "plt.xlabel(\"Weather Score (Sum)\")\n",
    "plt.ylabel(\"Cities\")\n",
    "plt.title(\"Ranking of the Worst Cities Based on the Weather Score\")\n",
    "plt.show()\n"
   ]
  },
  {
   "cell_type": "code",
   "execution_count": null,
   "metadata": {},
   "outputs": [
    {
     "data": {
      "text/html": [
       "<div>\n",
       "<style scoped>\n",
       "    .dataframe tbody tr th:only-of-type {\n",
       "        vertical-align: middle;\n",
       "    }\n",
       "\n",
       "    .dataframe tbody tr th {\n",
       "        vertical-align: top;\n",
       "    }\n",
       "\n",
       "    .dataframe thead th {\n",
       "        text-align: right;\n",
       "    }\n",
       "</style>\n",
       "<table border=\"1\" class=\"dataframe\">\n",
       "  <thead>\n",
       "    <tr style=\"text-align: right;\">\n",
       "      <th></th>\n",
       "      <th>Ville_jour1</th>\n",
       "      <th>Weather_Score_jour1</th>\n",
       "      <th>Latitude_jour1</th>\n",
       "      <th>Longitude_jour1</th>\n",
       "    </tr>\n",
       "  </thead>\n",
       "  <tbody>\n",
       "    <tr>\n",
       "      <th>34</th>\n",
       "      <td>Nice</td>\n",
       "      <td>192370</td>\n",
       "      <td>43.700936</td>\n",
       "      <td>7.268391</td>\n",
       "    </tr>\n",
       "    <tr>\n",
       "      <th>0</th>\n",
       "      <td>Aix-en-Provence</td>\n",
       "      <td>191740</td>\n",
       "      <td>43.529842</td>\n",
       "      <td>5.447474</td>\n",
       "    </tr>\n",
       "    <tr>\n",
       "      <th>6</th>\n",
       "      <td>Arles</td>\n",
       "      <td>190180</td>\n",
       "      <td>43.677622</td>\n",
       "      <td>4.630965</td>\n",
       "    </tr>\n",
       "    <tr>\n",
       "      <th>29</th>\n",
       "      <td>Marseille</td>\n",
       "      <td>188630</td>\n",
       "      <td>43.296174</td>\n",
       "      <td>5.369953</td>\n",
       "    </tr>\n",
       "    <tr>\n",
       "      <th>47</th>\n",
       "      <td>Toulon</td>\n",
       "      <td>187400</td>\n",
       "      <td>43.125731</td>\n",
       "      <td>5.930492</td>\n",
       "    </tr>\n",
       "    <tr>\n",
       "      <th>12</th>\n",
       "      <td>Boulogne-sur-Mer</td>\n",
       "      <td>121190</td>\n",
       "      <td>50.725999</td>\n",
       "      <td>1.611877</td>\n",
       "    </tr>\n",
       "    <tr>\n",
       "      <th>14</th>\n",
       "      <td>Caen</td>\n",
       "      <td>119970</td>\n",
       "      <td>49.181340</td>\n",
       "      <td>-0.363561</td>\n",
       "    </tr>\n",
       "    <tr>\n",
       "      <th>44</th>\n",
       "      <td>Saint-Malo</td>\n",
       "      <td>111530</td>\n",
       "      <td>48.649518</td>\n",
       "      <td>-2.026041</td>\n",
       "    </tr>\n",
       "    <tr>\n",
       "      <th>23</th>\n",
       "      <td>Le Havre</td>\n",
       "      <td>107550</td>\n",
       "      <td>49.493898</td>\n",
       "      <td>0.107973</td>\n",
       "    </tr>\n",
       "    <tr>\n",
       "      <th>13</th>\n",
       "      <td>Brest</td>\n",
       "      <td>99870</td>\n",
       "      <td>48.390528</td>\n",
       "      <td>-4.486009</td>\n",
       "    </tr>\n",
       "  </tbody>\n",
       "</table>\n",
       "</div>"
      ],
      "text/plain": [
       "         Ville_jour1  Weather_Score_jour1  Latitude_jour1  Longitude_jour1\n",
       "34              Nice               192370       43.700936         7.268391\n",
       "0    Aix-en-Provence               191740       43.529842         5.447474\n",
       "6              Arles               190180       43.677622         4.630965\n",
       "29         Marseille               188630       43.296174         5.369953\n",
       "47            Toulon               187400       43.125731         5.930492\n",
       "12  Boulogne-sur-Mer               121190       50.725999         1.611877\n",
       "14              Caen               119970       49.181340        -0.363561\n",
       "44        Saint-Malo               111530       48.649518        -2.026041\n",
       "23          Le Havre               107550       49.493898         0.107973\n",
       "13             Brest                99870       48.390528        -4.486009"
      ]
     },
     "metadata": {},
     "output_type": "display_data"
    }
   ],
   "source": [
    "# Vérifier si les colonnes existent\n",
    "if all(col in all_data.columns for col in [\"Weather_Score_jour1\", \"Latitude_jour1\", \"Longitude_jour1\"]):\n",
    "    \n",
    "    # Calculer le score total pour chaque ville pour le jour 1\n",
    "    city_ranking = all_data.groupby(\"Ville_jour1\", as_index=False).agg({\n",
    "        \"Weather_Score_jour1\": \"sum\",\n",
    "        \"Latitude_jour1\": \"first\",\n",
    "        \"Longitude_jour1\": \"first\"\n",
    "    })\n",
    "    \n",
    "    # Trier les villes par meilleur score\n",
    "    city_ranking = city_ranking.sort_values(by=\"Weather_Score_jour1\", ascending=False)\n",
    "\n",
    "    # Sélectionner les 5 meilleures et les 5 pires villes\n",
    "    top_5_cities = city_ranking.head(5)\n",
    "    worst_5_cities = city_ranking.tail(5)\n",
    "\n",
    "    # Afficher le tableau\n",
    "    display(pd.concat([top_5_cities, worst_5_cities]))\n",
    "\n",
    "else:\n",
    "    print(\"Certaines colonnes nécessaires n'existent pas dans le DataFrame.\")\n"
   ]
  },
  {
   "cell_type": "code",
   "execution_count": 61,
   "metadata": {},
   "outputs": [
    {
     "name": "stderr",
     "output_type": "stream",
     "text": [
      "c:\\Users\\j-bal\\anaconda3\\Lib\\site-packages\\plotly\\express\\_core.py:1979: FutureWarning:\n",
      "\n",
      "When grouping with a length-1 list-like, you will need to pass a length-1 tuple to get_group in a future version of pandas. Pass `(name,)` instead of `name` to silence this warning.\n",
      "\n"
     ]
    },
    {
     "data": {
      "application/vnd.plotly.v1+json": {
       "config": {
        "plotlyServerURL": "https://plot.ly"
       },
       "data": [
        {
         "customdata": [
          [
           192370
          ],
          [
           191740
          ],
          [
           190180
          ],
          [
           188630
          ],
          [
           187400
          ],
          [
           187260
          ],
          [
           186190
          ],
          [
           181870
          ],
          [
           181320
          ],
          [
           164840
          ]
         ],
         "hovertemplate": "<b>%{hovertext}</b><br><br>Category=Top 10<br>Size=%{marker.size}<br>Latitude_jour1=%{lat}<br>Longitude_jour1=%{lon}<br>Weather_Score_jour1=%{customdata[0]}<extra></extra>",
         "hovertext": [
          "Nice",
          "Aix-en-Provence",
          "Arles",
          "Marseille",
          "Toulon",
          "Nîmes",
          "Avignon",
          "Perpignan",
          "Montpellier",
          "Ajaccio"
         ],
         "lat": [
          43.7009358,
          43.5298424,
          43.6776223,
          43.2961743,
          43.1257311,
          43.8374249,
          43.9492493,
          42.6985304,
          43.6112422,
          41.9263991
         ],
         "legendgroup": "Top 10",
         "lon": [
          7.2683912,
          5.4474738,
          4.6309653,
          5.3699525,
          5.9304919,
          4.3600687,
          4.8059012,
          2.8953121,
          3.8767337,
          8.7376029
         ],
         "marker": {
          "color": "red",
          "size": [
           5,
           5,
           5,
           5,
           5,
           5,
           5,
           5,
           5,
           5
          ],
          "sizemode": "area",
          "sizeref": 0.05
         },
         "mode": "markers",
         "name": "Top 10",
         "showlegend": true,
         "subplot": "mapbox",
         "type": "scattermapbox"
        },
        {
         "customdata": [
          [
           132410
          ],
          [
           129560
          ],
          [
           127700
          ],
          [
           125180
          ],
          [
           124670
          ],
          [
           121190
          ],
          [
           119970
          ],
          [
           111530
          ],
          [
           107550
          ],
          [
           99870
          ]
         ],
         "hovertemplate": "<b>%{hovertext}</b><br><br>Category=Worst 10<br>Size=%{marker.size}<br>Latitude_jour1=%{lat}<br>Longitude_jour1=%{lon}<br>Weather_Score_jour1=%{customdata[0]}<extra></extra>",
         "hovertext": [
          "Amiens",
          "Biarritz",
          "Rennes",
          "Rouen",
          "Lille",
          "Boulogne-sur-Mer",
          "Caen",
          "Saint-Malo",
          "Le Havre",
          "Brest"
         ],
         "lat": [
          49.8941708,
          43.4832523,
          48.1113387,
          49.4404591,
          50.6365654,
          50.7259985,
          49.1813403,
          48.649518,
          49.4938975,
          48.3905283
         ],
         "legendgroup": "Worst 10",
         "lon": [
          2.2956951,
          -1.5592776,
          -1.6800198,
          1.0939658,
          3.0635282,
          1.6118771,
          -0.3635615,
          -2.0260409,
          0.1079732,
          -4.4860088
         ],
         "marker": {
          "color": "blue",
          "size": [
           5,
           5,
           5,
           5,
           5,
           5,
           5,
           5,
           5,
           5
          ],
          "sizemode": "area",
          "sizeref": 0.05
         },
         "mode": "markers",
         "name": "Worst 10",
         "showlegend": true,
         "subplot": "mapbox",
         "type": "scattermapbox"
        }
       ],
       "layout": {
        "legend": {
         "itemsizing": "constant",
         "title": {
          "text": "Category"
         },
         "tracegroupgap": 0
        },
        "mapbox": {
         "center": {
          "lat": 46.068011035,
          "lon": 2.569051205
         },
         "domain": {
          "x": [
           0,
           1
          ],
          "y": [
           0,
           1
          ]
         },
         "style": "open-street-map",
         "zoom": 3.5
        },
        "margin": {
         "t": 60
        },
        "template": {
         "data": {
          "bar": [
           {
            "error_x": {
             "color": "#2a3f5f"
            },
            "error_y": {
             "color": "#2a3f5f"
            },
            "marker": {
             "line": {
              "color": "#E5ECF6",
              "width": 0.5
             },
             "pattern": {
              "fillmode": "overlay",
              "size": 10,
              "solidity": 0.2
             }
            },
            "type": "bar"
           }
          ],
          "barpolar": [
           {
            "marker": {
             "line": {
              "color": "#E5ECF6",
              "width": 0.5
             },
             "pattern": {
              "fillmode": "overlay",
              "size": 10,
              "solidity": 0.2
             }
            },
            "type": "barpolar"
           }
          ],
          "carpet": [
           {
            "aaxis": {
             "endlinecolor": "#2a3f5f",
             "gridcolor": "white",
             "linecolor": "white",
             "minorgridcolor": "white",
             "startlinecolor": "#2a3f5f"
            },
            "baxis": {
             "endlinecolor": "#2a3f5f",
             "gridcolor": "white",
             "linecolor": "white",
             "minorgridcolor": "white",
             "startlinecolor": "#2a3f5f"
            },
            "type": "carpet"
           }
          ],
          "choropleth": [
           {
            "colorbar": {
             "outlinewidth": 0,
             "ticks": ""
            },
            "type": "choropleth"
           }
          ],
          "contour": [
           {
            "colorbar": {
             "outlinewidth": 0,
             "ticks": ""
            },
            "colorscale": [
             [
              0,
              "#0d0887"
             ],
             [
              0.1111111111111111,
              "#46039f"
             ],
             [
              0.2222222222222222,
              "#7201a8"
             ],
             [
              0.3333333333333333,
              "#9c179e"
             ],
             [
              0.4444444444444444,
              "#bd3786"
             ],
             [
              0.5555555555555556,
              "#d8576b"
             ],
             [
              0.6666666666666666,
              "#ed7953"
             ],
             [
              0.7777777777777778,
              "#fb9f3a"
             ],
             [
              0.8888888888888888,
              "#fdca26"
             ],
             [
              1,
              "#f0f921"
             ]
            ],
            "type": "contour"
           }
          ],
          "contourcarpet": [
           {
            "colorbar": {
             "outlinewidth": 0,
             "ticks": ""
            },
            "type": "contourcarpet"
           }
          ],
          "heatmap": [
           {
            "colorbar": {
             "outlinewidth": 0,
             "ticks": ""
            },
            "colorscale": [
             [
              0,
              "#0d0887"
             ],
             [
              0.1111111111111111,
              "#46039f"
             ],
             [
              0.2222222222222222,
              "#7201a8"
             ],
             [
              0.3333333333333333,
              "#9c179e"
             ],
             [
              0.4444444444444444,
              "#bd3786"
             ],
             [
              0.5555555555555556,
              "#d8576b"
             ],
             [
              0.6666666666666666,
              "#ed7953"
             ],
             [
              0.7777777777777778,
              "#fb9f3a"
             ],
             [
              0.8888888888888888,
              "#fdca26"
             ],
             [
              1,
              "#f0f921"
             ]
            ],
            "type": "heatmap"
           }
          ],
          "heatmapgl": [
           {
            "colorbar": {
             "outlinewidth": 0,
             "ticks": ""
            },
            "colorscale": [
             [
              0,
              "#0d0887"
             ],
             [
              0.1111111111111111,
              "#46039f"
             ],
             [
              0.2222222222222222,
              "#7201a8"
             ],
             [
              0.3333333333333333,
              "#9c179e"
             ],
             [
              0.4444444444444444,
              "#bd3786"
             ],
             [
              0.5555555555555556,
              "#d8576b"
             ],
             [
              0.6666666666666666,
              "#ed7953"
             ],
             [
              0.7777777777777778,
              "#fb9f3a"
             ],
             [
              0.8888888888888888,
              "#fdca26"
             ],
             [
              1,
              "#f0f921"
             ]
            ],
            "type": "heatmapgl"
           }
          ],
          "histogram": [
           {
            "marker": {
             "pattern": {
              "fillmode": "overlay",
              "size": 10,
              "solidity": 0.2
             }
            },
            "type": "histogram"
           }
          ],
          "histogram2d": [
           {
            "colorbar": {
             "outlinewidth": 0,
             "ticks": ""
            },
            "colorscale": [
             [
              0,
              "#0d0887"
             ],
             [
              0.1111111111111111,
              "#46039f"
             ],
             [
              0.2222222222222222,
              "#7201a8"
             ],
             [
              0.3333333333333333,
              "#9c179e"
             ],
             [
              0.4444444444444444,
              "#bd3786"
             ],
             [
              0.5555555555555556,
              "#d8576b"
             ],
             [
              0.6666666666666666,
              "#ed7953"
             ],
             [
              0.7777777777777778,
              "#fb9f3a"
             ],
             [
              0.8888888888888888,
              "#fdca26"
             ],
             [
              1,
              "#f0f921"
             ]
            ],
            "type": "histogram2d"
           }
          ],
          "histogram2dcontour": [
           {
            "colorbar": {
             "outlinewidth": 0,
             "ticks": ""
            },
            "colorscale": [
             [
              0,
              "#0d0887"
             ],
             [
              0.1111111111111111,
              "#46039f"
             ],
             [
              0.2222222222222222,
              "#7201a8"
             ],
             [
              0.3333333333333333,
              "#9c179e"
             ],
             [
              0.4444444444444444,
              "#bd3786"
             ],
             [
              0.5555555555555556,
              "#d8576b"
             ],
             [
              0.6666666666666666,
              "#ed7953"
             ],
             [
              0.7777777777777778,
              "#fb9f3a"
             ],
             [
              0.8888888888888888,
              "#fdca26"
             ],
             [
              1,
              "#f0f921"
             ]
            ],
            "type": "histogram2dcontour"
           }
          ],
          "mesh3d": [
           {
            "colorbar": {
             "outlinewidth": 0,
             "ticks": ""
            },
            "type": "mesh3d"
           }
          ],
          "parcoords": [
           {
            "line": {
             "colorbar": {
              "outlinewidth": 0,
              "ticks": ""
             }
            },
            "type": "parcoords"
           }
          ],
          "pie": [
           {
            "automargin": true,
            "type": "pie"
           }
          ],
          "scatter": [
           {
            "fillpattern": {
             "fillmode": "overlay",
             "size": 10,
             "solidity": 0.2
            },
            "type": "scatter"
           }
          ],
          "scatter3d": [
           {
            "line": {
             "colorbar": {
              "outlinewidth": 0,
              "ticks": ""
             }
            },
            "marker": {
             "colorbar": {
              "outlinewidth": 0,
              "ticks": ""
             }
            },
            "type": "scatter3d"
           }
          ],
          "scattercarpet": [
           {
            "marker": {
             "colorbar": {
              "outlinewidth": 0,
              "ticks": ""
             }
            },
            "type": "scattercarpet"
           }
          ],
          "scattergeo": [
           {
            "marker": {
             "colorbar": {
              "outlinewidth": 0,
              "ticks": ""
             }
            },
            "type": "scattergeo"
           }
          ],
          "scattergl": [
           {
            "marker": {
             "colorbar": {
              "outlinewidth": 0,
              "ticks": ""
             }
            },
            "type": "scattergl"
           }
          ],
          "scattermapbox": [
           {
            "marker": {
             "colorbar": {
              "outlinewidth": 0,
              "ticks": ""
             }
            },
            "type": "scattermapbox"
           }
          ],
          "scatterpolar": [
           {
            "marker": {
             "colorbar": {
              "outlinewidth": 0,
              "ticks": ""
             }
            },
            "type": "scatterpolar"
           }
          ],
          "scatterpolargl": [
           {
            "marker": {
             "colorbar": {
              "outlinewidth": 0,
              "ticks": ""
             }
            },
            "type": "scatterpolargl"
           }
          ],
          "scatterternary": [
           {
            "marker": {
             "colorbar": {
              "outlinewidth": 0,
              "ticks": ""
             }
            },
            "type": "scatterternary"
           }
          ],
          "surface": [
           {
            "colorbar": {
             "outlinewidth": 0,
             "ticks": ""
            },
            "colorscale": [
             [
              0,
              "#0d0887"
             ],
             [
              0.1111111111111111,
              "#46039f"
             ],
             [
              0.2222222222222222,
              "#7201a8"
             ],
             [
              0.3333333333333333,
              "#9c179e"
             ],
             [
              0.4444444444444444,
              "#bd3786"
             ],
             [
              0.5555555555555556,
              "#d8576b"
             ],
             [
              0.6666666666666666,
              "#ed7953"
             ],
             [
              0.7777777777777778,
              "#fb9f3a"
             ],
             [
              0.8888888888888888,
              "#fdca26"
             ],
             [
              1,
              "#f0f921"
             ]
            ],
            "type": "surface"
           }
          ],
          "table": [
           {
            "cells": {
             "fill": {
              "color": "#EBF0F8"
             },
             "line": {
              "color": "white"
             }
            },
            "header": {
             "fill": {
              "color": "#C8D4E3"
             },
             "line": {
              "color": "white"
             }
            },
            "type": "table"
           }
          ]
         },
         "layout": {
          "annotationdefaults": {
           "arrowcolor": "#2a3f5f",
           "arrowhead": 0,
           "arrowwidth": 1
          },
          "autotypenumbers": "strict",
          "coloraxis": {
           "colorbar": {
            "outlinewidth": 0,
            "ticks": ""
           }
          },
          "colorscale": {
           "diverging": [
            [
             0,
             "#8e0152"
            ],
            [
             0.1,
             "#c51b7d"
            ],
            [
             0.2,
             "#de77ae"
            ],
            [
             0.3,
             "#f1b6da"
            ],
            [
             0.4,
             "#fde0ef"
            ],
            [
             0.5,
             "#f7f7f7"
            ],
            [
             0.6,
             "#e6f5d0"
            ],
            [
             0.7,
             "#b8e186"
            ],
            [
             0.8,
             "#7fbc41"
            ],
            [
             0.9,
             "#4d9221"
            ],
            [
             1,
             "#276419"
            ]
           ],
           "sequential": [
            [
             0,
             "#0d0887"
            ],
            [
             0.1111111111111111,
             "#46039f"
            ],
            [
             0.2222222222222222,
             "#7201a8"
            ],
            [
             0.3333333333333333,
             "#9c179e"
            ],
            [
             0.4444444444444444,
             "#bd3786"
            ],
            [
             0.5555555555555556,
             "#d8576b"
            ],
            [
             0.6666666666666666,
             "#ed7953"
            ],
            [
             0.7777777777777778,
             "#fb9f3a"
            ],
            [
             0.8888888888888888,
             "#fdca26"
            ],
            [
             1,
             "#f0f921"
            ]
           ],
           "sequentialminus": [
            [
             0,
             "#0d0887"
            ],
            [
             0.1111111111111111,
             "#46039f"
            ],
            [
             0.2222222222222222,
             "#7201a8"
            ],
            [
             0.3333333333333333,
             "#9c179e"
            ],
            [
             0.4444444444444444,
             "#bd3786"
            ],
            [
             0.5555555555555556,
             "#d8576b"
            ],
            [
             0.6666666666666666,
             "#ed7953"
            ],
            [
             0.7777777777777778,
             "#fb9f3a"
            ],
            [
             0.8888888888888888,
             "#fdca26"
            ],
            [
             1,
             "#f0f921"
            ]
           ]
          },
          "colorway": [
           "#636efa",
           "#EF553B",
           "#00cc96",
           "#ab63fa",
           "#FFA15A",
           "#19d3f3",
           "#FF6692",
           "#B6E880",
           "#FF97FF",
           "#FECB52"
          ],
          "font": {
           "color": "#2a3f5f"
          },
          "geo": {
           "bgcolor": "white",
           "lakecolor": "white",
           "landcolor": "#E5ECF6",
           "showlakes": true,
           "showland": true,
           "subunitcolor": "white"
          },
          "hoverlabel": {
           "align": "left"
          },
          "hovermode": "closest",
          "mapbox": {
           "style": "light"
          },
          "paper_bgcolor": "white",
          "plot_bgcolor": "#E5ECF6",
          "polar": {
           "angularaxis": {
            "gridcolor": "white",
            "linecolor": "white",
            "ticks": ""
           },
           "bgcolor": "#E5ECF6",
           "radialaxis": {
            "gridcolor": "white",
            "linecolor": "white",
            "ticks": ""
           }
          },
          "scene": {
           "xaxis": {
            "backgroundcolor": "#E5ECF6",
            "gridcolor": "white",
            "gridwidth": 2,
            "linecolor": "white",
            "showbackground": true,
            "ticks": "",
            "zerolinecolor": "white"
           },
           "yaxis": {
            "backgroundcolor": "#E5ECF6",
            "gridcolor": "white",
            "gridwidth": 2,
            "linecolor": "white",
            "showbackground": true,
            "ticks": "",
            "zerolinecolor": "white"
           },
           "zaxis": {
            "backgroundcolor": "#E5ECF6",
            "gridcolor": "white",
            "gridwidth": 2,
            "linecolor": "white",
            "showbackground": true,
            "ticks": "",
            "zerolinecolor": "white"
           }
          },
          "shapedefaults": {
           "line": {
            "color": "#2a3f5f"
           }
          },
          "ternary": {
           "aaxis": {
            "gridcolor": "white",
            "linecolor": "white",
            "ticks": ""
           },
           "baxis": {
            "gridcolor": "white",
            "linecolor": "white",
            "ticks": ""
           },
           "bgcolor": "#E5ECF6",
           "caxis": {
            "gridcolor": "white",
            "linecolor": "white",
            "ticks": ""
           }
          },
          "title": {
           "x": 0.05
          },
          "xaxis": {
           "automargin": true,
           "gridcolor": "white",
           "linecolor": "white",
           "ticks": "",
           "title": {
            "standoff": 15
           },
           "zerolinecolor": "white",
           "zerolinewidth": 2
          },
          "yaxis": {
           "automargin": true,
           "gridcolor": "white",
           "linecolor": "white",
           "ticks": "",
           "title": {
            "standoff": 15
           },
           "zerolinecolor": "white",
           "zerolinewidth": 2
          }
         }
        }
       }
      }
     },
     "metadata": {},
     "output_type": "display_data"
    }
   ],
   "source": [
    "# Vérifier si les colonnes existent\n",
    "if all(col in all_data.columns for col in [\"Weather_Score_jour1\", \"Latitude_jour1\", \"Longitude_jour1\"]):\n",
    "    \n",
    "    # Calculer le score total pour chaque ville pour le jour 1\n",
    "    city_ranking = all_data.groupby(\"Ville_jour1\", as_index=False).agg({\n",
    "        \"Weather_Score_jour1\": \"sum\",\n",
    "        \"Latitude_jour1\": \"first\",\n",
    "        \"Longitude_jour1\": \"first\"\n",
    "    })\n",
    "    \n",
    "    # Trier les villes par meilleur score\n",
    "    city_ranking = city_ranking.sort_values(by=\"Weather_Score_jour1\", ascending=False)\n",
    "\n",
    "    # Sélectionner les 5 meilleures et les 5 pires villes\n",
    "    top_5_cities = city_ranking.head(10).copy()\n",
    "    worst_5_cities = city_ranking.tail(10).copy()\n",
    "\n",
    "    # Ajouter une colonne pour différencier les catégories\n",
    "    top_5_cities[\"Category\"] = \"Top 10\"\n",
    "    worst_5_cities[\"Category\"] = \"Worst 10\"\n",
    "\n",
    "    # Fusionner les deux catégories\n",
    "    top_worst_cities = pd.concat([top_5_cities, worst_5_cities])\n",
    "\n",
    "    # Appliquer une taille uniforme pour toutes les villes\n",
    "    top_worst_cities[\"Size\"] = 5  # Taille fixe pour tous les points\n",
    "\n",
    "    # Définir une palette de couleurs : Rouge pour le Top 5, Bleu pour le Worst 5\n",
    "    color_map = {\"Top 10\": \"red\", \"Worst 10\": \"blue\"}\n",
    "\n",
    "    # Carte interactive des 5 meilleures et 5 pires villes\n",
    "    fig = px.scatter_mapbox(\n",
    "        top_worst_cities,\n",
    "        lat=\"Latitude_jour1\",\n",
    "        lon=\"Longitude_jour1\",\n",
    "        color=\"Category\",  \n",
    "        size=\"Size\",  \n",
    "        hover_name=\"Ville_jour1\",\n",
    "        hover_data={\"Weather_Score_jour1\": True},\n",
    "        mapbox_style=\"open-street-map\",\n",
    "        zoom=3.5,\n",
    "        color_discrete_map=color_map,\n",
    "        size_max=10  \n",
    "    )\n",
    "\n",
    "    fig.show()\n",
    "\n",
    "else:\n",
    "    print(\"Certaines colonnes nécessaires n'existent pas dans le DataFrame.\")\n"
   ]
  },
  {
   "cell_type": "code",
   "execution_count": null,
   "metadata": {},
   "outputs": [
    {
     "data": {
      "text/html": [
       "<div>\n",
       "<style scoped>\n",
       "    .dataframe tbody tr th:only-of-type {\n",
       "        vertical-align: middle;\n",
       "    }\n",
       "\n",
       "    .dataframe tbody tr th {\n",
       "        vertical-align: top;\n",
       "    }\n",
       "\n",
       "    .dataframe thead th {\n",
       "        text-align: right;\n",
       "    }\n",
       "</style>\n",
       "<table border=\"1\" class=\"dataframe\">\n",
       "  <thead>\n",
       "    <tr style=\"text-align: right;\">\n",
       "      <th></th>\n",
       "      <th>Ville_jour1</th>\n",
       "      <th>Latitude_jour1</th>\n",
       "      <th>Longitude_jour1</th>\n",
       "      <th>Date_jour1</th>\n",
       "      <th>Temp_Max_jour1</th>\n",
       "      <th>Temp_Min_jour1</th>\n",
       "      <th>Humidity_jour1</th>\n",
       "      <th>Weather_jour1</th>\n",
       "      <th>Rain_Probability_jour1</th>\n",
       "      <th>Weather_Score_jour1</th>\n",
       "      <th>...</th>\n",
       "      <th>Rain_Probability_jour4</th>\n",
       "      <th>Weather_Score_jour4</th>\n",
       "      <th>Temp_Avg_jour4</th>\n",
       "      <th>Temp_Max_jour5</th>\n",
       "      <th>Temp_Min_jour5</th>\n",
       "      <th>Humidity_jour5</th>\n",
       "      <th>Weather_jour5</th>\n",
       "      <th>Rain_Probability_jour5</th>\n",
       "      <th>Weather_Score_jour5</th>\n",
       "      <th>Temp_Avg_jour5</th>\n",
       "    </tr>\n",
       "  </thead>\n",
       "  <tbody>\n",
       "    <tr>\n",
       "      <th>0</th>\n",
       "      <td>Paris</td>\n",
       "      <td>48.85889</td>\n",
       "      <td>2.320041</td>\n",
       "      <td>2024-12-05 00:00:00</td>\n",
       "      <td>6.76</td>\n",
       "      <td>5.89</td>\n",
       "      <td>90</td>\n",
       "      <td>overcast clouds</td>\n",
       "      <td>0.0</td>\n",
       "      <td>200</td>\n",
       "      <td>...</td>\n",
       "      <td>0.0</td>\n",
       "      <td>200</td>\n",
       "      <td>7.68</td>\n",
       "      <td>6.31</td>\n",
       "      <td>6.31</td>\n",
       "      <td>90</td>\n",
       "      <td>overcast clouds</td>\n",
       "      <td>0.00</td>\n",
       "      <td>200</td>\n",
       "      <td>6.31</td>\n",
       "    </tr>\n",
       "    <tr>\n",
       "      <th>1</th>\n",
       "      <td>Paris</td>\n",
       "      <td>48.85889</td>\n",
       "      <td>2.320041</td>\n",
       "      <td>2024-12-05 00:00:00</td>\n",
       "      <td>6.35</td>\n",
       "      <td>6.05</td>\n",
       "      <td>82</td>\n",
       "      <td>overcast clouds</td>\n",
       "      <td>0.0</td>\n",
       "      <td>200</td>\n",
       "      <td>...</td>\n",
       "      <td>0.0</td>\n",
       "      <td>200</td>\n",
       "      <td>6.81</td>\n",
       "      <td>7.05</td>\n",
       "      <td>7.05</td>\n",
       "      <td>86</td>\n",
       "      <td>overcast clouds</td>\n",
       "      <td>0.00</td>\n",
       "      <td>200</td>\n",
       "      <td>7.05</td>\n",
       "    </tr>\n",
       "    <tr>\n",
       "      <th>2</th>\n",
       "      <td>Paris</td>\n",
       "      <td>48.85889</td>\n",
       "      <td>2.320041</td>\n",
       "      <td>2024-12-05 00:00:00</td>\n",
       "      <td>6.62</td>\n",
       "      <td>6.62</td>\n",
       "      <td>70</td>\n",
       "      <td>overcast clouds</td>\n",
       "      <td>0.0</td>\n",
       "      <td>200</td>\n",
       "      <td>...</td>\n",
       "      <td>0.0</td>\n",
       "      <td>200</td>\n",
       "      <td>6.71</td>\n",
       "      <td>7.53</td>\n",
       "      <td>7.53</td>\n",
       "      <td>79</td>\n",
       "      <td>light rain</td>\n",
       "      <td>0.20</td>\n",
       "      <td>-10</td>\n",
       "      <td>7.53</td>\n",
       "    </tr>\n",
       "    <tr>\n",
       "      <th>3</th>\n",
       "      <td>Paris</td>\n",
       "      <td>48.85889</td>\n",
       "      <td>2.320041</td>\n",
       "      <td>2024-12-05 00:00:00</td>\n",
       "      <td>6.62</td>\n",
       "      <td>6.62</td>\n",
       "      <td>81</td>\n",
       "      <td>light rain</td>\n",
       "      <td>1.0</td>\n",
       "      <td>-10</td>\n",
       "      <td>...</td>\n",
       "      <td>0.0</td>\n",
       "      <td>200</td>\n",
       "      <td>6.78</td>\n",
       "      <td>8.70</td>\n",
       "      <td>8.70</td>\n",
       "      <td>87</td>\n",
       "      <td>light rain</td>\n",
       "      <td>1.00</td>\n",
       "      <td>-10</td>\n",
       "      <td>8.70</td>\n",
       "    </tr>\n",
       "    <tr>\n",
       "      <th>4</th>\n",
       "      <td>Paris</td>\n",
       "      <td>48.85889</td>\n",
       "      <td>2.320041</td>\n",
       "      <td>2024-12-05 00:00:00</td>\n",
       "      <td>7.91</td>\n",
       "      <td>7.91</td>\n",
       "      <td>86</td>\n",
       "      <td>light rain</td>\n",
       "      <td>1.0</td>\n",
       "      <td>-10</td>\n",
       "      <td>...</td>\n",
       "      <td>1.0</td>\n",
       "      <td>-10</td>\n",
       "      <td>6.81</td>\n",
       "      <td>11.84</td>\n",
       "      <td>11.84</td>\n",
       "      <td>65</td>\n",
       "      <td>overcast clouds</td>\n",
       "      <td>0.81</td>\n",
       "      <td>200</td>\n",
       "      <td>11.84</td>\n",
       "    </tr>\n",
       "  </tbody>\n",
       "</table>\n",
       "<p>5 rows × 40 columns</p>\n",
       "</div>"
      ],
      "text/plain": [
       "  Ville_jour1  Latitude_jour1  Longitude_jour1           Date_jour1  \\\n",
       "0       Paris        48.85889         2.320041  2024-12-05 00:00:00   \n",
       "1       Paris        48.85889         2.320041  2024-12-05 00:00:00   \n",
       "2       Paris        48.85889         2.320041  2024-12-05 00:00:00   \n",
       "3       Paris        48.85889         2.320041  2024-12-05 00:00:00   \n",
       "4       Paris        48.85889         2.320041  2024-12-05 00:00:00   \n",
       "\n",
       "   Temp_Max_jour1  Temp_Min_jour1  Humidity_jour1    Weather_jour1  \\\n",
       "0            6.76            5.89              90  overcast clouds   \n",
       "1            6.35            6.05              82  overcast clouds   \n",
       "2            6.62            6.62              70  overcast clouds   \n",
       "3            6.62            6.62              81       light rain   \n",
       "4            7.91            7.91              86       light rain   \n",
       "\n",
       "   Rain_Probability_jour1  Weather_Score_jour1  ...  Rain_Probability_jour4  \\\n",
       "0                     0.0                  200  ...                     0.0   \n",
       "1                     0.0                  200  ...                     0.0   \n",
       "2                     0.0                  200  ...                     0.0   \n",
       "3                     1.0                  -10  ...                     0.0   \n",
       "4                     1.0                  -10  ...                     1.0   \n",
       "\n",
       "  Weather_Score_jour4  Temp_Avg_jour4  Temp_Max_jour5  Temp_Min_jour5  \\\n",
       "0                 200            7.68            6.31            6.31   \n",
       "1                 200            6.81            7.05            7.05   \n",
       "2                 200            6.71            7.53            7.53   \n",
       "3                 200            6.78            8.70            8.70   \n",
       "4                 -10            6.81           11.84           11.84   \n",
       "\n",
       "  Humidity_jour5    Weather_jour5  Rain_Probability_jour5  \\\n",
       "0             90  overcast clouds                    0.00   \n",
       "1             86  overcast clouds                    0.00   \n",
       "2             79       light rain                    0.20   \n",
       "3             87       light rain                    1.00   \n",
       "4             65  overcast clouds                    0.81   \n",
       "\n",
       "   Weather_Score_jour5  Temp_Avg_jour5  \n",
       "0                  200            6.31  \n",
       "1                  200            7.05  \n",
       "2                  -10            7.53  \n",
       "3                  -10            8.70  \n",
       "4                  200           11.84  \n",
       "\n",
       "[5 rows x 40 columns]"
      ]
     },
     "metadata": {},
     "output_type": "display_data"
    }
   ],
   "source": [
    "# filtrer les villes du df all_data pour ne garder que les villes de top_5_cities et worst_5_cities\n",
    "top_flop_df = all_data[all_data[\"Ville_jour1\"].isin(top_worst_cities[\"Ville_jour1\"])]\n",
    "\n",
    "display(top_flop_df.head())"
   ]
  },
  {
   "cell_type": "code",
   "execution_count": null,
   "metadata": {},
   "outputs": [
    {
     "data": {
      "text/plain": [
       "array(['Paris', 'Marseille', 'Toulouse', 'Nice', 'Nantes', 'Montpellier',\n",
       "       'Lille', 'Rennes', 'Le Havre', 'Toulon', 'Nîmes', 'Villeurbanne',\n",
       "       'Le Mans', 'Clermont-Ferrand', 'Brest', 'Aix-en-Provence',\n",
       "       'Amiens', 'Perpignan', 'Boulogne-sur-Mer', 'Biarritz', 'Caen',\n",
       "       'Rouen', 'Avignon', 'Mulhouse', 'Bayonne', 'Saint-Malo', 'Arles',\n",
       "       'Carcassonne', 'Albi', 'Ajaccio'], dtype=object)"
      ]
     },
     "execution_count": 15,
     "metadata": {},
     "output_type": "execute_result"
    }
   ],
   "source": [
    "# voir les villes dans top_flop_df\n",
    "top_flop_df[\"Ville_jour1\"].unique()"
   ]
  },
  {
   "cell_type": "code",
   "execution_count": null,
   "metadata": {},
   "outputs": [
    {
     "data": {
      "text/html": [
       "<div>\n",
       "<style scoped>\n",
       "    .dataframe tbody tr th:only-of-type {\n",
       "        vertical-align: middle;\n",
       "    }\n",
       "\n",
       "    .dataframe tbody tr th {\n",
       "        vertical-align: top;\n",
       "    }\n",
       "\n",
       "    .dataframe thead th {\n",
       "        text-align: right;\n",
       "    }\n",
       "</style>\n",
       "<table border=\"1\" class=\"dataframe\">\n",
       "  <thead>\n",
       "    <tr style=\"text-align: right;\">\n",
       "      <th></th>\n",
       "      <th>Latitude_jour1</th>\n",
       "      <th>Longitude_jour1</th>\n",
       "      <th>Temp_Max_jour1</th>\n",
       "      <th>Temp_Min_jour1</th>\n",
       "      <th>Humidity_jour1</th>\n",
       "      <th>Rain_Probability_jour1</th>\n",
       "      <th>Weather_Score_jour1</th>\n",
       "      <th>Temp_Avg_jour1</th>\n",
       "      <th>Temp_Max_jour2</th>\n",
       "      <th>Temp_Min_jour2</th>\n",
       "      <th>...</th>\n",
       "      <th>Humidity_jour4</th>\n",
       "      <th>Rain_Probability_jour4</th>\n",
       "      <th>Weather_Score_jour4</th>\n",
       "      <th>Temp_Avg_jour4</th>\n",
       "      <th>Temp_Max_jour5</th>\n",
       "      <th>Temp_Min_jour5</th>\n",
       "      <th>Humidity_jour5</th>\n",
       "      <th>Rain_Probability_jour5</th>\n",
       "      <th>Weather_Score_jour5</th>\n",
       "      <th>Temp_Avg_jour5</th>\n",
       "    </tr>\n",
       "  </thead>\n",
       "  <tbody>\n",
       "    <tr>\n",
       "      <th>count</th>\n",
       "      <td>15600.000000</td>\n",
       "      <td>15600.000000</td>\n",
       "      <td>15600.000000</td>\n",
       "      <td>15600.000000</td>\n",
       "      <td>15600.000000</td>\n",
       "      <td>15600.000000</td>\n",
       "      <td>15600.000000</td>\n",
       "      <td>15600.000000</td>\n",
       "      <td>15600.000000</td>\n",
       "      <td>15600.000000</td>\n",
       "      <td>...</td>\n",
       "      <td>15600.000000</td>\n",
       "      <td>15600.000000</td>\n",
       "      <td>15600.000000</td>\n",
       "      <td>15600.000000</td>\n",
       "      <td>15600.000000</td>\n",
       "      <td>15600.000000</td>\n",
       "      <td>15600.000000</td>\n",
       "      <td>15600.000000</td>\n",
       "      <td>15600.000000</td>\n",
       "      <td>15600.000000</td>\n",
       "    </tr>\n",
       "    <tr>\n",
       "      <th>mean</th>\n",
       "      <td>45.966023</td>\n",
       "      <td>2.404157</td>\n",
       "      <td>7.443613</td>\n",
       "      <td>7.251962</td>\n",
       "      <td>76.193718</td>\n",
       "      <td>0.181978</td>\n",
       "      <td>289.644872</td>\n",
       "      <td>7.347788</td>\n",
       "      <td>7.312997</td>\n",
       "      <td>7.312997</td>\n",
       "      <td>...</td>\n",
       "      <td>75.893718</td>\n",
       "      <td>0.161856</td>\n",
       "      <td>302.953205</td>\n",
       "      <td>7.178498</td>\n",
       "      <td>7.074846</td>\n",
       "      <td>7.074846</td>\n",
       "      <td>75.511795</td>\n",
       "      <td>0.147351</td>\n",
       "      <td>313.664103</td>\n",
       "      <td>7.074846</td>\n",
       "    </tr>\n",
       "    <tr>\n",
       "      <th>std</th>\n",
       "      <td>2.781005</td>\n",
       "      <td>3.130539</td>\n",
       "      <td>3.682536</td>\n",
       "      <td>3.740413</td>\n",
       "      <td>14.130169</td>\n",
       "      <td>0.354903</td>\n",
       "      <td>222.437849</td>\n",
       "      <td>3.703214</td>\n",
       "      <td>3.636444</td>\n",
       "      <td>3.636444</td>\n",
       "      <td>...</td>\n",
       "      <td>14.051689</td>\n",
       "      <td>0.337297</td>\n",
       "      <td>224.361399</td>\n",
       "      <td>3.672670</td>\n",
       "      <td>3.722132</td>\n",
       "      <td>3.722132</td>\n",
       "      <td>13.949760</td>\n",
       "      <td>0.324697</td>\n",
       "      <td>221.717642</td>\n",
       "      <td>3.722132</td>\n",
       "    </tr>\n",
       "    <tr>\n",
       "      <th>min</th>\n",
       "      <td>41.926399</td>\n",
       "      <td>-4.486009</td>\n",
       "      <td>-5.410000</td>\n",
       "      <td>-6.320000</td>\n",
       "      <td>18.000000</td>\n",
       "      <td>0.000000</td>\n",
       "      <td>-40.000000</td>\n",
       "      <td>-5.790000</td>\n",
       "      <td>-4.520000</td>\n",
       "      <td>-4.520000</td>\n",
       "      <td>...</td>\n",
       "      <td>18.000000</td>\n",
       "      <td>0.000000</td>\n",
       "      <td>-40.000000</td>\n",
       "      <td>-4.080000</td>\n",
       "      <td>-5.470000</td>\n",
       "      <td>-5.470000</td>\n",
       "      <td>18.000000</td>\n",
       "      <td>0.000000</td>\n",
       "      <td>-40.000000</td>\n",
       "      <td>-5.470000</td>\n",
       "    </tr>\n",
       "    <tr>\n",
       "      <th>25%</th>\n",
       "      <td>43.529842</td>\n",
       "      <td>0.107973</td>\n",
       "      <td>4.890000</td>\n",
       "      <td>4.660000</td>\n",
       "      <td>67.000000</td>\n",
       "      <td>0.000000</td>\n",
       "      <td>200.000000</td>\n",
       "      <td>4.770000</td>\n",
       "      <td>4.780000</td>\n",
       "      <td>4.780000</td>\n",
       "      <td>...</td>\n",
       "      <td>67.000000</td>\n",
       "      <td>0.000000</td>\n",
       "      <td>200.000000</td>\n",
       "      <td>4.597500</td>\n",
       "      <td>4.440000</td>\n",
       "      <td>4.440000</td>\n",
       "      <td>67.000000</td>\n",
       "      <td>0.000000</td>\n",
       "      <td>200.000000</td>\n",
       "      <td>4.440000</td>\n",
       "    </tr>\n",
       "    <tr>\n",
       "      <th>50%</th>\n",
       "      <td>44.861303</td>\n",
       "      <td>2.348749</td>\n",
       "      <td>7.610000</td>\n",
       "      <td>7.440000</td>\n",
       "      <td>79.000000</td>\n",
       "      <td>0.000000</td>\n",
       "      <td>300.000000</td>\n",
       "      <td>7.520000</td>\n",
       "      <td>7.510000</td>\n",
       "      <td>7.510000</td>\n",
       "      <td>...</td>\n",
       "      <td>78.000000</td>\n",
       "      <td>0.000000</td>\n",
       "      <td>300.000000</td>\n",
       "      <td>7.320000</td>\n",
       "      <td>7.275000</td>\n",
       "      <td>7.275000</td>\n",
       "      <td>78.000000</td>\n",
       "      <td>0.000000</td>\n",
       "      <td>300.000000</td>\n",
       "      <td>7.275000</td>\n",
       "    </tr>\n",
       "    <tr>\n",
       "      <th>75%</th>\n",
       "      <td>48.649518</td>\n",
       "      <td>4.805901</td>\n",
       "      <td>10.280000</td>\n",
       "      <td>10.110000</td>\n",
       "      <td>87.000000</td>\n",
       "      <td>0.140000</td>\n",
       "      <td>500.000000</td>\n",
       "      <td>10.175000</td>\n",
       "      <td>10.080000</td>\n",
       "      <td>10.080000</td>\n",
       "      <td>...</td>\n",
       "      <td>87.000000</td>\n",
       "      <td>0.000000</td>\n",
       "      <td>600.000000</td>\n",
       "      <td>9.920000</td>\n",
       "      <td>9.820000</td>\n",
       "      <td>9.820000</td>\n",
       "      <td>87.000000</td>\n",
       "      <td>0.000000</td>\n",
       "      <td>600.000000</td>\n",
       "      <td>9.820000</td>\n",
       "    </tr>\n",
       "    <tr>\n",
       "      <th>max</th>\n",
       "      <td>50.725999</td>\n",
       "      <td>8.737603</td>\n",
       "      <td>18.670000</td>\n",
       "      <td>18.670000</td>\n",
       "      <td>105.000000</td>\n",
       "      <td>1.000000</td>\n",
       "      <td>600.000000</td>\n",
       "      <td>18.670000</td>\n",
       "      <td>17.880000</td>\n",
       "      <td>17.880000</td>\n",
       "      <td>...</td>\n",
       "      <td>100.000000</td>\n",
       "      <td>1.000000</td>\n",
       "      <td>600.000000</td>\n",
       "      <td>18.990000</td>\n",
       "      <td>20.460000</td>\n",
       "      <td>20.460000</td>\n",
       "      <td>101.000000</td>\n",
       "      <td>1.000000</td>\n",
       "      <td>600.000000</td>\n",
       "      <td>20.460000</td>\n",
       "    </tr>\n",
       "  </tbody>\n",
       "</table>\n",
       "<p>8 rows × 32 columns</p>\n",
       "</div>"
      ],
      "text/plain": [
       "       Latitude_jour1  Longitude_jour1  Temp_Max_jour1  Temp_Min_jour1  \\\n",
       "count    15600.000000     15600.000000    15600.000000    15600.000000   \n",
       "mean        45.966023         2.404157        7.443613        7.251962   \n",
       "std          2.781005         3.130539        3.682536        3.740413   \n",
       "min         41.926399        -4.486009       -5.410000       -6.320000   \n",
       "25%         43.529842         0.107973        4.890000        4.660000   \n",
       "50%         44.861303         2.348749        7.610000        7.440000   \n",
       "75%         48.649518         4.805901       10.280000       10.110000   \n",
       "max         50.725999         8.737603       18.670000       18.670000   \n",
       "\n",
       "       Humidity_jour1  Rain_Probability_jour1  Weather_Score_jour1  \\\n",
       "count    15600.000000            15600.000000         15600.000000   \n",
       "mean        76.193718                0.181978           289.644872   \n",
       "std         14.130169                0.354903           222.437849   \n",
       "min         18.000000                0.000000           -40.000000   \n",
       "25%         67.000000                0.000000           200.000000   \n",
       "50%         79.000000                0.000000           300.000000   \n",
       "75%         87.000000                0.140000           500.000000   \n",
       "max        105.000000                1.000000           600.000000   \n",
       "\n",
       "       Temp_Avg_jour1  Temp_Max_jour2  Temp_Min_jour2  ...  Humidity_jour4  \\\n",
       "count    15600.000000    15600.000000    15600.000000  ...    15600.000000   \n",
       "mean         7.347788        7.312997        7.312997  ...       75.893718   \n",
       "std          3.703214        3.636444        3.636444  ...       14.051689   \n",
       "min         -5.790000       -4.520000       -4.520000  ...       18.000000   \n",
       "25%          4.770000        4.780000        4.780000  ...       67.000000   \n",
       "50%          7.520000        7.510000        7.510000  ...       78.000000   \n",
       "75%         10.175000       10.080000       10.080000  ...       87.000000   \n",
       "max         18.670000       17.880000       17.880000  ...      100.000000   \n",
       "\n",
       "       Rain_Probability_jour4  Weather_Score_jour4  Temp_Avg_jour4  \\\n",
       "count            15600.000000         15600.000000    15600.000000   \n",
       "mean                 0.161856           302.953205        7.178498   \n",
       "std                  0.337297           224.361399        3.672670   \n",
       "min                  0.000000           -40.000000       -4.080000   \n",
       "25%                  0.000000           200.000000        4.597500   \n",
       "50%                  0.000000           300.000000        7.320000   \n",
       "75%                  0.000000           600.000000        9.920000   \n",
       "max                  1.000000           600.000000       18.990000   \n",
       "\n",
       "       Temp_Max_jour5  Temp_Min_jour5  Humidity_jour5  Rain_Probability_jour5  \\\n",
       "count    15600.000000    15600.000000    15600.000000            15600.000000   \n",
       "mean         7.074846        7.074846       75.511795                0.147351   \n",
       "std          3.722132        3.722132       13.949760                0.324697   \n",
       "min         -5.470000       -5.470000       18.000000                0.000000   \n",
       "25%          4.440000        4.440000       67.000000                0.000000   \n",
       "50%          7.275000        7.275000       78.000000                0.000000   \n",
       "75%          9.820000        9.820000       87.000000                0.000000   \n",
       "max         20.460000       20.460000      101.000000                1.000000   \n",
       "\n",
       "       Weather_Score_jour5  Temp_Avg_jour5  \n",
       "count         15600.000000    15600.000000  \n",
       "mean            313.664103        7.074846  \n",
       "std             221.717642        3.722132  \n",
       "min             -40.000000       -5.470000  \n",
       "25%             200.000000        4.440000  \n",
       "50%             300.000000        7.275000  \n",
       "75%             600.000000        9.820000  \n",
       "max             600.000000       20.460000  \n",
       "\n",
       "[8 rows x 32 columns]"
      ]
     },
     "execution_count": 16,
     "metadata": {},
     "output_type": "execute_result"
    }
   ],
   "source": [
    "top_flop_df.describe()"
   ]
  },
  {
   "cell_type": "code",
   "execution_count": null,
   "metadata": {},
   "outputs": [
    {
     "data": {
      "text/plain": [
       "Weather_jour1\n",
       "overcast clouds         4017\n",
       "clear sky               3616\n",
       "light rain              3140\n",
       "broken clouds           2046\n",
       "scattered clouds        1351\n",
       "few clouds               869\n",
       "moderate rain            440\n",
       "light snow                89\n",
       "snow                      30\n",
       "heavy intensity rain       2\n",
       "Name: count, dtype: int64"
      ]
     },
     "execution_count": 17,
     "metadata": {},
     "output_type": "execute_result"
    }
   ],
   "source": [
    "# Quelle ville a le plus de clear sky ?\n",
    "top_flop_df[\"Weather_jour1\"].value_counts()"
   ]
  },
  {
   "cell_type": "code",
   "execution_count": null,
   "metadata": {
    "vscode": {
     "languageId": "ruby"
    }
   },
   "outputs": [
    {
     "name": "stdout",
     "output_type": "stream",
     "text": [
      "La ville avec le plus de jours de 'clear sky' est Nice avec 211 occurences.\n"
     ]
    }
   ],
   "source": [
    "# Compter le nombre de jours avec \"clear sky\" pour chaque ville\n",
    "clear_sky_counts = top_flop_df[top_flop_df[\"Weather_jour1\"] == \"clear sky\"][\"Ville_jour1\"].value_counts()\n",
    "\n",
    "# Trouver la ville avec le plus de jours de \"clear sky\"\n",
    "most_clear_sky_city = clear_sky_counts.idxmax()\n",
    "most_clear_sky_count = clear_sky_counts.max()\n",
    "\n",
    "print(f\"La ville avec le plus de jours de 'clear sky' est {most_clear_sky_city} avec {most_clear_sky_count} occurences.\")"
   ]
  },
  {
   "cell_type": "code",
   "execution_count": null,
   "metadata": {},
   "outputs": [
    {
     "name": "stdout",
     "output_type": "stream",
     "text": [
      "La ville avec le plus de jours de neige est Clermont-Ferrand avec 9 occurences.\n"
     ]
    }
   ],
   "source": [
    "# compter le nombre de jours avec \"snow\" pour chaque ville\n",
    "snow_counts = top_flop_df[top_flop_df[\"Weather_jour1\"] == \"snow\"][\"Ville_jour1\"].value_counts()\n",
    "\n",
    "most_snow_city = snow_counts.idxmax()\n",
    "most_snow_count = snow_counts.max()\n",
    "\n",
    "print(f\"La ville avec le plus de jours de neige est {most_snow_city} avec {most_snow_count} occurences.\")"
   ]
  },
  {
   "cell_type": "code",
   "execution_count": null,
   "metadata": {},
   "outputs": [
    {
     "data": {
      "text/plain": [
       "Date_jour1\n",
       "2024-12-08 00:00:00    4\n",
       "2024-12-09 00:00:00    2\n",
       "2024-12-22 00:00:00    1\n",
       "2025-01-03 00:00:00    1\n",
       "2025-01-10 00:00:00    1\n",
       "Name: count, dtype: int64"
      ]
     },
     "execution_count": 20,
     "metadata": {},
     "output_type": "execute_result"
    }
   ],
   "source": [
    "# date ou Boulogne-sur-Mer a eu de la neige\n",
    "snow_dates = top_flop_df[(top_flop_df[\"Ville_jour1\"] == most_snow_city) & (top_flop_df[\"Weather_jour1\"] == \"snow\")][\"Date_jour1\"]\n",
    "snow_dates.value_counts()"
   ]
  },
  {
   "cell_type": "code",
   "execution_count": null,
   "metadata": {},
   "outputs": [],
   "source": [
    "# Afficher toutes les colonnes\n",
    "pd.set_option(\"display.max_columns\", None)"
   ]
  },
  {
   "cell_type": "code",
   "execution_count": null,
   "metadata": {},
   "outputs": [
    {
     "data": {
      "text/html": [
       "<div>\n",
       "<style scoped>\n",
       "    .dataframe tbody tr th:only-of-type {\n",
       "        vertical-align: middle;\n",
       "    }\n",
       "\n",
       "    .dataframe tbody tr th {\n",
       "        vertical-align: top;\n",
       "    }\n",
       "\n",
       "    .dataframe thead th {\n",
       "        text-align: right;\n",
       "    }\n",
       "</style>\n",
       "<table border=\"1\" class=\"dataframe\">\n",
       "  <thead>\n",
       "    <tr style=\"text-align: right;\">\n",
       "      <th></th>\n",
       "      <th>Ville_jour1</th>\n",
       "      <th>Latitude_jour1</th>\n",
       "      <th>Longitude_jour1</th>\n",
       "      <th>Date_jour1</th>\n",
       "      <th>Temp_Max_jour1</th>\n",
       "      <th>Temp_Min_jour1</th>\n",
       "      <th>Humidity_jour1</th>\n",
       "      <th>Weather_jour1</th>\n",
       "      <th>Rain_Probability_jour1</th>\n",
       "      <th>Weather_Score_jour1</th>\n",
       "      <th>Temp_Avg_jour1</th>\n",
       "      <th>Run_Date_jour1</th>\n",
       "      <th>Temp_Max_jour2</th>\n",
       "      <th>Temp_Min_jour2</th>\n",
       "      <th>Humidity_jour2</th>\n",
       "      <th>Weather_jour2</th>\n",
       "      <th>Rain_Probability_jour2</th>\n",
       "      <th>Weather_Score_jour2</th>\n",
       "      <th>Temp_Avg_jour2</th>\n",
       "      <th>Temp_Max_jour3</th>\n",
       "      <th>Temp_Min_jour3</th>\n",
       "      <th>Humidity_jour3</th>\n",
       "      <th>Weather_jour3</th>\n",
       "      <th>Rain_Probability_jour3</th>\n",
       "      <th>Weather_Score_jour3</th>\n",
       "      <th>Temp_Avg_jour3</th>\n",
       "      <th>Temp_Max_jour4</th>\n",
       "      <th>Temp_Min_jour4</th>\n",
       "      <th>Humidity_jour4</th>\n",
       "      <th>Weather_jour4</th>\n",
       "      <th>Rain_Probability_jour4</th>\n",
       "      <th>Weather_Score_jour4</th>\n",
       "      <th>Temp_Avg_jour4</th>\n",
       "      <th>Temp_Max_jour5</th>\n",
       "      <th>Temp_Min_jour5</th>\n",
       "      <th>Humidity_jour5</th>\n",
       "      <th>Weather_jour5</th>\n",
       "      <th>Rain_Probability_jour5</th>\n",
       "      <th>Weather_Score_jour5</th>\n",
       "      <th>Temp_Avg_jour5</th>\n",
       "    </tr>\n",
       "  </thead>\n",
       "  <tbody>\n",
       "    <tr>\n",
       "      <th>13824</th>\n",
       "      <td>Boulogne-sur-Mer</td>\n",
       "      <td>50.725999</td>\n",
       "      <td>1.611877</td>\n",
       "      <td>2025-01-08 00:00:00</td>\n",
       "      <td>5.13</td>\n",
       "      <td>3.15</td>\n",
       "      <td>82</td>\n",
       "      <td>scattered clouds</td>\n",
       "      <td>0.0</td>\n",
       "      <td>400</td>\n",
       "      <td>4.14</td>\n",
       "      <td>2025-01-07</td>\n",
       "      <td>5.28</td>\n",
       "      <td>5.28</td>\n",
       "      <td>66</td>\n",
       "      <td>few clouds</td>\n",
       "      <td>0.0</td>\n",
       "      <td>500</td>\n",
       "      <td>5.28</td>\n",
       "      <td>5.39</td>\n",
       "      <td>5.39</td>\n",
       "      <td>69</td>\n",
       "      <td>light rain</td>\n",
       "      <td>0.20</td>\n",
       "      <td>-10</td>\n",
       "      <td>5.39</td>\n",
       "      <td>5.10</td>\n",
       "      <td>5.10</td>\n",
       "      <td>61</td>\n",
       "      <td>clear sky</td>\n",
       "      <td>0.0</td>\n",
       "      <td>600</td>\n",
       "      <td>5.10</td>\n",
       "      <td>4.72</td>\n",
       "      <td>4.72</td>\n",
       "      <td>66</td>\n",
       "      <td>clear sky</td>\n",
       "      <td>0.0</td>\n",
       "      <td>600</td>\n",
       "      <td>4.72</td>\n",
       "    </tr>\n",
       "    <tr>\n",
       "      <th>13825</th>\n",
       "      <td>Boulogne-sur-Mer</td>\n",
       "      <td>50.725999</td>\n",
       "      <td>1.611877</td>\n",
       "      <td>2025-01-08 00:00:00</td>\n",
       "      <td>4.75</td>\n",
       "      <td>3.89</td>\n",
       "      <td>74</td>\n",
       "      <td>broken clouds</td>\n",
       "      <td>0.0</td>\n",
       "      <td>300</td>\n",
       "      <td>4.32</td>\n",
       "      <td>2025-01-07</td>\n",
       "      <td>4.52</td>\n",
       "      <td>4.52</td>\n",
       "      <td>66</td>\n",
       "      <td>scattered clouds</td>\n",
       "      <td>0.0</td>\n",
       "      <td>400</td>\n",
       "      <td>4.52</td>\n",
       "      <td>4.68</td>\n",
       "      <td>4.68</td>\n",
       "      <td>61</td>\n",
       "      <td>scattered clouds</td>\n",
       "      <td>0.00</td>\n",
       "      <td>400</td>\n",
       "      <td>4.68</td>\n",
       "      <td>4.63</td>\n",
       "      <td>4.63</td>\n",
       "      <td>65</td>\n",
       "      <td>clear sky</td>\n",
       "      <td>0.0</td>\n",
       "      <td>600</td>\n",
       "      <td>4.63</td>\n",
       "      <td>4.68</td>\n",
       "      <td>4.68</td>\n",
       "      <td>62</td>\n",
       "      <td>few clouds</td>\n",
       "      <td>0.0</td>\n",
       "      <td>500</td>\n",
       "      <td>4.68</td>\n",
       "    </tr>\n",
       "    <tr>\n",
       "      <th>13826</th>\n",
       "      <td>Boulogne-sur-Mer</td>\n",
       "      <td>50.725999</td>\n",
       "      <td>1.611877</td>\n",
       "      <td>2025-01-08 00:00:00</td>\n",
       "      <td>4.45</td>\n",
       "      <td>4.45</td>\n",
       "      <td>66</td>\n",
       "      <td>overcast clouds</td>\n",
       "      <td>0.0</td>\n",
       "      <td>200</td>\n",
       "      <td>4.45</td>\n",
       "      <td>2025-01-07</td>\n",
       "      <td>4.21</td>\n",
       "      <td>4.21</td>\n",
       "      <td>66</td>\n",
       "      <td>broken clouds</td>\n",
       "      <td>0.0</td>\n",
       "      <td>300</td>\n",
       "      <td>4.21</td>\n",
       "      <td>4.14</td>\n",
       "      <td>4.14</td>\n",
       "      <td>66</td>\n",
       "      <td>broken clouds</td>\n",
       "      <td>0.00</td>\n",
       "      <td>300</td>\n",
       "      <td>4.14</td>\n",
       "      <td>4.47</td>\n",
       "      <td>4.47</td>\n",
       "      <td>63</td>\n",
       "      <td>broken clouds</td>\n",
       "      <td>0.0</td>\n",
       "      <td>300</td>\n",
       "      <td>4.47</td>\n",
       "      <td>4.62</td>\n",
       "      <td>4.62</td>\n",
       "      <td>63</td>\n",
       "      <td>scattered clouds</td>\n",
       "      <td>0.0</td>\n",
       "      <td>400</td>\n",
       "      <td>4.62</td>\n",
       "    </tr>\n",
       "    <tr>\n",
       "      <th>13827</th>\n",
       "      <td>Boulogne-sur-Mer</td>\n",
       "      <td>50.725999</td>\n",
       "      <td>1.611877</td>\n",
       "      <td>2025-01-08 00:00:00</td>\n",
       "      <td>4.41</td>\n",
       "      <td>4.41</td>\n",
       "      <td>67</td>\n",
       "      <td>overcast clouds</td>\n",
       "      <td>0.0</td>\n",
       "      <td>200</td>\n",
       "      <td>4.41</td>\n",
       "      <td>2025-01-07</td>\n",
       "      <td>4.36</td>\n",
       "      <td>4.36</td>\n",
       "      <td>65</td>\n",
       "      <td>overcast clouds</td>\n",
       "      <td>0.0</td>\n",
       "      <td>200</td>\n",
       "      <td>4.36</td>\n",
       "      <td>4.55</td>\n",
       "      <td>4.55</td>\n",
       "      <td>62</td>\n",
       "      <td>overcast clouds</td>\n",
       "      <td>0.00</td>\n",
       "      <td>200</td>\n",
       "      <td>4.55</td>\n",
       "      <td>4.25</td>\n",
       "      <td>4.25</td>\n",
       "      <td>63</td>\n",
       "      <td>broken clouds</td>\n",
       "      <td>0.0</td>\n",
       "      <td>300</td>\n",
       "      <td>4.25</td>\n",
       "      <td>4.50</td>\n",
       "      <td>4.50</td>\n",
       "      <td>65</td>\n",
       "      <td>broken clouds</td>\n",
       "      <td>0.0</td>\n",
       "      <td>300</td>\n",
       "      <td>4.50</td>\n",
       "    </tr>\n",
       "    <tr>\n",
       "      <th>13828</th>\n",
       "      <td>Boulogne-sur-Mer</td>\n",
       "      <td>50.725999</td>\n",
       "      <td>1.611877</td>\n",
       "      <td>2025-01-08 00:00:00</td>\n",
       "      <td>4.88</td>\n",
       "      <td>4.88</td>\n",
       "      <td>71</td>\n",
       "      <td>overcast clouds</td>\n",
       "      <td>0.0</td>\n",
       "      <td>200</td>\n",
       "      <td>4.88</td>\n",
       "      <td>2025-01-07</td>\n",
       "      <td>3.91</td>\n",
       "      <td>3.91</td>\n",
       "      <td>78</td>\n",
       "      <td>light rain</td>\n",
       "      <td>0.2</td>\n",
       "      <td>-10</td>\n",
       "      <td>3.91</td>\n",
       "      <td>5.16</td>\n",
       "      <td>5.16</td>\n",
       "      <td>61</td>\n",
       "      <td>overcast clouds</td>\n",
       "      <td>0.00</td>\n",
       "      <td>200</td>\n",
       "      <td>5.16</td>\n",
       "      <td>5.33</td>\n",
       "      <td>5.33</td>\n",
       "      <td>59</td>\n",
       "      <td>broken clouds</td>\n",
       "      <td>0.0</td>\n",
       "      <td>300</td>\n",
       "      <td>5.33</td>\n",
       "      <td>4.96</td>\n",
       "      <td>4.96</td>\n",
       "      <td>76</td>\n",
       "      <td>broken clouds</td>\n",
       "      <td>0.0</td>\n",
       "      <td>300</td>\n",
       "      <td>4.96</td>\n",
       "    </tr>\n",
       "    <tr>\n",
       "      <th>13829</th>\n",
       "      <td>Boulogne-sur-Mer</td>\n",
       "      <td>50.725999</td>\n",
       "      <td>1.611877</td>\n",
       "      <td>2025-01-08 00:00:00</td>\n",
       "      <td>1.78</td>\n",
       "      <td>1.78</td>\n",
       "      <td>98</td>\n",
       "      <td>snow</td>\n",
       "      <td>1.0</td>\n",
       "      <td>-40</td>\n",
       "      <td>1.78</td>\n",
       "      <td>2025-01-07</td>\n",
       "      <td>1.75</td>\n",
       "      <td>1.75</td>\n",
       "      <td>99</td>\n",
       "      <td>snow</td>\n",
       "      <td>1.0</td>\n",
       "      <td>-40</td>\n",
       "      <td>1.75</td>\n",
       "      <td>3.22</td>\n",
       "      <td>3.22</td>\n",
       "      <td>86</td>\n",
       "      <td>light snow</td>\n",
       "      <td>0.29</td>\n",
       "      <td>-20</td>\n",
       "      <td>3.22</td>\n",
       "      <td>4.73</td>\n",
       "      <td>4.73</td>\n",
       "      <td>63</td>\n",
       "      <td>overcast clouds</td>\n",
       "      <td>0.0</td>\n",
       "      <td>200</td>\n",
       "      <td>4.73</td>\n",
       "      <td>4.30</td>\n",
       "      <td>4.30</td>\n",
       "      <td>76</td>\n",
       "      <td>overcast clouds</td>\n",
       "      <td>0.0</td>\n",
       "      <td>200</td>\n",
       "      <td>4.30</td>\n",
       "    </tr>\n",
       "    <tr>\n",
       "      <th>13830</th>\n",
       "      <td>Boulogne-sur-Mer</td>\n",
       "      <td>50.725999</td>\n",
       "      <td>1.611877</td>\n",
       "      <td>2025-01-08 00:00:00</td>\n",
       "      <td>1.73</td>\n",
       "      <td>1.73</td>\n",
       "      <td>98</td>\n",
       "      <td>snow</td>\n",
       "      <td>1.0</td>\n",
       "      <td>-40</td>\n",
       "      <td>1.73</td>\n",
       "      <td>2025-01-07</td>\n",
       "      <td>1.77</td>\n",
       "      <td>1.77</td>\n",
       "      <td>98</td>\n",
       "      <td>snow</td>\n",
       "      <td>1.0</td>\n",
       "      <td>-40</td>\n",
       "      <td>1.77</td>\n",
       "      <td>1.78</td>\n",
       "      <td>1.78</td>\n",
       "      <td>96</td>\n",
       "      <td>snow</td>\n",
       "      <td>1.00</td>\n",
       "      <td>-40</td>\n",
       "      <td>1.78</td>\n",
       "      <td>3.89</td>\n",
       "      <td>3.89</td>\n",
       "      <td>69</td>\n",
       "      <td>overcast clouds</td>\n",
       "      <td>0.0</td>\n",
       "      <td>200</td>\n",
       "      <td>3.89</td>\n",
       "      <td>3.30</td>\n",
       "      <td>3.30</td>\n",
       "      <td>80</td>\n",
       "      <td>overcast clouds</td>\n",
       "      <td>0.0</td>\n",
       "      <td>200</td>\n",
       "      <td>3.30</td>\n",
       "    </tr>\n",
       "    <tr>\n",
       "      <th>13831</th>\n",
       "      <td>Boulogne-sur-Mer</td>\n",
       "      <td>50.725999</td>\n",
       "      <td>1.611877</td>\n",
       "      <td>2025-01-08 00:00:00</td>\n",
       "      <td>1.94</td>\n",
       "      <td>1.94</td>\n",
       "      <td>98</td>\n",
       "      <td>snow</td>\n",
       "      <td>1.0</td>\n",
       "      <td>-40</td>\n",
       "      <td>1.94</td>\n",
       "      <td>2025-01-07</td>\n",
       "      <td>1.92</td>\n",
       "      <td>1.92</td>\n",
       "      <td>97</td>\n",
       "      <td>snow</td>\n",
       "      <td>1.0</td>\n",
       "      <td>-40</td>\n",
       "      <td>1.92</td>\n",
       "      <td>1.98</td>\n",
       "      <td>1.98</td>\n",
       "      <td>92</td>\n",
       "      <td>light snow</td>\n",
       "      <td>1.00</td>\n",
       "      <td>-20</td>\n",
       "      <td>1.98</td>\n",
       "      <td>2.01</td>\n",
       "      <td>2.01</td>\n",
       "      <td>88</td>\n",
       "      <td>light snow</td>\n",
       "      <td>0.2</td>\n",
       "      <td>-20</td>\n",
       "      <td>2.01</td>\n",
       "      <td>2.33</td>\n",
       "      <td>2.33</td>\n",
       "      <td>90</td>\n",
       "      <td>light snow</td>\n",
       "      <td>1.0</td>\n",
       "      <td>-20</td>\n",
       "      <td>2.33</td>\n",
       "    </tr>\n",
       "  </tbody>\n",
       "</table>\n",
       "</div>"
      ],
      "text/plain": [
       "            Ville_jour1  Latitude_jour1  Longitude_jour1           Date_jour1  \\\n",
       "13824  Boulogne-sur-Mer       50.725999         1.611877  2025-01-08 00:00:00   \n",
       "13825  Boulogne-sur-Mer       50.725999         1.611877  2025-01-08 00:00:00   \n",
       "13826  Boulogne-sur-Mer       50.725999         1.611877  2025-01-08 00:00:00   \n",
       "13827  Boulogne-sur-Mer       50.725999         1.611877  2025-01-08 00:00:00   \n",
       "13828  Boulogne-sur-Mer       50.725999         1.611877  2025-01-08 00:00:00   \n",
       "13829  Boulogne-sur-Mer       50.725999         1.611877  2025-01-08 00:00:00   \n",
       "13830  Boulogne-sur-Mer       50.725999         1.611877  2025-01-08 00:00:00   \n",
       "13831  Boulogne-sur-Mer       50.725999         1.611877  2025-01-08 00:00:00   \n",
       "\n",
       "       Temp_Max_jour1  Temp_Min_jour1  Humidity_jour1     Weather_jour1  \\\n",
       "13824            5.13            3.15              82  scattered clouds   \n",
       "13825            4.75            3.89              74     broken clouds   \n",
       "13826            4.45            4.45              66   overcast clouds   \n",
       "13827            4.41            4.41              67   overcast clouds   \n",
       "13828            4.88            4.88              71   overcast clouds   \n",
       "13829            1.78            1.78              98              snow   \n",
       "13830            1.73            1.73              98              snow   \n",
       "13831            1.94            1.94              98              snow   \n",
       "\n",
       "       Rain_Probability_jour1  Weather_Score_jour1  Temp_Avg_jour1  \\\n",
       "13824                     0.0                  400            4.14   \n",
       "13825                     0.0                  300            4.32   \n",
       "13826                     0.0                  200            4.45   \n",
       "13827                     0.0                  200            4.41   \n",
       "13828                     0.0                  200            4.88   \n",
       "13829                     1.0                  -40            1.78   \n",
       "13830                     1.0                  -40            1.73   \n",
       "13831                     1.0                  -40            1.94   \n",
       "\n",
       "      Run_Date_jour1  Temp_Max_jour2  Temp_Min_jour2  Humidity_jour2  \\\n",
       "13824     2025-01-07            5.28            5.28              66   \n",
       "13825     2025-01-07            4.52            4.52              66   \n",
       "13826     2025-01-07            4.21            4.21              66   \n",
       "13827     2025-01-07            4.36            4.36              65   \n",
       "13828     2025-01-07            3.91            3.91              78   \n",
       "13829     2025-01-07            1.75            1.75              99   \n",
       "13830     2025-01-07            1.77            1.77              98   \n",
       "13831     2025-01-07            1.92            1.92              97   \n",
       "\n",
       "          Weather_jour2  Rain_Probability_jour2  Weather_Score_jour2  \\\n",
       "13824        few clouds                     0.0                  500   \n",
       "13825  scattered clouds                     0.0                  400   \n",
       "13826     broken clouds                     0.0                  300   \n",
       "13827   overcast clouds                     0.0                  200   \n",
       "13828        light rain                     0.2                  -10   \n",
       "13829              snow                     1.0                  -40   \n",
       "13830              snow                     1.0                  -40   \n",
       "13831              snow                     1.0                  -40   \n",
       "\n",
       "       Temp_Avg_jour2  Temp_Max_jour3  Temp_Min_jour3  Humidity_jour3  \\\n",
       "13824            5.28            5.39            5.39              69   \n",
       "13825            4.52            4.68            4.68              61   \n",
       "13826            4.21            4.14            4.14              66   \n",
       "13827            4.36            4.55            4.55              62   \n",
       "13828            3.91            5.16            5.16              61   \n",
       "13829            1.75            3.22            3.22              86   \n",
       "13830            1.77            1.78            1.78              96   \n",
       "13831            1.92            1.98            1.98              92   \n",
       "\n",
       "          Weather_jour3  Rain_Probability_jour3  Weather_Score_jour3  \\\n",
       "13824        light rain                    0.20                  -10   \n",
       "13825  scattered clouds                    0.00                  400   \n",
       "13826     broken clouds                    0.00                  300   \n",
       "13827   overcast clouds                    0.00                  200   \n",
       "13828   overcast clouds                    0.00                  200   \n",
       "13829        light snow                    0.29                  -20   \n",
       "13830              snow                    1.00                  -40   \n",
       "13831        light snow                    1.00                  -20   \n",
       "\n",
       "       Temp_Avg_jour3  Temp_Max_jour4  Temp_Min_jour4  Humidity_jour4  \\\n",
       "13824            5.39            5.10            5.10              61   \n",
       "13825            4.68            4.63            4.63              65   \n",
       "13826            4.14            4.47            4.47              63   \n",
       "13827            4.55            4.25            4.25              63   \n",
       "13828            5.16            5.33            5.33              59   \n",
       "13829            3.22            4.73            4.73              63   \n",
       "13830            1.78            3.89            3.89              69   \n",
       "13831            1.98            2.01            2.01              88   \n",
       "\n",
       "         Weather_jour4  Rain_Probability_jour4  Weather_Score_jour4  \\\n",
       "13824        clear sky                     0.0                  600   \n",
       "13825        clear sky                     0.0                  600   \n",
       "13826    broken clouds                     0.0                  300   \n",
       "13827    broken clouds                     0.0                  300   \n",
       "13828    broken clouds                     0.0                  300   \n",
       "13829  overcast clouds                     0.0                  200   \n",
       "13830  overcast clouds                     0.0                  200   \n",
       "13831       light snow                     0.2                  -20   \n",
       "\n",
       "       Temp_Avg_jour4  Temp_Max_jour5  Temp_Min_jour5  Humidity_jour5  \\\n",
       "13824            5.10            4.72            4.72              66   \n",
       "13825            4.63            4.68            4.68              62   \n",
       "13826            4.47            4.62            4.62              63   \n",
       "13827            4.25            4.50            4.50              65   \n",
       "13828            5.33            4.96            4.96              76   \n",
       "13829            4.73            4.30            4.30              76   \n",
       "13830            3.89            3.30            3.30              80   \n",
       "13831            2.01            2.33            2.33              90   \n",
       "\n",
       "          Weather_jour5  Rain_Probability_jour5  Weather_Score_jour5  \\\n",
       "13824         clear sky                     0.0                  600   \n",
       "13825        few clouds                     0.0                  500   \n",
       "13826  scattered clouds                     0.0                  400   \n",
       "13827     broken clouds                     0.0                  300   \n",
       "13828     broken clouds                     0.0                  300   \n",
       "13829   overcast clouds                     0.0                  200   \n",
       "13830   overcast clouds                     0.0                  200   \n",
       "13831        light snow                     1.0                  -20   \n",
       "\n",
       "       Temp_Avg_jour5  \n",
       "13824            4.72  \n",
       "13825            4.68  \n",
       "13826            4.62  \n",
       "13827            4.50  \n",
       "13828            4.96  \n",
       "13829            4.30  \n",
       "13830            3.30  \n",
       "13831            2.33  "
      ]
     },
     "metadata": {},
     "output_type": "display_data"
    }
   ],
   "source": [
    "# Filtrer les données pour Boulogne-sur-Mer à la date du 08/01/2025\n",
    "boulogne_weather = top_flop_df[(top_flop_df[\"Ville_jour1\"] == \"Boulogne-sur-Mer\") & (top_flop_df[\"Date_jour1\"] == \"2025-01-08 00:00:00\")]\n",
    "\n",
    "# Afficher les informations\n",
    "display(boulogne_weather)"
   ]
  },
  {
   "cell_type": "code",
   "execution_count": null,
   "metadata": {},
   "outputs": [
    {
     "data": {
      "image/png": "[encoded data removed]",
      "text/plain": [
       "<Figure size 1200x600 with 1 Axes>"
      ]
     },
     "metadata": {},
     "output_type": "display_data"
    }
   ],
   "source": [
    "# comparer les prévisions de température entre chaque colonnes \"_jour1\" à \"_jour5\"\n",
    "plt.figure(figsize=(12, 6))\n",
    "plt.plot(boulogne_weather[\"Temp_Avg_jour1\"], label=\"Jour 1\")\n",
    "plt.plot(boulogne_weather[\"Temp_Avg_jour2\"], label=\"Jour 2\")\n",
    "plt.plot(boulogne_weather[\"Temp_Avg_jour3\"], label=\"Jour 3\")\n",
    "plt.plot(boulogne_weather[\"Temp_Avg_jour4\"], label=\"Jour 4\")\n",
    "plt.plot(boulogne_weather[\"Temp_Avg_jour5\"], label=\"Jour 5\")\n",
    "plt.legend()\n",
    "plt.title(\"Comparaison des températures moyennes entre Jour 1 et Jour 5 pour le 08/01\")\n",
    "plt.xlabel(\"Heures\")\n",
    "plt.ylabel(\"Température (°C)\")\n",
    "plt.show()"
   ]
  },
  {
   "cell_type": "code",
   "execution_count": null,
   "metadata": {},
   "outputs": [
    {
     "data": {
      "image/png": "[encoded data removed]",
      "text/plain": [
       "<Figure size 1200x600 with 1 Axes>"
      ]
     },
     "metadata": {},
     "output_type": "display_data"
    }
   ],
   "source": [
    "plt.figure(figsize=(12, 6))\n",
    "plt.plot(boulogne_weather[\"Weather_Score_jour1\"], label=\"Jour 1\")\n",
    "plt.plot(boulogne_weather[\"Weather_Score_jour2\"], label=\"Jour 2\")\n",
    "plt.plot(boulogne_weather[\"Weather_Score_jour3\"], label=\"Jour 3\")\n",
    "plt.plot(boulogne_weather[\"Weather_Score_jour4\"], label=\"Jour 4\")\n",
    "plt.plot(boulogne_weather[\"Weather_Score_jour5\"], label=\"Jour 5\")\n",
    "plt.legend()\n",
    "plt.title(\"Comparaison des Scores météo entre Jour 1 et Jour 5 pour 08/01\")\n",
    "plt.xlabel(\"Heures\")\n",
    "plt.ylabel(\"Température (°C)\")\n",
    "plt.show()"
   ]
  },
  {
   "cell_type": "code",
   "execution_count": null,
   "metadata": {},
   "outputs": [
    {
     "data": {
      "image/png": "[encoded data removed]",
      "text/plain": [
       "<Figure size 1200x600 with 1 Axes>"
      ]
     },
     "metadata": {},
     "output_type": "display_data"
    }
   ],
   "source": [
    "# Comparer les score météo entre chaque colonnes \"_jour1\" à \"_jour5\" pour la ville de \"Brest\"\n",
    "brest_weather = top_flop_df[(top_flop_df[\"Ville_jour1\"] == \"Brest\") & (top_flop_df[\"Date_jour1\"] == \"2025-01-08 00:00:00\")]\n",
    "\n",
    "# afficher les informations sur un graphique par jour\n",
    "plt.figure(figsize=(12, 6))\n",
    "plt.plot(brest_weather[\"Weather_Score_jour1\"], label=\"Jour 1\")\n",
    "plt.plot(brest_weather[\"Weather_Score_jour2\"], label=\"Jour 2\")\n",
    "plt.plot(brest_weather[\"Weather_Score_jour3\"], label=\"Jour 3\")\n",
    "plt.plot(brest_weather[\"Weather_Score_jour4\"], label=\"Jour 4\")\n",
    "plt.plot(brest_weather[\"Weather_Score_jour5\"], label=\"Jour 5\")\n",
    "plt.legend()\n",
    "plt.title(\"Comparaison des Scores météo entre Jour 1 et Jour 5 pour Brest le 08/01\")\n",
    "plt.xlabel(\"Heures\")\n",
    "plt.ylabel(\"Température (°C)\")\n",
    "plt.show()\n"
   ]
  },
  {
   "cell_type": "code",
   "execution_count": null,
   "metadata": {},
   "outputs": [
    {
     "data": {
      "text/plain": [
       "Date_jour1\n",
       "2025-01-13 00:00:00    8\n",
       "2024-12-27 00:00:00    8\n",
       "2025-01-14 00:00:00    8\n",
       "2025-02-06 00:00:00    8\n",
       "2024-12-16 00:00:00    8\n",
       "2024-12-30 00:00:00    8\n",
       "2024-12-29 00:00:00    8\n",
       "2025-02-03 00:00:00    8\n",
       "2024-12-23 00:00:00    8\n",
       "2024-12-25 00:00:00    8\n",
       "2024-12-26 00:00:00    8\n",
       "2025-01-15 00:00:00    7\n",
       "2025-01-17 00:00:00    7\n",
       "2025-01-12 00:00:00    7\n",
       "2024-12-31 00:00:00    6\n",
       "2024-12-24 00:00:00    6\n",
       "2025-02-04 00:00:00    6\n",
       "2025-02-05 00:00:00    6\n",
       "2024-12-15 00:00:00    6\n",
       "2024-12-12 00:00:00    6\n",
       "2024-12-28 00:00:00    5\n",
       "2024-12-21 00:00:00    5\n",
       "2024-12-17 00:00:00    5\n",
       "2024-12-05 00:00:00    5\n",
       "2025-02-07 00:00:00    4\n",
       "2025-01-01 00:00:00    4\n",
       "2025-02-02 00:00:00    3\n",
       "2025-01-08 00:00:00    3\n",
       "2025-01-02 00:00:00    3\n",
       "2025-01-18 00:00:00    3\n",
       "2025-01-21 00:00:00    3\n",
       "2024-12-20 00:00:00    3\n",
       "2025-01-28 00:00:00    3\n",
       "2025-01-04 00:00:00    2\n",
       "2025-01-07 00:00:00    2\n",
       "2024-12-14 00:00:00    2\n",
       "2025-01-16 00:00:00    2\n",
       "2024-12-22 00:00:00    2\n",
       "2024-12-18 00:00:00    1\n",
       "2025-01-09 00:00:00    1\n",
       "2025-01-29 00:00:00    1\n",
       "2025-01-25 00:00:00    1\n",
       "2025-01-10 00:00:00    1\n",
       "2024-12-11 00:00:00    1\n",
       "2025-01-24 00:00:00    1\n",
       "Name: count, dtype: int64"
      ]
     },
     "execution_count": 26,
     "metadata": {},
     "output_type": "execute_result"
    }
   ],
   "source": [
    "# date ou Nice à eu du \"clear sky\"\n",
    "clear_sky_dates = top_flop_df[(top_flop_df[\"Ville_jour1\"] == \"Nice\") & (top_flop_df[\"Weather_jour1\"] == \"clear sky\")][\"Date_jour1\"]\n",
    "clear_sky_dates.value_counts()"
   ]
  },
  {
   "cell_type": "code",
   "execution_count": null,
   "metadata": {},
   "outputs": [
    {
     "data": {
      "image/png": "[encoded data removed]",
      "text/plain": [
       "<Figure size 1000x600 with 1 Axes>"
      ]
     },
     "metadata": {},
     "output_type": "display_data"
    }
   ],
   "source": [
    "# Regrouper par date et sommer les scores météo pour chaque jour\n",
    "weather_scores_sum = all_data.groupby(\"Date_jour1\")[\n",
    "    [\"Weather_Score_jour1\", \"Weather_Score_jour2\", \"Weather_Score_jour3\", \"Weather_Score_jour4\", \"Weather_Score_jour5\"]\n",
    "].sum()\n",
    "\n",
    "# Renommer les colonnes pour plus de clarté\n",
    "weather_scores_sum.columns = [\"Jour 1\", \"Jour 2\", \"Jour 3\", \"Jour 4\", \"Jour 5\"]\n",
    "\n",
    "\n",
    "# Calculer la marge d'erreur entre les \"weather_scores\" \"jour2\" et \"jour1\"\n",
    "Weather_Error_Margin1 = (weather_scores_sum[\"Jour 2\"] - weather_scores_sum[\"Jour 1\"])\n",
    "Weather_Error_Margin2 = (weather_scores_sum[\"Jour 3\"] - weather_scores_sum[\"Jour 1\"])\n",
    "Weather_Error_Margin3 = (weather_scores_sum[\"Jour 4\"] - weather_scores_sum[\"Jour 1\"])\n",
    "Weather_Error_Margin4 = (weather_scores_sum[\"Jour 5\"] - weather_scores_sum[\"Jour 1\"])\n",
    "\n",
    "# Tracer un line plot de la marge d'erreur\n",
    "plt.figure(figsize=(10, 6))\n",
    "plt.plot(Weather_Error_Margin1.index, Weather_Error_Margin1, marker=\"o\", linestyle=\"-\")\n",
    "plt.plot(Weather_Error_Margin2.index, Weather_Error_Margin2, marker=\"o\", linestyle=\"-\")\n",
    "plt.plot(Weather_Error_Margin3.index, Weather_Error_Margin3, marker=\"o\", linestyle=\"-\")\n",
    "plt.plot(Weather_Error_Margin4.index, Weather_Error_Margin4, marker=\"o\", linestyle=\"-\")\n",
    "\n",
    "# Ajouter des labels et un titre\n",
    "plt.xlabel(\"Date\")\n",
    "plt.ylabel(\"Marge d'Erreur de Score Météo\")\n",
    "plt.title(\"Marge d'Erreur de Score Météo pour chaque jours par Date\")\n",
    "plt.xticks(rotation=45)\n",
    "plt.grid(True)\n",
    "plt.legend([\"Jour 2\", \"Jour 3\", \"Jour 4\", \"Jour 5\"])\n",
    "\n",
    "# Afficher le graphique\n",
    "plt.show()"
   ]
  },
  {
   "cell_type": "code",
   "execution_count": null,
   "metadata": {},
   "outputs": [],
   "source": []
  },
  {
   "cell_type": "code",
   "execution_count": null,
   "metadata": {},
   "outputs": [
    {
     "data": {
      "text/html": [
       "<div>\n",
       "<style scoped>\n",
       "    .dataframe tbody tr th:only-of-type {\n",
       "        vertical-align: middle;\n",
       "    }\n",
       "\n",
       "    .dataframe tbody tr th {\n",
       "        vertical-align: top;\n",
       "    }\n",
       "\n",
       "    .dataframe thead th {\n",
       "        text-align: right;\n",
       "    }\n",
       "</style>\n",
       "<table border=\"1\" class=\"dataframe\">\n",
       "  <thead>\n",
       "    <tr style=\"text-align: right;\">\n",
       "      <th></th>\n",
       "      <th>Ville_jour1</th>\n",
       "      <th>Date_jour1</th>\n",
       "      <th>Accuracy_jour2</th>\n",
       "      <th>Accuracy_jour3</th>\n",
       "      <th>Accuracy_jour4</th>\n",
       "      <th>Accuracy_jour5</th>\n",
       "    </tr>\n",
       "  </thead>\n",
       "  <tbody>\n",
       "    <tr>\n",
       "      <th>0</th>\n",
       "      <td>Paris</td>\n",
       "      <td>2024-12-05 00:00:00</td>\n",
       "      <td>96.300395</td>\n",
       "      <td>96.426877</td>\n",
       "      <td>91.430830</td>\n",
       "      <td>99.905138</td>\n",
       "    </tr>\n",
       "    <tr>\n",
       "      <th>1</th>\n",
       "      <td>Paris</td>\n",
       "      <td>2024-12-05 00:00:00</td>\n",
       "      <td>97.741935</td>\n",
       "      <td>98.064516</td>\n",
       "      <td>96.064516</td>\n",
       "      <td>94.516129</td>\n",
       "    </tr>\n",
       "    <tr>\n",
       "      <th>2</th>\n",
       "      <td>Paris</td>\n",
       "      <td>2024-12-05 00:00:00</td>\n",
       "      <td>99.939577</td>\n",
       "      <td>99.093656</td>\n",
       "      <td>99.456193</td>\n",
       "      <td>57.001511</td>\n",
       "    </tr>\n",
       "    <tr>\n",
       "      <th>3</th>\n",
       "      <td>Paris</td>\n",
       "      <td>2024-12-05 00:00:00</td>\n",
       "      <td>74.299698</td>\n",
       "      <td>37.956193</td>\n",
       "      <td>37.533233</td>\n",
       "      <td>87.432024</td>\n",
       "    </tr>\n",
       "    <tr>\n",
       "      <th>4</th>\n",
       "      <td>Paris</td>\n",
       "      <td>2024-12-05 00:00:00</td>\n",
       "      <td>76.589760</td>\n",
       "      <td>36.376106</td>\n",
       "      <td>94.437421</td>\n",
       "      <td>42.926422</td>\n",
       "    </tr>\n",
       "  </tbody>\n",
       "</table>\n",
       "</div>"
      ],
      "text/plain": [
       "  Ville_jour1           Date_jour1  Accuracy_jour2  Accuracy_jour3  \\\n",
       "0       Paris  2024-12-05 00:00:00       96.300395       96.426877   \n",
       "1       Paris  2024-12-05 00:00:00       97.741935       98.064516   \n",
       "2       Paris  2024-12-05 00:00:00       99.939577       99.093656   \n",
       "3       Paris  2024-12-05 00:00:00       74.299698       37.956193   \n",
       "4       Paris  2024-12-05 00:00:00       76.589760       36.376106   \n",
       "\n",
       "   Accuracy_jour4  Accuracy_jour5  \n",
       "0       91.430830       99.905138  \n",
       "1       96.064516       94.516129  \n",
       "2       99.456193       57.001511  \n",
       "3       37.533233       87.432024  \n",
       "4       94.437421       42.926422  "
      ]
     },
     "execution_count": 28,
     "metadata": {},
     "output_type": "execute_result"
    }
   ],
   "source": [
    "# Liste des jours à comparer avec la référence (jour 1)\n",
    "jours_previsions = [\"jour2\", \"jour3\", \"jour4\", \"jour5\"]\n",
    "\n",
    "# Calcul des écarts relatifs pour chaque jour de prévision par rapport à jour1\n",
    "for jour in jours_previsions:\n",
    "    all_data[f\"Temp_Error_{jour}\"] = abs(all_data[f\"Temp_Avg_{jour}\"] - all_data[\"Temp_Avg_jour1\"]) / all_data[\"Temp_Avg_jour1\"]\n",
    "    all_data[f\"Rain_Error_{jour}\"] = abs(all_data[f\"Rain_Probability_{jour}\"] - all_data[\"Rain_Probability_jour1\"])\n",
    "    all_data[f\"Weather_Score_Error_{jour}\"] = abs(all_data[f\"Weather_Score_{jour}\"] - all_data[\"Weather_Score_jour1\"]) / 200\n",
    "\n",
    "# Score d'accuracy basé sur les écarts\n",
    "for jour in jours_previsions:\n",
    "    all_data[f\"Accuracy_{jour}\"] = 100 - (\n",
    "        (all_data[f\"Temp_Error_{jour}\"] * 40) + \n",
    "        (all_data[f\"Rain_Error_{jour}\"] * 30) + \n",
    "        (all_data[f\"Weather_Score_Error_{jour}\"] * 30)\n",
    "    )\n",
    "\n",
    "# Normalisation du score pour qu'il reste entre 0 et 100\n",
    "for jour in jours_previsions:\n",
    "    all_data[f\"Accuracy_{jour}\"] = all_data[f\"Accuracy_{jour}\"].clip(0, 100)\n",
    "\n",
    "# Affichage des résultats\n",
    "all_data[[\"Ville_jour1\", \"Date_jour1\"] + [f\"Accuracy_{jour}\" for jour in jours_previsions]].head()\n"
   ]
  },
  {
   "cell_type": "code",
   "execution_count": null,
   "metadata": {},
   "outputs": [
    {
     "data": {
      "text/html": [
       "<div>\n",
       "<style scoped>\n",
       "    .dataframe tbody tr th:only-of-type {\n",
       "        vertical-align: middle;\n",
       "    }\n",
       "\n",
       "    .dataframe tbody tr th {\n",
       "        vertical-align: top;\n",
       "    }\n",
       "\n",
       "    .dataframe thead th {\n",
       "        text-align: right;\n",
       "    }\n",
       "</style>\n",
       "<table border=\"1\" class=\"dataframe\">\n",
       "  <thead>\n",
       "    <tr style=\"text-align: right;\">\n",
       "      <th></th>\n",
       "      <th>Accuracy_jour2</th>\n",
       "      <th>Accuracy_jour3</th>\n",
       "      <th>Accuracy_jour4</th>\n",
       "      <th>Accuracy_jour5</th>\n",
       "    </tr>\n",
       "    <tr>\n",
       "      <th>Ville_jour1</th>\n",
       "      <th></th>\n",
       "      <th></th>\n",
       "      <th></th>\n",
       "      <th></th>\n",
       "    </tr>\n",
       "  </thead>\n",
       "  <tbody>\n",
       "    <tr>\n",
       "      <th>Aix-en-Provence</th>\n",
       "      <td>84.818311</td>\n",
       "      <td>80.846021</td>\n",
       "      <td>77.285691</td>\n",
       "      <td>71.822601</td>\n",
       "    </tr>\n",
       "    <tr>\n",
       "      <th>Ajaccio</th>\n",
       "      <td>84.797054</td>\n",
       "      <td>78.234356</td>\n",
       "      <td>75.627135</td>\n",
       "      <td>69.244260</td>\n",
       "    </tr>\n",
       "    <tr>\n",
       "      <th>Albi</th>\n",
       "      <td>82.827497</td>\n",
       "      <td>77.392227</td>\n",
       "      <td>71.430782</td>\n",
       "      <td>62.775188</td>\n",
       "    </tr>\n",
       "    <tr>\n",
       "      <th>Amiens</th>\n",
       "      <td>81.700815</td>\n",
       "      <td>75.439681</td>\n",
       "      <td>67.807335</td>\n",
       "      <td>63.705470</td>\n",
       "    </tr>\n",
       "    <tr>\n",
       "      <th>Angers</th>\n",
       "      <td>77.584759</td>\n",
       "      <td>71.015499</td>\n",
       "      <td>64.086915</td>\n",
       "      <td>59.962622</td>\n",
       "    </tr>\n",
       "    <tr>\n",
       "      <th>Annecy</th>\n",
       "      <td>82.311125</td>\n",
       "      <td>76.617230</td>\n",
       "      <td>69.660112</td>\n",
       "      <td>67.324011</td>\n",
       "    </tr>\n",
       "    <tr>\n",
       "      <th>Arles</th>\n",
       "      <td>82.562800</td>\n",
       "      <td>80.446263</td>\n",
       "      <td>74.783684</td>\n",
       "      <td>71.697443</td>\n",
       "    </tr>\n",
       "    <tr>\n",
       "      <th>Avignon</th>\n",
       "      <td>83.014728</td>\n",
       "      <td>80.310968</td>\n",
       "      <td>74.264100</td>\n",
       "      <td>70.495136</td>\n",
       "    </tr>\n",
       "    <tr>\n",
       "      <th>Bayonne</th>\n",
       "      <td>83.993515</td>\n",
       "      <td>76.891133</td>\n",
       "      <td>73.396148</td>\n",
       "      <td>65.929388</td>\n",
       "    </tr>\n",
       "    <tr>\n",
       "      <th>Besançon</th>\n",
       "      <td>82.489818</td>\n",
       "      <td>75.799516</td>\n",
       "      <td>69.956808</td>\n",
       "      <td>65.070272</td>\n",
       "    </tr>\n",
       "    <tr>\n",
       "      <th>Biarritz</th>\n",
       "      <td>84.332618</td>\n",
       "      <td>77.301167</td>\n",
       "      <td>73.589402</td>\n",
       "      <td>66.331249</td>\n",
       "    </tr>\n",
       "    <tr>\n",
       "      <th>Bordeaux</th>\n",
       "      <td>83.328602</td>\n",
       "      <td>75.782251</td>\n",
       "      <td>72.029517</td>\n",
       "      <td>67.396577</td>\n",
       "    </tr>\n",
       "    <tr>\n",
       "      <th>Boulogne-sur-Mer</th>\n",
       "      <td>80.064552</td>\n",
       "      <td>73.150519</td>\n",
       "      <td>65.365954</td>\n",
       "      <td>63.756973</td>\n",
       "    </tr>\n",
       "    <tr>\n",
       "      <th>Brest</th>\n",
       "      <td>79.843593</td>\n",
       "      <td>74.283854</td>\n",
       "      <td>67.991299</td>\n",
       "      <td>65.476820</td>\n",
       "    </tr>\n",
       "    <tr>\n",
       "      <th>Caen</th>\n",
       "      <td>77.216611</td>\n",
       "      <td>73.328303</td>\n",
       "      <td>64.229345</td>\n",
       "      <td>60.266097</td>\n",
       "    </tr>\n",
       "    <tr>\n",
       "      <th>Carcassonne</th>\n",
       "      <td>81.606814</td>\n",
       "      <td>78.841659</td>\n",
       "      <td>72.444033</td>\n",
       "      <td>65.223575</td>\n",
       "    </tr>\n",
       "    <tr>\n",
       "      <th>Chambéry</th>\n",
       "      <td>82.005003</td>\n",
       "      <td>75.454099</td>\n",
       "      <td>70.410093</td>\n",
       "      <td>63.745298</td>\n",
       "    </tr>\n",
       "    <tr>\n",
       "      <th>Chamonix-Mont-Blanc</th>\n",
       "      <td>86.959919</td>\n",
       "      <td>82.542816</td>\n",
       "      <td>78.701018</td>\n",
       "      <td>76.589085</td>\n",
       "    </tr>\n",
       "    <tr>\n",
       "      <th>Clermont-Ferrand</th>\n",
       "      <td>77.707366</td>\n",
       "      <td>70.206259</td>\n",
       "      <td>65.851663</td>\n",
       "      <td>57.537048</td>\n",
       "    </tr>\n",
       "    <tr>\n",
       "      <th>Colmar</th>\n",
       "      <td>79.414541</td>\n",
       "      <td>72.980269</td>\n",
       "      <td>68.767073</td>\n",
       "      <td>66.090382</td>\n",
       "    </tr>\n",
       "    <tr>\n",
       "      <th>Dijon</th>\n",
       "      <td>80.292758</td>\n",
       "      <td>74.100798</td>\n",
       "      <td>68.677821</td>\n",
       "      <td>63.000518</td>\n",
       "    </tr>\n",
       "    <tr>\n",
       "      <th>Grenoble</th>\n",
       "      <td>84.924030</td>\n",
       "      <td>77.410842</td>\n",
       "      <td>71.777755</td>\n",
       "      <td>65.496949</td>\n",
       "    </tr>\n",
       "    <tr>\n",
       "      <th>La Rochelle</th>\n",
       "      <td>79.979758</td>\n",
       "      <td>74.321160</td>\n",
       "      <td>70.565536</td>\n",
       "      <td>66.717028</td>\n",
       "    </tr>\n",
       "    <tr>\n",
       "      <th>Le Havre</th>\n",
       "      <td>80.010686</td>\n",
       "      <td>75.760899</td>\n",
       "      <td>68.886580</td>\n",
       "      <td>65.752660</td>\n",
       "    </tr>\n",
       "    <tr>\n",
       "      <th>Le Mans</th>\n",
       "      <td>78.113832</td>\n",
       "      <td>70.311876</td>\n",
       "      <td>64.473597</td>\n",
       "      <td>59.626990</td>\n",
       "    </tr>\n",
       "    <tr>\n",
       "      <th>Lille</th>\n",
       "      <td>79.212419</td>\n",
       "      <td>73.919203</td>\n",
       "      <td>66.962163</td>\n",
       "      <td>62.024318</td>\n",
       "    </tr>\n",
       "    <tr>\n",
       "      <th>Limoges</th>\n",
       "      <td>81.680659</td>\n",
       "      <td>73.070085</td>\n",
       "      <td>66.828008</td>\n",
       "      <td>61.800438</td>\n",
       "    </tr>\n",
       "    <tr>\n",
       "      <th>Lourdes</th>\n",
       "      <td>83.370006</td>\n",
       "      <td>74.791042</td>\n",
       "      <td>70.909491</td>\n",
       "      <td>64.436889</td>\n",
       "    </tr>\n",
       "    <tr>\n",
       "      <th>Lyon</th>\n",
       "      <td>80.389710</td>\n",
       "      <td>73.802184</td>\n",
       "      <td>68.287959</td>\n",
       "      <td>63.042116</td>\n",
       "    </tr>\n",
       "    <tr>\n",
       "      <th>Marseille</th>\n",
       "      <td>84.895056</td>\n",
       "      <td>79.957924</td>\n",
       "      <td>76.397237</td>\n",
       "      <td>73.189839</td>\n",
       "    </tr>\n",
       "    <tr>\n",
       "      <th>Metz</th>\n",
       "      <td>79.384759</td>\n",
       "      <td>72.888905</td>\n",
       "      <td>67.895724</td>\n",
       "      <td>62.802634</td>\n",
       "    </tr>\n",
       "    <tr>\n",
       "      <th>Montpellier</th>\n",
       "      <td>84.221133</td>\n",
       "      <td>80.209410</td>\n",
       "      <td>77.028911</td>\n",
       "      <td>69.708236</td>\n",
       "    </tr>\n",
       "    <tr>\n",
       "      <th>Mulhouse</th>\n",
       "      <td>79.628915</td>\n",
       "      <td>72.834001</td>\n",
       "      <td>68.523254</td>\n",
       "      <td>65.791275</td>\n",
       "    </tr>\n",
       "    <tr>\n",
       "      <th>Nantes</th>\n",
       "      <td>77.409200</td>\n",
       "      <td>69.081002</td>\n",
       "      <td>63.685420</td>\n",
       "      <td>60.928529</td>\n",
       "    </tr>\n",
       "    <tr>\n",
       "      <th>Nice</th>\n",
       "      <td>84.956460</td>\n",
       "      <td>82.883015</td>\n",
       "      <td>80.988095</td>\n",
       "      <td>73.062847</td>\n",
       "    </tr>\n",
       "    <tr>\n",
       "      <th>Nîmes</th>\n",
       "      <td>83.553631</td>\n",
       "      <td>81.417832</td>\n",
       "      <td>77.684258</td>\n",
       "      <td>71.842509</td>\n",
       "    </tr>\n",
       "    <tr>\n",
       "      <th>Orléans</th>\n",
       "      <td>79.821135</td>\n",
       "      <td>72.117362</td>\n",
       "      <td>66.785246</td>\n",
       "      <td>62.266536</td>\n",
       "    </tr>\n",
       "    <tr>\n",
       "      <th>Paris</th>\n",
       "      <td>80.022931</td>\n",
       "      <td>72.742800</td>\n",
       "      <td>68.528639</td>\n",
       "      <td>64.226746</td>\n",
       "    </tr>\n",
       "    <tr>\n",
       "      <th>Pau</th>\n",
       "      <td>83.523707</td>\n",
       "      <td>77.404763</td>\n",
       "      <td>73.240746</td>\n",
       "      <td>64.851642</td>\n",
       "    </tr>\n",
       "    <tr>\n",
       "      <th>Perpignan</th>\n",
       "      <td>84.246197</td>\n",
       "      <td>78.103211</td>\n",
       "      <td>76.346073</td>\n",
       "      <td>69.877269</td>\n",
       "    </tr>\n",
       "    <tr>\n",
       "      <th>Poitiers</th>\n",
       "      <td>79.386885</td>\n",
       "      <td>70.234591</td>\n",
       "      <td>66.217726</td>\n",
       "      <td>63.157758</td>\n",
       "    </tr>\n",
       "    <tr>\n",
       "      <th>Reims</th>\n",
       "      <td>77.689244</td>\n",
       "      <td>70.930745</td>\n",
       "      <td>65.122913</td>\n",
       "      <td>58.306093</td>\n",
       "    </tr>\n",
       "    <tr>\n",
       "      <th>Rennes</th>\n",
       "      <td>76.625398</td>\n",
       "      <td>68.968135</td>\n",
       "      <td>62.945475</td>\n",
       "      <td>58.747390</td>\n",
       "    </tr>\n",
       "    <tr>\n",
       "      <th>Rouen</th>\n",
       "      <td>79.091208</td>\n",
       "      <td>72.688584</td>\n",
       "      <td>66.895853</td>\n",
       "      <td>61.683602</td>\n",
       "    </tr>\n",
       "    <tr>\n",
       "      <th>Saint-Malo</th>\n",
       "      <td>79.540061</td>\n",
       "      <td>72.693451</td>\n",
       "      <td>67.140886</td>\n",
       "      <td>63.786542</td>\n",
       "    </tr>\n",
       "    <tr>\n",
       "      <th>Saint-Étienne</th>\n",
       "      <td>79.375871</td>\n",
       "      <td>72.790489</td>\n",
       "      <td>66.537160</td>\n",
       "      <td>62.614222</td>\n",
       "    </tr>\n",
       "    <tr>\n",
       "      <th>Strasbourg</th>\n",
       "      <td>80.814431</td>\n",
       "      <td>75.891593</td>\n",
       "      <td>68.973335</td>\n",
       "      <td>65.030841</td>\n",
       "    </tr>\n",
       "    <tr>\n",
       "      <th>Toulon</th>\n",
       "      <td>85.631257</td>\n",
       "      <td>81.766446</td>\n",
       "      <td>79.611370</td>\n",
       "      <td>74.306955</td>\n",
       "    </tr>\n",
       "    <tr>\n",
       "      <th>Toulouse</th>\n",
       "      <td>82.113462</td>\n",
       "      <td>77.972472</td>\n",
       "      <td>72.050538</td>\n",
       "      <td>63.734570</td>\n",
       "    </tr>\n",
       "    <tr>\n",
       "      <th>Villeurbanne</th>\n",
       "      <td>79.372649</td>\n",
       "      <td>73.671999</td>\n",
       "      <td>67.876361</td>\n",
       "      <td>63.270540</td>\n",
       "    </tr>\n",
       "  </tbody>\n",
       "</table>\n",
       "</div>"
      ],
      "text/plain": [
       "                     Accuracy_jour2  Accuracy_jour3  Accuracy_jour4  \\\n",
       "Ville_jour1                                                           \n",
       "Aix-en-Provence           84.818311       80.846021       77.285691   \n",
       "Ajaccio                   84.797054       78.234356       75.627135   \n",
       "Albi                      82.827497       77.392227       71.430782   \n",
       "Amiens                    81.700815       75.439681       67.807335   \n",
       "Angers                    77.584759       71.015499       64.086915   \n",
       "Annecy                    82.311125       76.617230       69.660112   \n",
       "Arles                     82.562800       80.446263       74.783684   \n",
       "Avignon                   83.014728       80.310968       74.264100   \n",
       "Bayonne                   83.993515       76.891133       73.396148   \n",
       "Besançon                  82.489818       75.799516       69.956808   \n",
       "Biarritz                  84.332618       77.301167       73.589402   \n",
       "Bordeaux                  83.328602       75.782251       72.029517   \n",
       "Boulogne-sur-Mer          80.064552       73.150519       65.365954   \n",
       "Brest                     79.843593       74.283854       67.991299   \n",
       "Caen                      77.216611       73.328303       64.229345   \n",
       "Carcassonne               81.606814       78.841659       72.444033   \n",
       "Chambéry                  82.005003       75.454099       70.410093   \n",
       "Chamonix-Mont-Blanc       86.959919       82.542816       78.701018   \n",
       "Clermont-Ferrand          77.707366       70.206259       65.851663   \n",
       "Colmar                    79.414541       72.980269       68.767073   \n",
       "Dijon                     80.292758       74.100798       68.677821   \n",
       "Grenoble                  84.924030       77.410842       71.777755   \n",
       "La Rochelle               79.979758       74.321160       70.565536   \n",
       "Le Havre                  80.010686       75.760899       68.886580   \n",
       "Le Mans                   78.113832       70.311876       64.473597   \n",
       "Lille                     79.212419       73.919203       66.962163   \n",
       "Limoges                   81.680659       73.070085       66.828008   \n",
       "Lourdes                   83.370006       74.791042       70.909491   \n",
       "Lyon                      80.389710       73.802184       68.287959   \n",
       "Marseille                 84.895056       79.957924       76.397237   \n",
       "Metz                      79.384759       72.888905       67.895724   \n",
       "Montpellier               84.221133       80.209410       77.028911   \n",
       "Mulhouse                  79.628915       72.834001       68.523254   \n",
       "Nantes                    77.409200       69.081002       63.685420   \n",
       "Nice                      84.956460       82.883015       80.988095   \n",
       "Nîmes                     83.553631       81.417832       77.684258   \n",
       "Orléans                   79.821135       72.117362       66.785246   \n",
       "Paris                     80.022931       72.742800       68.528639   \n",
       "Pau                       83.523707       77.404763       73.240746   \n",
       "Perpignan                 84.246197       78.103211       76.346073   \n",
       "Poitiers                  79.386885       70.234591       66.217726   \n",
       "Reims                     77.689244       70.930745       65.122913   \n",
       "Rennes                    76.625398       68.968135       62.945475   \n",
       "Rouen                     79.091208       72.688584       66.895853   \n",
       "Saint-Malo                79.540061       72.693451       67.140886   \n",
       "Saint-Étienne             79.375871       72.790489       66.537160   \n",
       "Strasbourg                80.814431       75.891593       68.973335   \n",
       "Toulon                    85.631257       81.766446       79.611370   \n",
       "Toulouse                  82.113462       77.972472       72.050538   \n",
       "Villeurbanne              79.372649       73.671999       67.876361   \n",
       "\n",
       "                     Accuracy_jour5  \n",
       "Ville_jour1                          \n",
       "Aix-en-Provence           71.822601  \n",
       "Ajaccio                   69.244260  \n",
       "Albi                      62.775188  \n",
       "Amiens                    63.705470  \n",
       "Angers                    59.962622  \n",
       "Annecy                    67.324011  \n",
       "Arles                     71.697443  \n",
       "Avignon                   70.495136  \n",
       "Bayonne                   65.929388  \n",
       "Besançon                  65.070272  \n",
       "Biarritz                  66.331249  \n",
       "Bordeaux                  67.396577  \n",
       "Boulogne-sur-Mer          63.756973  \n",
       "Brest                     65.476820  \n",
       "Caen                      60.266097  \n",
       "Carcassonne               65.223575  \n",
       "Chambéry                  63.745298  \n",
       "Chamonix-Mont-Blanc       76.589085  \n",
       "Clermont-Ferrand          57.537048  \n",
       "Colmar                    66.090382  \n",
       "Dijon                     63.000518  \n",
       "Grenoble                  65.496949  \n",
       "La Rochelle               66.717028  \n",
       "Le Havre                  65.752660  \n",
       "Le Mans                   59.626990  \n",
       "Lille                     62.024318  \n",
       "Limoges                   61.800438  \n",
       "Lourdes                   64.436889  \n",
       "Lyon                      63.042116  \n",
       "Marseille                 73.189839  \n",
       "Metz                      62.802634  \n",
       "Montpellier               69.708236  \n",
       "Mulhouse                  65.791275  \n",
       "Nantes                    60.928529  \n",
       "Nice                      73.062847  \n",
       "Nîmes                     71.842509  \n",
       "Orléans                   62.266536  \n",
       "Paris                     64.226746  \n",
       "Pau                       64.851642  \n",
       "Perpignan                 69.877269  \n",
       "Poitiers                  63.157758  \n",
       "Reims                     58.306093  \n",
       "Rennes                    58.747390  \n",
       "Rouen                     61.683602  \n",
       "Saint-Malo                63.786542  \n",
       "Saint-Étienne             62.614222  \n",
       "Strasbourg                65.030841  \n",
       "Toulon                    74.306955  \n",
       "Toulouse                  63.734570  \n",
       "Villeurbanne              63.270540  "
      ]
     },
     "metadata": {},
     "output_type": "display_data"
    }
   ],
   "source": [
    "# regrouper pour chaque ville\n",
    "city_accuracy = all_data.groupby(\"Ville_jour1\")[[f\"Accuracy_{jour}\" for jour in jours_previsions]].mean()\n",
    "\n",
    "# Afficher les résultats\n",
    "display(city_accuracy)"
   ]
  },
  {
   "cell_type": "code",
   "execution_count": null,
   "metadata": {},
   "outputs": [
    {
     "data": {
      "text/html": [
       "<div>\n",
       "<style scoped>\n",
       "    .dataframe tbody tr th:only-of-type {\n",
       "        vertical-align: middle;\n",
       "    }\n",
       "\n",
       "    .dataframe tbody tr th {\n",
       "        vertical-align: top;\n",
       "    }\n",
       "\n",
       "    .dataframe thead th {\n",
       "        text-align: right;\n",
       "    }\n",
       "</style>\n",
       "<table border=\"1\" class=\"dataframe\">\n",
       "  <thead>\n",
       "    <tr style=\"text-align: right;\">\n",
       "      <th></th>\n",
       "      <th>Ville_jour1</th>\n",
       "      <th>Accuracy_jour2</th>\n",
       "      <th>Accuracy_jour3</th>\n",
       "      <th>Accuracy_jour4</th>\n",
       "      <th>Accuracy_jour5</th>\n",
       "      <th>Mean_Accuracy</th>\n",
       "    </tr>\n",
       "  </thead>\n",
       "  <tbody>\n",
       "    <tr>\n",
       "      <th>17</th>\n",
       "      <td>Chamonix-Mont-Blanc</td>\n",
       "      <td>86.959919</td>\n",
       "      <td>82.542816</td>\n",
       "      <td>78.701018</td>\n",
       "      <td>76.589085</td>\n",
       "      <td>81.198210</td>\n",
       "    </tr>\n",
       "    <tr>\n",
       "      <th>34</th>\n",
       "      <td>Nice</td>\n",
       "      <td>84.956460</td>\n",
       "      <td>82.883015</td>\n",
       "      <td>80.988095</td>\n",
       "      <td>73.062847</td>\n",
       "      <td>80.472604</td>\n",
       "    </tr>\n",
       "    <tr>\n",
       "      <th>47</th>\n",
       "      <td>Toulon</td>\n",
       "      <td>85.631257</td>\n",
       "      <td>81.766446</td>\n",
       "      <td>79.611370</td>\n",
       "      <td>74.306955</td>\n",
       "      <td>80.329007</td>\n",
       "    </tr>\n",
       "    <tr>\n",
       "      <th>0</th>\n",
       "      <td>Aix-en-Provence</td>\n",
       "      <td>84.818311</td>\n",
       "      <td>80.846021</td>\n",
       "      <td>77.285691</td>\n",
       "      <td>71.822601</td>\n",
       "      <td>78.693156</td>\n",
       "    </tr>\n",
       "    <tr>\n",
       "      <th>35</th>\n",
       "      <td>Nîmes</td>\n",
       "      <td>83.553631</td>\n",
       "      <td>81.417832</td>\n",
       "      <td>77.684258</td>\n",
       "      <td>71.842509</td>\n",
       "      <td>78.624558</td>\n",
       "    </tr>\n",
       "    <tr>\n",
       "      <th>29</th>\n",
       "      <td>Marseille</td>\n",
       "      <td>84.895056</td>\n",
       "      <td>79.957924</td>\n",
       "      <td>76.397237</td>\n",
       "      <td>73.189839</td>\n",
       "      <td>78.610014</td>\n",
       "    </tr>\n",
       "    <tr>\n",
       "      <th>31</th>\n",
       "      <td>Montpellier</td>\n",
       "      <td>84.221133</td>\n",
       "      <td>80.209410</td>\n",
       "      <td>77.028911</td>\n",
       "      <td>69.708236</td>\n",
       "      <td>77.791923</td>\n",
       "    </tr>\n",
       "    <tr>\n",
       "      <th>6</th>\n",
       "      <td>Arles</td>\n",
       "      <td>82.562800</td>\n",
       "      <td>80.446263</td>\n",
       "      <td>74.783684</td>\n",
       "      <td>71.697443</td>\n",
       "      <td>77.372548</td>\n",
       "    </tr>\n",
       "    <tr>\n",
       "      <th>39</th>\n",
       "      <td>Perpignan</td>\n",
       "      <td>84.246197</td>\n",
       "      <td>78.103211</td>\n",
       "      <td>76.346073</td>\n",
       "      <td>69.877269</td>\n",
       "      <td>77.143188</td>\n",
       "    </tr>\n",
       "    <tr>\n",
       "      <th>7</th>\n",
       "      <td>Avignon</td>\n",
       "      <td>83.014728</td>\n",
       "      <td>80.310968</td>\n",
       "      <td>74.264100</td>\n",
       "      <td>70.495136</td>\n",
       "      <td>77.021233</td>\n",
       "    </tr>\n",
       "    <tr>\n",
       "      <th>1</th>\n",
       "      <td>Ajaccio</td>\n",
       "      <td>84.797054</td>\n",
       "      <td>78.234356</td>\n",
       "      <td>75.627135</td>\n",
       "      <td>69.244260</td>\n",
       "      <td>76.975701</td>\n",
       "    </tr>\n",
       "    <tr>\n",
       "      <th>10</th>\n",
       "      <td>Biarritz</td>\n",
       "      <td>84.332618</td>\n",
       "      <td>77.301167</td>\n",
       "      <td>73.589402</td>\n",
       "      <td>66.331249</td>\n",
       "      <td>75.388609</td>\n",
       "    </tr>\n",
       "    <tr>\n",
       "      <th>8</th>\n",
       "      <td>Bayonne</td>\n",
       "      <td>83.993515</td>\n",
       "      <td>76.891133</td>\n",
       "      <td>73.396148</td>\n",
       "      <td>65.929388</td>\n",
       "      <td>75.052546</td>\n",
       "    </tr>\n",
       "    <tr>\n",
       "      <th>21</th>\n",
       "      <td>Grenoble</td>\n",
       "      <td>84.924030</td>\n",
       "      <td>77.410842</td>\n",
       "      <td>71.777755</td>\n",
       "      <td>65.496949</td>\n",
       "      <td>74.902394</td>\n",
       "    </tr>\n",
       "    <tr>\n",
       "      <th>38</th>\n",
       "      <td>Pau</td>\n",
       "      <td>83.523707</td>\n",
       "      <td>77.404763</td>\n",
       "      <td>73.240746</td>\n",
       "      <td>64.851642</td>\n",
       "      <td>74.755214</td>\n",
       "    </tr>\n",
       "    <tr>\n",
       "      <th>11</th>\n",
       "      <td>Bordeaux</td>\n",
       "      <td>83.328602</td>\n",
       "      <td>75.782251</td>\n",
       "      <td>72.029517</td>\n",
       "      <td>67.396577</td>\n",
       "      <td>74.634237</td>\n",
       "    </tr>\n",
       "    <tr>\n",
       "      <th>15</th>\n",
       "      <td>Carcassonne</td>\n",
       "      <td>81.606814</td>\n",
       "      <td>78.841659</td>\n",
       "      <td>72.444033</td>\n",
       "      <td>65.223575</td>\n",
       "      <td>74.529020</td>\n",
       "    </tr>\n",
       "    <tr>\n",
       "      <th>5</th>\n",
       "      <td>Annecy</td>\n",
       "      <td>82.311125</td>\n",
       "      <td>76.617230</td>\n",
       "      <td>69.660112</td>\n",
       "      <td>67.324011</td>\n",
       "      <td>73.978119</td>\n",
       "    </tr>\n",
       "    <tr>\n",
       "      <th>48</th>\n",
       "      <td>Toulouse</td>\n",
       "      <td>82.113462</td>\n",
       "      <td>77.972472</td>\n",
       "      <td>72.050538</td>\n",
       "      <td>63.734570</td>\n",
       "      <td>73.967760</td>\n",
       "    </tr>\n",
       "    <tr>\n",
       "      <th>2</th>\n",
       "      <td>Albi</td>\n",
       "      <td>82.827497</td>\n",
       "      <td>77.392227</td>\n",
       "      <td>71.430782</td>\n",
       "      <td>62.775188</td>\n",
       "      <td>73.606424</td>\n",
       "    </tr>\n",
       "    <tr>\n",
       "      <th>27</th>\n",
       "      <td>Lourdes</td>\n",
       "      <td>83.370006</td>\n",
       "      <td>74.791042</td>\n",
       "      <td>70.909491</td>\n",
       "      <td>64.436889</td>\n",
       "      <td>73.376857</td>\n",
       "    </tr>\n",
       "    <tr>\n",
       "      <th>9</th>\n",
       "      <td>Besançon</td>\n",
       "      <td>82.489818</td>\n",
       "      <td>75.799516</td>\n",
       "      <td>69.956808</td>\n",
       "      <td>65.070272</td>\n",
       "      <td>73.329104</td>\n",
       "    </tr>\n",
       "    <tr>\n",
       "      <th>16</th>\n",
       "      <td>Chambéry</td>\n",
       "      <td>82.005003</td>\n",
       "      <td>75.454099</td>\n",
       "      <td>70.410093</td>\n",
       "      <td>63.745298</td>\n",
       "      <td>72.903624</td>\n",
       "    </tr>\n",
       "    <tr>\n",
       "      <th>22</th>\n",
       "      <td>La Rochelle</td>\n",
       "      <td>79.979758</td>\n",
       "      <td>74.321160</td>\n",
       "      <td>70.565536</td>\n",
       "      <td>66.717028</td>\n",
       "      <td>72.895870</td>\n",
       "    </tr>\n",
       "    <tr>\n",
       "      <th>46</th>\n",
       "      <td>Strasbourg</td>\n",
       "      <td>80.814431</td>\n",
       "      <td>75.891593</td>\n",
       "      <td>68.973335</td>\n",
       "      <td>65.030841</td>\n",
       "      <td>72.677550</td>\n",
       "    </tr>\n",
       "    <tr>\n",
       "      <th>23</th>\n",
       "      <td>Le Havre</td>\n",
       "      <td>80.010686</td>\n",
       "      <td>75.760899</td>\n",
       "      <td>68.886580</td>\n",
       "      <td>65.752660</td>\n",
       "      <td>72.602706</td>\n",
       "    </tr>\n",
       "    <tr>\n",
       "      <th>3</th>\n",
       "      <td>Amiens</td>\n",
       "      <td>81.700815</td>\n",
       "      <td>75.439681</td>\n",
       "      <td>67.807335</td>\n",
       "      <td>63.705470</td>\n",
       "      <td>72.163325</td>\n",
       "    </tr>\n",
       "    <tr>\n",
       "      <th>13</th>\n",
       "      <td>Brest</td>\n",
       "      <td>79.843593</td>\n",
       "      <td>74.283854</td>\n",
       "      <td>67.991299</td>\n",
       "      <td>65.476820</td>\n",
       "      <td>71.898891</td>\n",
       "    </tr>\n",
       "    <tr>\n",
       "      <th>19</th>\n",
       "      <td>Colmar</td>\n",
       "      <td>79.414541</td>\n",
       "      <td>72.980269</td>\n",
       "      <td>68.767073</td>\n",
       "      <td>66.090382</td>\n",
       "      <td>71.813066</td>\n",
       "    </tr>\n",
       "    <tr>\n",
       "      <th>32</th>\n",
       "      <td>Mulhouse</td>\n",
       "      <td>79.628915</td>\n",
       "      <td>72.834001</td>\n",
       "      <td>68.523254</td>\n",
       "      <td>65.791275</td>\n",
       "      <td>71.694361</td>\n",
       "    </tr>\n",
       "    <tr>\n",
       "      <th>20</th>\n",
       "      <td>Dijon</td>\n",
       "      <td>80.292758</td>\n",
       "      <td>74.100798</td>\n",
       "      <td>68.677821</td>\n",
       "      <td>63.000518</td>\n",
       "      <td>71.517974</td>\n",
       "    </tr>\n",
       "    <tr>\n",
       "      <th>28</th>\n",
       "      <td>Lyon</td>\n",
       "      <td>80.389710</td>\n",
       "      <td>73.802184</td>\n",
       "      <td>68.287959</td>\n",
       "      <td>63.042116</td>\n",
       "      <td>71.380492</td>\n",
       "    </tr>\n",
       "    <tr>\n",
       "      <th>37</th>\n",
       "      <td>Paris</td>\n",
       "      <td>80.022931</td>\n",
       "      <td>72.742800</td>\n",
       "      <td>68.528639</td>\n",
       "      <td>64.226746</td>\n",
       "      <td>71.380279</td>\n",
       "    </tr>\n",
       "    <tr>\n",
       "      <th>49</th>\n",
       "      <td>Villeurbanne</td>\n",
       "      <td>79.372649</td>\n",
       "      <td>73.671999</td>\n",
       "      <td>67.876361</td>\n",
       "      <td>63.270540</td>\n",
       "      <td>71.047887</td>\n",
       "    </tr>\n",
       "    <tr>\n",
       "      <th>26</th>\n",
       "      <td>Limoges</td>\n",
       "      <td>81.680659</td>\n",
       "      <td>73.070085</td>\n",
       "      <td>66.828008</td>\n",
       "      <td>61.800438</td>\n",
       "      <td>70.844797</td>\n",
       "    </tr>\n",
       "    <tr>\n",
       "      <th>44</th>\n",
       "      <td>Saint-Malo</td>\n",
       "      <td>79.540061</td>\n",
       "      <td>72.693451</td>\n",
       "      <td>67.140886</td>\n",
       "      <td>63.786542</td>\n",
       "      <td>70.790235</td>\n",
       "    </tr>\n",
       "    <tr>\n",
       "      <th>30</th>\n",
       "      <td>Metz</td>\n",
       "      <td>79.384759</td>\n",
       "      <td>72.888905</td>\n",
       "      <td>67.895724</td>\n",
       "      <td>62.802634</td>\n",
       "      <td>70.743006</td>\n",
       "    </tr>\n",
       "    <tr>\n",
       "      <th>12</th>\n",
       "      <td>Boulogne-sur-Mer</td>\n",
       "      <td>80.064552</td>\n",
       "      <td>73.150519</td>\n",
       "      <td>65.365954</td>\n",
       "      <td>63.756973</td>\n",
       "      <td>70.584500</td>\n",
       "    </tr>\n",
       "    <tr>\n",
       "      <th>25</th>\n",
       "      <td>Lille</td>\n",
       "      <td>79.212419</td>\n",
       "      <td>73.919203</td>\n",
       "      <td>66.962163</td>\n",
       "      <td>62.024318</td>\n",
       "      <td>70.529526</td>\n",
       "    </tr>\n",
       "    <tr>\n",
       "      <th>45</th>\n",
       "      <td>Saint-Étienne</td>\n",
       "      <td>79.375871</td>\n",
       "      <td>72.790489</td>\n",
       "      <td>66.537160</td>\n",
       "      <td>62.614222</td>\n",
       "      <td>70.329435</td>\n",
       "    </tr>\n",
       "    <tr>\n",
       "      <th>36</th>\n",
       "      <td>Orléans</td>\n",
       "      <td>79.821135</td>\n",
       "      <td>72.117362</td>\n",
       "      <td>66.785246</td>\n",
       "      <td>62.266536</td>\n",
       "      <td>70.247570</td>\n",
       "    </tr>\n",
       "    <tr>\n",
       "      <th>43</th>\n",
       "      <td>Rouen</td>\n",
       "      <td>79.091208</td>\n",
       "      <td>72.688584</td>\n",
       "      <td>66.895853</td>\n",
       "      <td>61.683602</td>\n",
       "      <td>70.089812</td>\n",
       "    </tr>\n",
       "    <tr>\n",
       "      <th>40</th>\n",
       "      <td>Poitiers</td>\n",
       "      <td>79.386885</td>\n",
       "      <td>70.234591</td>\n",
       "      <td>66.217726</td>\n",
       "      <td>63.157758</td>\n",
       "      <td>69.749240</td>\n",
       "    </tr>\n",
       "    <tr>\n",
       "      <th>14</th>\n",
       "      <td>Caen</td>\n",
       "      <td>77.216611</td>\n",
       "      <td>73.328303</td>\n",
       "      <td>64.229345</td>\n",
       "      <td>60.266097</td>\n",
       "      <td>68.760089</td>\n",
       "    </tr>\n",
       "    <tr>\n",
       "      <th>4</th>\n",
       "      <td>Angers</td>\n",
       "      <td>77.584759</td>\n",
       "      <td>71.015499</td>\n",
       "      <td>64.086915</td>\n",
       "      <td>59.962622</td>\n",
       "      <td>68.162449</td>\n",
       "    </tr>\n",
       "    <tr>\n",
       "      <th>24</th>\n",
       "      <td>Le Mans</td>\n",
       "      <td>78.113832</td>\n",
       "      <td>70.311876</td>\n",
       "      <td>64.473597</td>\n",
       "      <td>59.626990</td>\n",
       "      <td>68.131574</td>\n",
       "    </tr>\n",
       "    <tr>\n",
       "      <th>41</th>\n",
       "      <td>Reims</td>\n",
       "      <td>77.689244</td>\n",
       "      <td>70.930745</td>\n",
       "      <td>65.122913</td>\n",
       "      <td>58.306093</td>\n",
       "      <td>68.012249</td>\n",
       "    </tr>\n",
       "    <tr>\n",
       "      <th>18</th>\n",
       "      <td>Clermont-Ferrand</td>\n",
       "      <td>77.707366</td>\n",
       "      <td>70.206259</td>\n",
       "      <td>65.851663</td>\n",
       "      <td>57.537048</td>\n",
       "      <td>67.825584</td>\n",
       "    </tr>\n",
       "    <tr>\n",
       "      <th>33</th>\n",
       "      <td>Nantes</td>\n",
       "      <td>77.409200</td>\n",
       "      <td>69.081002</td>\n",
       "      <td>63.685420</td>\n",
       "      <td>60.928529</td>\n",
       "      <td>67.776038</td>\n",
       "    </tr>\n",
       "    <tr>\n",
       "      <th>42</th>\n",
       "      <td>Rennes</td>\n",
       "      <td>76.625398</td>\n",
       "      <td>68.968135</td>\n",
       "      <td>62.945475</td>\n",
       "      <td>58.747390</td>\n",
       "      <td>66.821600</td>\n",
       "    </tr>\n",
       "  </tbody>\n",
       "</table>\n",
       "</div>"
      ],
      "text/plain": [
       "            Ville_jour1  Accuracy_jour2  Accuracy_jour3  Accuracy_jour4  \\\n",
       "17  Chamonix-Mont-Blanc       86.959919       82.542816       78.701018   \n",
       "34                 Nice       84.956460       82.883015       80.988095   \n",
       "47               Toulon       85.631257       81.766446       79.611370   \n",
       "0       Aix-en-Provence       84.818311       80.846021       77.285691   \n",
       "35                Nîmes       83.553631       81.417832       77.684258   \n",
       "29            Marseille       84.895056       79.957924       76.397237   \n",
       "31          Montpellier       84.221133       80.209410       77.028911   \n",
       "6                 Arles       82.562800       80.446263       74.783684   \n",
       "39            Perpignan       84.246197       78.103211       76.346073   \n",
       "7               Avignon       83.014728       80.310968       74.264100   \n",
       "1               Ajaccio       84.797054       78.234356       75.627135   \n",
       "10             Biarritz       84.332618       77.301167       73.589402   \n",
       "8               Bayonne       83.993515       76.891133       73.396148   \n",
       "21             Grenoble       84.924030       77.410842       71.777755   \n",
       "38                  Pau       83.523707       77.404763       73.240746   \n",
       "11             Bordeaux       83.328602       75.782251       72.029517   \n",
       "15          Carcassonne       81.606814       78.841659       72.444033   \n",
       "5                Annecy       82.311125       76.617230       69.660112   \n",
       "48             Toulouse       82.113462       77.972472       72.050538   \n",
       "2                  Albi       82.827497       77.392227       71.430782   \n",
       "27              Lourdes       83.370006       74.791042       70.909491   \n",
       "9              Besançon       82.489818       75.799516       69.956808   \n",
       "16             Chambéry       82.005003       75.454099       70.410093   \n",
       "22          La Rochelle       79.979758       74.321160       70.565536   \n",
       "46           Strasbourg       80.814431       75.891593       68.973335   \n",
       "23             Le Havre       80.010686       75.760899       68.886580   \n",
       "3                Amiens       81.700815       75.439681       67.807335   \n",
       "13                Brest       79.843593       74.283854       67.991299   \n",
       "19               Colmar       79.414541       72.980269       68.767073   \n",
       "32             Mulhouse       79.628915       72.834001       68.523254   \n",
       "20                Dijon       80.292758       74.100798       68.677821   \n",
       "28                 Lyon       80.389710       73.802184       68.287959   \n",
       "37                Paris       80.022931       72.742800       68.528639   \n",
       "49         Villeurbanne       79.372649       73.671999       67.876361   \n",
       "26              Limoges       81.680659       73.070085       66.828008   \n",
       "44           Saint-Malo       79.540061       72.693451       67.140886   \n",
       "30                 Metz       79.384759       72.888905       67.895724   \n",
       "12     Boulogne-sur-Mer       80.064552       73.150519       65.365954   \n",
       "25                Lille       79.212419       73.919203       66.962163   \n",
       "45        Saint-Étienne       79.375871       72.790489       66.537160   \n",
       "36              Orléans       79.821135       72.117362       66.785246   \n",
       "43                Rouen       79.091208       72.688584       66.895853   \n",
       "40             Poitiers       79.386885       70.234591       66.217726   \n",
       "14                 Caen       77.216611       73.328303       64.229345   \n",
       "4                Angers       77.584759       71.015499       64.086915   \n",
       "24              Le Mans       78.113832       70.311876       64.473597   \n",
       "41                Reims       77.689244       70.930745       65.122913   \n",
       "18     Clermont-Ferrand       77.707366       70.206259       65.851663   \n",
       "33               Nantes       77.409200       69.081002       63.685420   \n",
       "42               Rennes       76.625398       68.968135       62.945475   \n",
       "\n",
       "    Accuracy_jour5  Mean_Accuracy  \n",
       "17       76.589085      81.198210  \n",
       "34       73.062847      80.472604  \n",
       "47       74.306955      80.329007  \n",
       "0        71.822601      78.693156  \n",
       "35       71.842509      78.624558  \n",
       "29       73.189839      78.610014  \n",
       "31       69.708236      77.791923  \n",
       "6        71.697443      77.372548  \n",
       "39       69.877269      77.143188  \n",
       "7        70.495136      77.021233  \n",
       "1        69.244260      76.975701  \n",
       "10       66.331249      75.388609  \n",
       "8        65.929388      75.052546  \n",
       "21       65.496949      74.902394  \n",
       "38       64.851642      74.755214  \n",
       "11       67.396577      74.634237  \n",
       "15       65.223575      74.529020  \n",
       "5        67.324011      73.978119  \n",
       "48       63.734570      73.967760  \n",
       "2        62.775188      73.606424  \n",
       "27       64.436889      73.376857  \n",
       "9        65.070272      73.329104  \n",
       "16       63.745298      72.903624  \n",
       "22       66.717028      72.895870  \n",
       "46       65.030841      72.677550  \n",
       "23       65.752660      72.602706  \n",
       "3        63.705470      72.163325  \n",
       "13       65.476820      71.898891  \n",
       "19       66.090382      71.813066  \n",
       "32       65.791275      71.694361  \n",
       "20       63.000518      71.517974  \n",
       "28       63.042116      71.380492  \n",
       "37       64.226746      71.380279  \n",
       "49       63.270540      71.047887  \n",
       "26       61.800438      70.844797  \n",
       "44       63.786542      70.790235  \n",
       "30       62.802634      70.743006  \n",
       "12       63.756973      70.584500  \n",
       "25       62.024318      70.529526  \n",
       "45       62.614222      70.329435  \n",
       "36       62.266536      70.247570  \n",
       "43       61.683602      70.089812  \n",
       "40       63.157758      69.749240  \n",
       "14       60.266097      68.760089  \n",
       "4        59.962622      68.162449  \n",
       "24       59.626990      68.131574  \n",
       "41       58.306093      68.012249  \n",
       "18       57.537048      67.825584  \n",
       "33       60.928529      67.776038  \n",
       "42       58.747390      66.821600  "
      ]
     },
     "metadata": {},
     "output_type": "display_data"
    }
   ],
   "source": [
    "# Calculer la moyenne des scores d'accuracy pour chaque ville et garder les latitudes et longitudes\n",
    "city_accuracy = all_data.groupby(\"Ville_jour1\")[[f\"Accuracy_{jour}\" for jour in jours_previsions]].mean().reset_index()\n",
    "\n",
    "# Calculer la moyenne des scores d'accuracy pour chaque ville\n",
    "city_accuracy[\"Mean_Accuracy\"] = city_accuracy[[f\"Accuracy_{jour}\" for jour in jours_previsions]].mean(axis=1)\n",
    "\n",
    "# Trier les villes par la moyenne des scores d'accuracy\n",
    "city_accuracy = city_accuracy.sort_values(by=\"Mean_Accuracy\", ascending=False)\n",
    "\n",
    "# Afficher les résultats\n",
    "display(city_accuracy)"
   ]
  },
  {
   "cell_type": "code",
   "execution_count": null,
   "metadata": {},
   "outputs": [
    {
     "data": {
      "text/html": [
       "<div>\n",
       "<style scoped>\n",
       "    .dataframe tbody tr th:only-of-type {\n",
       "        vertical-align: middle;\n",
       "    }\n",
       "\n",
       "    .dataframe tbody tr th {\n",
       "        vertical-align: top;\n",
       "    }\n",
       "\n",
       "    .dataframe thead th {\n",
       "        text-align: right;\n",
       "    }\n",
       "</style>\n",
       "<table border=\"1\" class=\"dataframe\">\n",
       "  <thead>\n",
       "    <tr style=\"text-align: right;\">\n",
       "      <th></th>\n",
       "      <th>Ville_jour1</th>\n",
       "      <th>Accuracy_jour2</th>\n",
       "      <th>Accuracy_jour3</th>\n",
       "      <th>Accuracy_jour4</th>\n",
       "      <th>Accuracy_jour5</th>\n",
       "      <th>Mean_Accuracy</th>\n",
       "      <th>Latitude_jour1</th>\n",
       "      <th>Longitude_jour1</th>\n",
       "    </tr>\n",
       "  </thead>\n",
       "  <tbody>\n",
       "    <tr>\n",
       "      <th>0</th>\n",
       "      <td>Chamonix-Mont-Blanc</td>\n",
       "      <td>86.959919</td>\n",
       "      <td>82.542816</td>\n",
       "      <td>78.701018</td>\n",
       "      <td>76.589085</td>\n",
       "      <td>81.198210</td>\n",
       "      <td>45.924670</td>\n",
       "      <td>6.872751</td>\n",
       "    </tr>\n",
       "    <tr>\n",
       "      <th>520</th>\n",
       "      <td>Nice</td>\n",
       "      <td>84.956460</td>\n",
       "      <td>82.883015</td>\n",
       "      <td>80.988095</td>\n",
       "      <td>73.062847</td>\n",
       "      <td>80.472604</td>\n",
       "      <td>43.700936</td>\n",
       "      <td>7.268391</td>\n",
       "    </tr>\n",
       "    <tr>\n",
       "      <th>1040</th>\n",
       "      <td>Toulon</td>\n",
       "      <td>85.631257</td>\n",
       "      <td>81.766446</td>\n",
       "      <td>79.611370</td>\n",
       "      <td>74.306955</td>\n",
       "      <td>80.329007</td>\n",
       "      <td>43.125731</td>\n",
       "      <td>5.930492</td>\n",
       "    </tr>\n",
       "    <tr>\n",
       "      <th>1560</th>\n",
       "      <td>Aix-en-Provence</td>\n",
       "      <td>84.818311</td>\n",
       "      <td>80.846021</td>\n",
       "      <td>77.285691</td>\n",
       "      <td>71.822601</td>\n",
       "      <td>78.693156</td>\n",
       "      <td>43.529842</td>\n",
       "      <td>5.447474</td>\n",
       "    </tr>\n",
       "    <tr>\n",
       "      <th>2080</th>\n",
       "      <td>Nîmes</td>\n",
       "      <td>83.553631</td>\n",
       "      <td>81.417832</td>\n",
       "      <td>77.684258</td>\n",
       "      <td>71.842509</td>\n",
       "      <td>78.624558</td>\n",
       "      <td>43.837425</td>\n",
       "      <td>4.360069</td>\n",
       "    </tr>\n",
       "    <tr>\n",
       "      <th>2600</th>\n",
       "      <td>Marseille</td>\n",
       "      <td>84.895056</td>\n",
       "      <td>79.957924</td>\n",
       "      <td>76.397237</td>\n",
       "      <td>73.189839</td>\n",
       "      <td>78.610014</td>\n",
       "      <td>43.296174</td>\n",
       "      <td>5.369953</td>\n",
       "    </tr>\n",
       "    <tr>\n",
       "      <th>3120</th>\n",
       "      <td>Montpellier</td>\n",
       "      <td>84.221133</td>\n",
       "      <td>80.209410</td>\n",
       "      <td>77.028911</td>\n",
       "      <td>69.708236</td>\n",
       "      <td>77.791923</td>\n",
       "      <td>43.611242</td>\n",
       "      <td>3.876734</td>\n",
       "    </tr>\n",
       "    <tr>\n",
       "      <th>3640</th>\n",
       "      <td>Arles</td>\n",
       "      <td>82.562800</td>\n",
       "      <td>80.446263</td>\n",
       "      <td>74.783684</td>\n",
       "      <td>71.697443</td>\n",
       "      <td>77.372548</td>\n",
       "      <td>43.677622</td>\n",
       "      <td>4.630965</td>\n",
       "    </tr>\n",
       "    <tr>\n",
       "      <th>4160</th>\n",
       "      <td>Perpignan</td>\n",
       "      <td>84.246197</td>\n",
       "      <td>78.103211</td>\n",
       "      <td>76.346073</td>\n",
       "      <td>69.877269</td>\n",
       "      <td>77.143188</td>\n",
       "      <td>42.698530</td>\n",
       "      <td>2.895312</td>\n",
       "    </tr>\n",
       "    <tr>\n",
       "      <th>4680</th>\n",
       "      <td>Avignon</td>\n",
       "      <td>83.014728</td>\n",
       "      <td>80.310968</td>\n",
       "      <td>74.264100</td>\n",
       "      <td>70.495136</td>\n",
       "      <td>77.021233</td>\n",
       "      <td>43.949249</td>\n",
       "      <td>4.805901</td>\n",
       "    </tr>\n",
       "    <tr>\n",
       "      <th>5200</th>\n",
       "      <td>Ajaccio</td>\n",
       "      <td>84.797054</td>\n",
       "      <td>78.234356</td>\n",
       "      <td>75.627135</td>\n",
       "      <td>69.244260</td>\n",
       "      <td>76.975701</td>\n",
       "      <td>41.926399</td>\n",
       "      <td>8.737603</td>\n",
       "    </tr>\n",
       "    <tr>\n",
       "      <th>5720</th>\n",
       "      <td>Biarritz</td>\n",
       "      <td>84.332618</td>\n",
       "      <td>77.301167</td>\n",
       "      <td>73.589402</td>\n",
       "      <td>66.331249</td>\n",
       "      <td>75.388609</td>\n",
       "      <td>43.483252</td>\n",
       "      <td>-1.559278</td>\n",
       "    </tr>\n",
       "    <tr>\n",
       "      <th>6240</th>\n",
       "      <td>Bayonne</td>\n",
       "      <td>83.993515</td>\n",
       "      <td>76.891133</td>\n",
       "      <td>73.396148</td>\n",
       "      <td>65.929388</td>\n",
       "      <td>75.052546</td>\n",
       "      <td>43.494514</td>\n",
       "      <td>-1.473666</td>\n",
       "    </tr>\n",
       "    <tr>\n",
       "      <th>6760</th>\n",
       "      <td>Grenoble</td>\n",
       "      <td>84.924030</td>\n",
       "      <td>77.410842</td>\n",
       "      <td>71.777755</td>\n",
       "      <td>65.496949</td>\n",
       "      <td>74.902394</td>\n",
       "      <td>45.187560</td>\n",
       "      <td>5.735782</td>\n",
       "    </tr>\n",
       "    <tr>\n",
       "      <th>7280</th>\n",
       "      <td>Pau</td>\n",
       "      <td>83.523707</td>\n",
       "      <td>77.404763</td>\n",
       "      <td>73.240746</td>\n",
       "      <td>64.851642</td>\n",
       "      <td>74.755214</td>\n",
       "      <td>43.295755</td>\n",
       "      <td>-0.368567</td>\n",
       "    </tr>\n",
       "    <tr>\n",
       "      <th>7800</th>\n",
       "      <td>Bordeaux</td>\n",
       "      <td>83.328602</td>\n",
       "      <td>75.782251</td>\n",
       "      <td>72.029517</td>\n",
       "      <td>67.396577</td>\n",
       "      <td>74.634237</td>\n",
       "      <td>44.841225</td>\n",
       "      <td>-0.580036</td>\n",
       "    </tr>\n",
       "    <tr>\n",
       "      <th>8320</th>\n",
       "      <td>Carcassonne</td>\n",
       "      <td>81.606814</td>\n",
       "      <td>78.841659</td>\n",
       "      <td>72.444033</td>\n",
       "      <td>65.223575</td>\n",
       "      <td>74.529020</td>\n",
       "      <td>43.213036</td>\n",
       "      <td>2.349107</td>\n",
       "    </tr>\n",
       "    <tr>\n",
       "      <th>8840</th>\n",
       "      <td>Annecy</td>\n",
       "      <td>82.311125</td>\n",
       "      <td>76.617230</td>\n",
       "      <td>69.660112</td>\n",
       "      <td>67.324011</td>\n",
       "      <td>73.978119</td>\n",
       "      <td>45.899235</td>\n",
       "      <td>6.128885</td>\n",
       "    </tr>\n",
       "    <tr>\n",
       "      <th>9360</th>\n",
       "      <td>Toulouse</td>\n",
       "      <td>82.113462</td>\n",
       "      <td>77.972472</td>\n",
       "      <td>72.050538</td>\n",
       "      <td>63.734570</td>\n",
       "      <td>73.967760</td>\n",
       "      <td>43.604462</td>\n",
       "      <td>1.444247</td>\n",
       "    </tr>\n",
       "    <tr>\n",
       "      <th>9880</th>\n",
       "      <td>Albi</td>\n",
       "      <td>82.827497</td>\n",
       "      <td>77.392227</td>\n",
       "      <td>71.430782</td>\n",
       "      <td>62.775188</td>\n",
       "      <td>73.606424</td>\n",
       "      <td>43.927755</td>\n",
       "      <td>2.147899</td>\n",
       "    </tr>\n",
       "    <tr>\n",
       "      <th>10400</th>\n",
       "      <td>Lourdes</td>\n",
       "      <td>83.370006</td>\n",
       "      <td>74.791042</td>\n",
       "      <td>70.909491</td>\n",
       "      <td>64.436889</td>\n",
       "      <td>73.376857</td>\n",
       "      <td>43.094090</td>\n",
       "      <td>-0.046497</td>\n",
       "    </tr>\n",
       "    <tr>\n",
       "      <th>10920</th>\n",
       "      <td>Besançon</td>\n",
       "      <td>82.489818</td>\n",
       "      <td>75.799516</td>\n",
       "      <td>69.956808</td>\n",
       "      <td>65.070272</td>\n",
       "      <td>73.329104</td>\n",
       "      <td>47.238022</td>\n",
       "      <td>6.024362</td>\n",
       "    </tr>\n",
       "    <tr>\n",
       "      <th>11440</th>\n",
       "      <td>Chambéry</td>\n",
       "      <td>82.005003</td>\n",
       "      <td>75.454099</td>\n",
       "      <td>70.410093</td>\n",
       "      <td>63.745298</td>\n",
       "      <td>72.903624</td>\n",
       "      <td>45.566267</td>\n",
       "      <td>5.920364</td>\n",
       "    </tr>\n",
       "    <tr>\n",
       "      <th>11960</th>\n",
       "      <td>La Rochelle</td>\n",
       "      <td>79.979758</td>\n",
       "      <td>74.321160</td>\n",
       "      <td>70.565536</td>\n",
       "      <td>66.717028</td>\n",
       "      <td>72.895870</td>\n",
       "      <td>46.159732</td>\n",
       "      <td>-1.151595</td>\n",
       "    </tr>\n",
       "    <tr>\n",
       "      <th>12480</th>\n",
       "      <td>Strasbourg</td>\n",
       "      <td>80.814431</td>\n",
       "      <td>75.891593</td>\n",
       "      <td>68.973335</td>\n",
       "      <td>65.030841</td>\n",
       "      <td>72.677550</td>\n",
       "      <td>48.584614</td>\n",
       "      <td>7.750713</td>\n",
       "    </tr>\n",
       "    <tr>\n",
       "      <th>13000</th>\n",
       "      <td>Le Havre</td>\n",
       "      <td>80.010686</td>\n",
       "      <td>75.760899</td>\n",
       "      <td>68.886580</td>\n",
       "      <td>65.752660</td>\n",
       "      <td>72.602706</td>\n",
       "      <td>49.493898</td>\n",
       "      <td>0.107973</td>\n",
       "    </tr>\n",
       "    <tr>\n",
       "      <th>13520</th>\n",
       "      <td>Amiens</td>\n",
       "      <td>81.700815</td>\n",
       "      <td>75.439681</td>\n",
       "      <td>67.807335</td>\n",
       "      <td>63.705470</td>\n",
       "      <td>72.163325</td>\n",
       "      <td>49.894171</td>\n",
       "      <td>2.295695</td>\n",
       "    </tr>\n",
       "    <tr>\n",
       "      <th>14040</th>\n",
       "      <td>Brest</td>\n",
       "      <td>79.843593</td>\n",
       "      <td>74.283854</td>\n",
       "      <td>67.991299</td>\n",
       "      <td>65.476820</td>\n",
       "      <td>71.898891</td>\n",
       "      <td>48.390528</td>\n",
       "      <td>-4.486009</td>\n",
       "    </tr>\n",
       "    <tr>\n",
       "      <th>14560</th>\n",
       "      <td>Colmar</td>\n",
       "      <td>79.414541</td>\n",
       "      <td>72.980269</td>\n",
       "      <td>68.767073</td>\n",
       "      <td>66.090382</td>\n",
       "      <td>71.813066</td>\n",
       "      <td>48.077752</td>\n",
       "      <td>7.357964</td>\n",
       "    </tr>\n",
       "    <tr>\n",
       "      <th>15080</th>\n",
       "      <td>Mulhouse</td>\n",
       "      <td>79.628915</td>\n",
       "      <td>72.834001</td>\n",
       "      <td>68.523254</td>\n",
       "      <td>65.791275</td>\n",
       "      <td>71.694361</td>\n",
       "      <td>47.746723</td>\n",
       "      <td>7.338994</td>\n",
       "    </tr>\n",
       "    <tr>\n",
       "      <th>15600</th>\n",
       "      <td>Dijon</td>\n",
       "      <td>80.292758</td>\n",
       "      <td>74.100798</td>\n",
       "      <td>68.677821</td>\n",
       "      <td>63.000518</td>\n",
       "      <td>71.517974</td>\n",
       "      <td>47.321581</td>\n",
       "      <td>5.041470</td>\n",
       "    </tr>\n",
       "    <tr>\n",
       "      <th>16120</th>\n",
       "      <td>Lyon</td>\n",
       "      <td>80.389710</td>\n",
       "      <td>73.802184</td>\n",
       "      <td>68.287959</td>\n",
       "      <td>63.042116</td>\n",
       "      <td>71.380492</td>\n",
       "      <td>45.757814</td>\n",
       "      <td>4.832011</td>\n",
       "    </tr>\n",
       "    <tr>\n",
       "      <th>16640</th>\n",
       "      <td>Paris</td>\n",
       "      <td>80.022931</td>\n",
       "      <td>72.742800</td>\n",
       "      <td>68.528639</td>\n",
       "      <td>64.226746</td>\n",
       "      <td>71.380279</td>\n",
       "      <td>48.858890</td>\n",
       "      <td>2.320041</td>\n",
       "    </tr>\n",
       "    <tr>\n",
       "      <th>17160</th>\n",
       "      <td>Villeurbanne</td>\n",
       "      <td>79.372649</td>\n",
       "      <td>73.671999</td>\n",
       "      <td>67.876361</td>\n",
       "      <td>63.270540</td>\n",
       "      <td>71.047887</td>\n",
       "      <td>45.773357</td>\n",
       "      <td>4.886845</td>\n",
       "    </tr>\n",
       "    <tr>\n",
       "      <th>17680</th>\n",
       "      <td>Limoges</td>\n",
       "      <td>81.680659</td>\n",
       "      <td>73.070085</td>\n",
       "      <td>66.828008</td>\n",
       "      <td>61.800438</td>\n",
       "      <td>70.844797</td>\n",
       "      <td>45.835424</td>\n",
       "      <td>1.264485</td>\n",
       "    </tr>\n",
       "    <tr>\n",
       "      <th>18200</th>\n",
       "      <td>Saint-Malo</td>\n",
       "      <td>79.540061</td>\n",
       "      <td>72.693451</td>\n",
       "      <td>67.140886</td>\n",
       "      <td>63.786542</td>\n",
       "      <td>70.790235</td>\n",
       "      <td>48.649518</td>\n",
       "      <td>-2.026041</td>\n",
       "    </tr>\n",
       "    <tr>\n",
       "      <th>18720</th>\n",
       "      <td>Metz</td>\n",
       "      <td>79.384759</td>\n",
       "      <td>72.888905</td>\n",
       "      <td>67.895724</td>\n",
       "      <td>62.802634</td>\n",
       "      <td>70.743006</td>\n",
       "      <td>49.119696</td>\n",
       "      <td>6.176355</td>\n",
       "    </tr>\n",
       "    <tr>\n",
       "      <th>19240</th>\n",
       "      <td>Boulogne-sur-Mer</td>\n",
       "      <td>80.064552</td>\n",
       "      <td>73.150519</td>\n",
       "      <td>65.365954</td>\n",
       "      <td>63.756973</td>\n",
       "      <td>70.584500</td>\n",
       "      <td>50.725999</td>\n",
       "      <td>1.611877</td>\n",
       "    </tr>\n",
       "    <tr>\n",
       "      <th>19760</th>\n",
       "      <td>Lille</td>\n",
       "      <td>79.212419</td>\n",
       "      <td>73.919203</td>\n",
       "      <td>66.962163</td>\n",
       "      <td>62.024318</td>\n",
       "      <td>70.529526</td>\n",
       "      <td>50.636565</td>\n",
       "      <td>3.063528</td>\n",
       "    </tr>\n",
       "    <tr>\n",
       "      <th>20280</th>\n",
       "      <td>Saint-Étienne</td>\n",
       "      <td>79.375871</td>\n",
       "      <td>72.790489</td>\n",
       "      <td>66.537160</td>\n",
       "      <td>62.614222</td>\n",
       "      <td>70.329435</td>\n",
       "      <td>45.440147</td>\n",
       "      <td>4.387306</td>\n",
       "    </tr>\n",
       "    <tr>\n",
       "      <th>20800</th>\n",
       "      <td>Orléans</td>\n",
       "      <td>79.821135</td>\n",
       "      <td>72.117362</td>\n",
       "      <td>66.785246</td>\n",
       "      <td>62.266536</td>\n",
       "      <td>70.247570</td>\n",
       "      <td>47.902734</td>\n",
       "      <td>1.908607</td>\n",
       "    </tr>\n",
       "    <tr>\n",
       "      <th>21320</th>\n",
       "      <td>Rouen</td>\n",
       "      <td>79.091208</td>\n",
       "      <td>72.688584</td>\n",
       "      <td>66.895853</td>\n",
       "      <td>61.683602</td>\n",
       "      <td>70.089812</td>\n",
       "      <td>49.440459</td>\n",
       "      <td>1.093966</td>\n",
       "    </tr>\n",
       "    <tr>\n",
       "      <th>21840</th>\n",
       "      <td>Poitiers</td>\n",
       "      <td>79.386885</td>\n",
       "      <td>70.234591</td>\n",
       "      <td>66.217726</td>\n",
       "      <td>63.157758</td>\n",
       "      <td>69.749240</td>\n",
       "      <td>46.580260</td>\n",
       "      <td>0.340196</td>\n",
       "    </tr>\n",
       "    <tr>\n",
       "      <th>22360</th>\n",
       "      <td>Caen</td>\n",
       "      <td>77.216611</td>\n",
       "      <td>73.328303</td>\n",
       "      <td>64.229345</td>\n",
       "      <td>60.266097</td>\n",
       "      <td>68.760089</td>\n",
       "      <td>49.181340</td>\n",
       "      <td>-0.363561</td>\n",
       "    </tr>\n",
       "    <tr>\n",
       "      <th>22880</th>\n",
       "      <td>Angers</td>\n",
       "      <td>77.584759</td>\n",
       "      <td>71.015499</td>\n",
       "      <td>64.086915</td>\n",
       "      <td>59.962622</td>\n",
       "      <td>68.162449</td>\n",
       "      <td>47.473988</td>\n",
       "      <td>-0.551559</td>\n",
       "    </tr>\n",
       "    <tr>\n",
       "      <th>23400</th>\n",
       "      <td>Le Mans</td>\n",
       "      <td>78.113832</td>\n",
       "      <td>70.311876</td>\n",
       "      <td>64.473597</td>\n",
       "      <td>59.626990</td>\n",
       "      <td>68.131574</td>\n",
       "      <td>48.007385</td>\n",
       "      <td>0.196785</td>\n",
       "    </tr>\n",
       "    <tr>\n",
       "      <th>23920</th>\n",
       "      <td>Reims</td>\n",
       "      <td>77.689244</td>\n",
       "      <td>70.930745</td>\n",
       "      <td>65.122913</td>\n",
       "      <td>58.306093</td>\n",
       "      <td>68.012249</td>\n",
       "      <td>49.257789</td>\n",
       "      <td>4.031926</td>\n",
       "    </tr>\n",
       "    <tr>\n",
       "      <th>24440</th>\n",
       "      <td>Clermont-Ferrand</td>\n",
       "      <td>77.707366</td>\n",
       "      <td>70.206259</td>\n",
       "      <td>65.851663</td>\n",
       "      <td>57.537048</td>\n",
       "      <td>67.825584</td>\n",
       "      <td>45.777455</td>\n",
       "      <td>3.081943</td>\n",
       "    </tr>\n",
       "    <tr>\n",
       "      <th>24960</th>\n",
       "      <td>Nantes</td>\n",
       "      <td>77.409200</td>\n",
       "      <td>69.081002</td>\n",
       "      <td>63.685420</td>\n",
       "      <td>60.928529</td>\n",
       "      <td>67.776038</td>\n",
       "      <td>47.218637</td>\n",
       "      <td>-1.554136</td>\n",
       "    </tr>\n",
       "    <tr>\n",
       "      <th>25480</th>\n",
       "      <td>Rennes</td>\n",
       "      <td>76.625398</td>\n",
       "      <td>68.968135</td>\n",
       "      <td>62.945475</td>\n",
       "      <td>58.747390</td>\n",
       "      <td>66.821600</td>\n",
       "      <td>48.111339</td>\n",
       "      <td>-1.680020</td>\n",
       "    </tr>\n",
       "  </tbody>\n",
       "</table>\n",
       "</div>"
      ],
      "text/plain": [
       "               Ville_jour1  Accuracy_jour2  Accuracy_jour3  Accuracy_jour4  \\\n",
       "0      Chamonix-Mont-Blanc       86.959919       82.542816       78.701018   \n",
       "520                   Nice       84.956460       82.883015       80.988095   \n",
       "1040                Toulon       85.631257       81.766446       79.611370   \n",
       "1560       Aix-en-Provence       84.818311       80.846021       77.285691   \n",
       "2080                 Nîmes       83.553631       81.417832       77.684258   \n",
       "2600             Marseille       84.895056       79.957924       76.397237   \n",
       "3120           Montpellier       84.221133       80.209410       77.028911   \n",
       "3640                 Arles       82.562800       80.446263       74.783684   \n",
       "4160             Perpignan       84.246197       78.103211       76.346073   \n",
       "4680               Avignon       83.014728       80.310968       74.264100   \n",
       "5200               Ajaccio       84.797054       78.234356       75.627135   \n",
       "5720              Biarritz       84.332618       77.301167       73.589402   \n",
       "6240               Bayonne       83.993515       76.891133       73.396148   \n",
       "6760              Grenoble       84.924030       77.410842       71.777755   \n",
       "7280                   Pau       83.523707       77.404763       73.240746   \n",
       "7800              Bordeaux       83.328602       75.782251       72.029517   \n",
       "8320           Carcassonne       81.606814       78.841659       72.444033   \n",
       "8840                Annecy       82.311125       76.617230       69.660112   \n",
       "9360              Toulouse       82.113462       77.972472       72.050538   \n",
       "9880                  Albi       82.827497       77.392227       71.430782   \n",
       "10400              Lourdes       83.370006       74.791042       70.909491   \n",
       "10920             Besançon       82.489818       75.799516       69.956808   \n",
       "11440             Chambéry       82.005003       75.454099       70.410093   \n",
       "11960          La Rochelle       79.979758       74.321160       70.565536   \n",
       "12480           Strasbourg       80.814431       75.891593       68.973335   \n",
       "13000             Le Havre       80.010686       75.760899       68.886580   \n",
       "13520               Amiens       81.700815       75.439681       67.807335   \n",
       "14040                Brest       79.843593       74.283854       67.991299   \n",
       "14560               Colmar       79.414541       72.980269       68.767073   \n",
       "15080             Mulhouse       79.628915       72.834001       68.523254   \n",
       "15600                Dijon       80.292758       74.100798       68.677821   \n",
       "16120                 Lyon       80.389710       73.802184       68.287959   \n",
       "16640                Paris       80.022931       72.742800       68.528639   \n",
       "17160         Villeurbanne       79.372649       73.671999       67.876361   \n",
       "17680              Limoges       81.680659       73.070085       66.828008   \n",
       "18200           Saint-Malo       79.540061       72.693451       67.140886   \n",
       "18720                 Metz       79.384759       72.888905       67.895724   \n",
       "19240     Boulogne-sur-Mer       80.064552       73.150519       65.365954   \n",
       "19760                Lille       79.212419       73.919203       66.962163   \n",
       "20280        Saint-Étienne       79.375871       72.790489       66.537160   \n",
       "20800              Orléans       79.821135       72.117362       66.785246   \n",
       "21320                Rouen       79.091208       72.688584       66.895853   \n",
       "21840             Poitiers       79.386885       70.234591       66.217726   \n",
       "22360                 Caen       77.216611       73.328303       64.229345   \n",
       "22880               Angers       77.584759       71.015499       64.086915   \n",
       "23400              Le Mans       78.113832       70.311876       64.473597   \n",
       "23920                Reims       77.689244       70.930745       65.122913   \n",
       "24440     Clermont-Ferrand       77.707366       70.206259       65.851663   \n",
       "24960               Nantes       77.409200       69.081002       63.685420   \n",
       "25480               Rennes       76.625398       68.968135       62.945475   \n",
       "\n",
       "       Accuracy_jour5  Mean_Accuracy  Latitude_jour1  Longitude_jour1  \n",
       "0           76.589085      81.198210       45.924670         6.872751  \n",
       "520         73.062847      80.472604       43.700936         7.268391  \n",
       "1040        74.306955      80.329007       43.125731         5.930492  \n",
       "1560        71.822601      78.693156       43.529842         5.447474  \n",
       "2080        71.842509      78.624558       43.837425         4.360069  \n",
       "2600        73.189839      78.610014       43.296174         5.369953  \n",
       "3120        69.708236      77.791923       43.611242         3.876734  \n",
       "3640        71.697443      77.372548       43.677622         4.630965  \n",
       "4160        69.877269      77.143188       42.698530         2.895312  \n",
       "4680        70.495136      77.021233       43.949249         4.805901  \n",
       "5200        69.244260      76.975701       41.926399         8.737603  \n",
       "5720        66.331249      75.388609       43.483252        -1.559278  \n",
       "6240        65.929388      75.052546       43.494514        -1.473666  \n",
       "6760        65.496949      74.902394       45.187560         5.735782  \n",
       "7280        64.851642      74.755214       43.295755        -0.368567  \n",
       "7800        67.396577      74.634237       44.841225        -0.580036  \n",
       "8320        65.223575      74.529020       43.213036         2.349107  \n",
       "8840        67.324011      73.978119       45.899235         6.128885  \n",
       "9360        63.734570      73.967760       43.604462         1.444247  \n",
       "9880        62.775188      73.606424       43.927755         2.147899  \n",
       "10400       64.436889      73.376857       43.094090        -0.046497  \n",
       "10920       65.070272      73.329104       47.238022         6.024362  \n",
       "11440       63.745298      72.903624       45.566267         5.920364  \n",
       "11960       66.717028      72.895870       46.159732        -1.151595  \n",
       "12480       65.030841      72.677550       48.584614         7.750713  \n",
       "13000       65.752660      72.602706       49.493898         0.107973  \n",
       "13520       63.705470      72.163325       49.894171         2.295695  \n",
       "14040       65.476820      71.898891       48.390528        -4.486009  \n",
       "14560       66.090382      71.813066       48.077752         7.357964  \n",
       "15080       65.791275      71.694361       47.746723         7.338994  \n",
       "15600       63.000518      71.517974       47.321581         5.041470  \n",
       "16120       63.042116      71.380492       45.757814         4.832011  \n",
       "16640       64.226746      71.380279       48.858890         2.320041  \n",
       "17160       63.270540      71.047887       45.773357         4.886845  \n",
       "17680       61.800438      70.844797       45.835424         1.264485  \n",
       "18200       63.786542      70.790235       48.649518        -2.026041  \n",
       "18720       62.802634      70.743006       49.119696         6.176355  \n",
       "19240       63.756973      70.584500       50.725999         1.611877  \n",
       "19760       62.024318      70.529526       50.636565         3.063528  \n",
       "20280       62.614222      70.329435       45.440147         4.387306  \n",
       "20800       62.266536      70.247570       47.902734         1.908607  \n",
       "21320       61.683602      70.089812       49.440459         1.093966  \n",
       "21840       63.157758      69.749240       46.580260         0.340196  \n",
       "22360       60.266097      68.760089       49.181340        -0.363561  \n",
       "22880       59.962622      68.162449       47.473988        -0.551559  \n",
       "23400       59.626990      68.131574       48.007385         0.196785  \n",
       "23920       58.306093      68.012249       49.257789         4.031926  \n",
       "24440       57.537048      67.825584       45.777455         3.081943  \n",
       "24960       60.928529      67.776038       47.218637        -1.554136  \n",
       "25480       58.747390      66.821600       48.111339        -1.680020  "
      ]
     },
     "metadata": {},
     "output_type": "display_data"
    }
   ],
   "source": [
    "# incorporer le score d'accuracy dans le DataFrame\n",
    "city_accuracy = pd.merge(city_accuracy, all_data[[\"Ville_jour1\", \"Latitude_jour1\", \"Longitude_jour1\"]], on=\"Ville_jour1\")\n",
    "\n",
    "# Drop duplicates\n",
    "city_accuracy = city_accuracy.drop_duplicates(subset=[\"Ville_jour1\"])\n",
    "\n",
    "# Afficher les résultats\n",
    "display(city_accuracy)"
   ]
  },
  {
   "cell_type": "code",
   "execution_count": 62,
   "metadata": {},
   "outputs": [
    {
     "name": "stderr",
     "output_type": "stream",
     "text": [
      "C:\\Users\\j-bal\\AppData\\Local\\Temp\\ipykernel_5524\\387111209.py:6: SettingWithCopyWarning:\n",
      "\n",
      "\n",
      "A value is trying to be set on a copy of a slice from a DataFrame.\n",
      "Try using .loc[row_indexer,col_indexer] = value instead\n",
      "\n",
      "See the caveats in the documentation: https://pandas.pydata.org/pandas-docs/stable/user_guide/indexing.html#returning-a-view-versus-a-copy\n",
      "\n",
      "C:\\Users\\j-bal\\AppData\\Local\\Temp\\ipykernel_5524\\387111209.py:7: SettingWithCopyWarning:\n",
      "\n",
      "\n",
      "A value is trying to be set on a copy of a slice from a DataFrame.\n",
      "Try using .loc[row_indexer,col_indexer] = value instead\n",
      "\n",
      "See the caveats in the documentation: https://pandas.pydata.org/pandas-docs/stable/user_guide/indexing.html#returning-a-view-versus-a-copy\n",
      "\n",
      "c:\\Users\\j-bal\\anaconda3\\Lib\\site-packages\\plotly\\express\\_core.py:1979: FutureWarning:\n",
      "\n",
      "When grouping with a length-1 list-like, you will need to pass a length-1 tuple to get_group in a future version of pandas. Pass `(name,)` instead of `name` to silence this warning.\n",
      "\n"
     ]
    },
    {
     "data": {
      "application/vnd.plotly.v1+json": {
       "config": {
        "plotlyServerURL": "https://plot.ly"
       },
       "data": [
        {
         "customdata": [
          [
           81.19820956193075
          ],
          [
           80.47260395222376
          ],
          [
           80.32900703237486
          ],
          [
           78.69315611969998
          ],
          [
           78.62455769027378
          ],
          [
           78.61001401087532
          ],
          [
           77.79192250240934
          ],
          [
           77.37254753937879
          ],
          [
           77.14318752643652
          ],
          [
           77.02123277602965
          ],
          [
           76.97570121158856
          ],
          [
           75.38860908673905
          ],
          [
           75.05254572366243
          ],
          [
           74.9023939831861
          ],
          [
           74.75521417159864
          ],
          [
           74.63423677909987
          ],
          [
           74.52902034933342
          ],
          [
           73.97811937104683
          ],
          [
           73.96776045272324
          ],
          [
           73.60642357943286
          ],
          [
           73.37685699987826
          ],
          [
           73.3291035115284
          ],
          [
           72.90362367629025
          ],
          [
           72.89587039617815
          ],
          [
           72.67755007650501
          ]
         ],
         "hovertemplate": "<b>%{hovertext}</b><br><br>Category=Top 25<br>Size=%{marker.size}<br>Latitude_jour1=%{lat}<br>Longitude_jour1=%{lon}<br>Mean_Accuracy=%{customdata[0]}<extra></extra>",
         "hovertext": [
          "Chamonix-Mont-Blanc",
          "Nice",
          "Toulon",
          "Aix-en-Provence",
          "Nîmes",
          "Marseille",
          "Montpellier",
          "Arles",
          "Perpignan",
          "Avignon",
          "Ajaccio",
          "Biarritz",
          "Bayonne",
          "Grenoble",
          "Pau",
          "Bordeaux",
          "Carcassonne",
          "Annecy",
          "Toulouse",
          "Albi",
          "Lourdes",
          "Besançon",
          "Chambéry",
          "La Rochelle",
          "Strasbourg"
         ],
         "lat": [
          45.9246705,
          43.7009358,
          43.1257311,
          43.5298424,
          43.8374249,
          43.2961743,
          43.6112422,
          43.6776223,
          42.6985304,
          43.9492493,
          41.9263991,
          43.4832523,
          43.4945144,
          45.1875602,
          43.2957547,
          44.841225,
          43.2130358,
          45.8992348,
          43.6044622,
          43.9277552,
          43.0940904,
          47.2380222,
          45.5662672,
          46.159732,
          48.584614
         ],
         "legendgroup": "Top 25",
         "lon": [
          6.8727506,
          7.2683912,
          5.9304919,
          5.4474738,
          4.3600687,
          5.3699525,
          3.8767337,
          4.6309653,
          2.8953121,
          4.8059012,
          8.7376029,
          -1.5592776,
          -1.4736657,
          5.7357819,
          -0.3685668,
          -0.5800364,
          2.3491069,
          6.1288847,
          1.4442469,
          2.147899,
          -0.0464975,
          6.0243622,
          5.9203636,
          -1.1515951,
          7.7507127
         ],
         "marker": {
          "color": "red",
          "size": [
           5,
           5,
           5,
           5,
           5,
           5,
           5,
           5,
           5,
           5,
           5,
           5,
           5,
           5,
           5,
           5,
           5,
           5,
           5,
           5,
           5,
           5,
           5,
           5,
           5
          ],
          "sizemode": "area",
          "sizeref": 0.05
         },
         "mode": "markers",
         "name": "Top 25",
         "showlegend": true,
         "subplot": "mapbox",
         "type": "scattermapbox"
        },
        {
         "customdata": [
          [
           72.60270636889442
          ],
          [
           72.16332517205848
          ],
          [
           71.89889143205777
          ],
          [
           71.81306639075785
          ],
          [
           71.69436125012035
          ],
          [
           71.51797377108451
          ],
          [
           71.38049217734024
          ],
          [
           71.38027922459403
          ],
          [
           71.04788744986179
          ],
          [
           70.84479738810879
          ],
          [
           70.79023498295875
          ],
          [
           70.74300569270791
          ],
          [
           70.5844995743944
          ],
          [
           70.5295256496409
          ],
          [
           70.32943547023329
          ],
          [
           70.2475698716852
          ],
          [
           70.08981156226763
          ],
          [
           69.7492399330084
          ],
          [
           68.76008881278612
          ],
          [
           68.16244858062254
          ],
          [
           68.131574033267
          ],
          [
           68.0122485417143
          ],
          [
           67.82558384368298
          ],
          [
           67.77603775611428
          ],
          [
           66.82159955332641
          ]
         ],
         "hovertemplate": "<b>%{hovertext}</b><br><br>Category=Worst 25<br>Size=%{marker.size}<br>Latitude_jour1=%{lat}<br>Longitude_jour1=%{lon}<br>Mean_Accuracy=%{customdata[0]}<extra></extra>",
         "hovertext": [
          "Le Havre",
          "Amiens",
          "Brest",
          "Colmar",
          "Mulhouse",
          "Dijon",
          "Lyon",
          "Paris",
          "Villeurbanne",
          "Limoges",
          "Saint-Malo",
          "Metz",
          "Boulogne-sur-Mer",
          "Lille",
          "Saint-Étienne",
          "Orléans",
          "Rouen",
          "Poitiers",
          "Caen",
          "Angers",
          "Le Mans",
          "Reims",
          "Clermont-Ferrand",
          "Nantes",
          "Rennes"
         ],
         "lat": [
          49.4938975,
          49.8941708,
          48.3905283,
          48.0777517,
          47.7467233,
          47.3215806,
          45.7578137,
          48.8588897,
          45.7733573,
          45.8354243,
          48.649518,
          49.1196964,
          50.7259985,
          50.6365654,
          45.4401467,
          47.9027336,
          49.4404591,
          46.5802596,
          49.1813403,
          47.4739884,
          48.0073849,
          49.2577886,
          45.7774551,
          47.2186371,
          48.1113387
         ],
         "legendgroup": "Worst 25",
         "lon": [
          0.1079732,
          2.2956951,
          -4.4860088,
          7.3579641,
          7.3389937,
          5.0414701,
          4.8320114,
          2.3200410217200766,
          4.8868454,
          1.2644847,
          -2.0260409,
          6.1763552,
          1.6118771,
          3.0635282,
          4.3873058,
          1.9086066,
          1.0939658,
          0.340196,
          -0.3635615,
          -0.5515588,
          0.1967849,
          4.031926,
          3.0819427,
          -1.5541362,
          -1.6800198
         ],
         "marker": {
          "color": "blue",
          "size": [
           5,
           5,
           5,
           5,
           5,
           5,
           5,
           5,
           5,
           5,
           5,
           5,
           5,
           5,
           5,
           5,
           5,
           5,
           5,
           5,
           5,
           5,
           5,
           5,
           5
          ],
          "sizemode": "area",
          "sizeref": 0.05
         },
         "mode": "markers",
         "name": "Worst 25",
         "showlegend": true,
         "subplot": "mapbox",
         "type": "scattermapbox"
        }
       ],
       "layout": {
        "legend": {
         "itemsizing": "constant",
         "title": {
          "text": "Category"
         },
         "tracegroupgap": 0
        },
        "mapbox": {
         "center": {
          "lat": 46.150815806,
          "lon": 2.8638800744344017
         },
         "domain": {
          "x": [
           0,
           1
          ],
          "y": [
           0,
           1
          ]
         },
         "style": "open-street-map",
         "zoom": 3.5
        },
        "margin": {
         "t": 60
        },
        "template": {
         "data": {
          "bar": [
           {
            "error_x": {
             "color": "#2a3f5f"
            },
            "error_y": {
             "color": "#2a3f5f"
            },
            "marker": {
             "line": {
              "color": "#E5ECF6",
              "width": 0.5
             },
             "pattern": {
              "fillmode": "overlay",
              "size": 10,
              "solidity": 0.2
             }
            },
            "type": "bar"
           }
          ],
          "barpolar": [
           {
            "marker": {
             "line": {
              "color": "#E5ECF6",
              "width": 0.5
             },
             "pattern": {
              "fillmode": "overlay",
              "size": 10,
              "solidity": 0.2
             }
            },
            "type": "barpolar"
           }
          ],
          "carpet": [
           {
            "aaxis": {
             "endlinecolor": "#2a3f5f",
             "gridcolor": "white",
             "linecolor": "white",
             "minorgridcolor": "white",
             "startlinecolor": "#2a3f5f"
            },
            "baxis": {
             "endlinecolor": "#2a3f5f",
             "gridcolor": "white",
             "linecolor": "white",
             "minorgridcolor": "white",
             "startlinecolor": "#2a3f5f"
            },
            "type": "carpet"
           }
          ],
          "choropleth": [
           {
            "colorbar": {
             "outlinewidth": 0,
             "ticks": ""
            },
            "type": "choropleth"
           }
          ],
          "contour": [
           {
            "colorbar": {
             "outlinewidth": 0,
             "ticks": ""
            },
            "colorscale": [
             [
              0,
              "#0d0887"
             ],
             [
              0.1111111111111111,
              "#46039f"
             ],
             [
              0.2222222222222222,
              "#7201a8"
             ],
             [
              0.3333333333333333,
              "#9c179e"
             ],
             [
              0.4444444444444444,
              "#bd3786"
             ],
             [
              0.5555555555555556,
              "#d8576b"
             ],
             [
              0.6666666666666666,
              "#ed7953"
             ],
             [
              0.7777777777777778,
              "#fb9f3a"
             ],
             [
              0.8888888888888888,
              "#fdca26"
             ],
             [
              1,
              "#f0f921"
             ]
            ],
            "type": "contour"
           }
          ],
          "contourcarpet": [
           {
            "colorbar": {
             "outlinewidth": 0,
             "ticks": ""
            },
            "type": "contourcarpet"
           }
          ],
          "heatmap": [
           {
            "colorbar": {
             "outlinewidth": 0,
             "ticks": ""
            },
            "colorscale": [
             [
              0,
              "#0d0887"
             ],
             [
              0.1111111111111111,
              "#46039f"
             ],
             [
              0.2222222222222222,
              "#7201a8"
             ],
             [
              0.3333333333333333,
              "#9c179e"
             ],
             [
              0.4444444444444444,
              "#bd3786"
             ],
             [
              0.5555555555555556,
              "#d8576b"
             ],
             [
              0.6666666666666666,
              "#ed7953"
             ],
             [
              0.7777777777777778,
              "#fb9f3a"
             ],
             [
              0.8888888888888888,
              "#fdca26"
             ],
             [
              1,
              "#f0f921"
             ]
            ],
            "type": "heatmap"
           }
          ],
          "heatmapgl": [
           {
            "colorbar": {
             "outlinewidth": 0,
             "ticks": ""
            },
            "colorscale": [
             [
              0,
              "#0d0887"
             ],
             [
              0.1111111111111111,
              "#46039f"
             ],
             [
              0.2222222222222222,
              "#7201a8"
             ],
             [
              0.3333333333333333,
              "#9c179e"
             ],
             [
              0.4444444444444444,
              "#bd3786"
             ],
             [
              0.5555555555555556,
              "#d8576b"
             ],
             [
              0.6666666666666666,
              "#ed7953"
             ],
             [
              0.7777777777777778,
              "#fb9f3a"
             ],
             [
              0.8888888888888888,
              "#fdca26"
             ],
             [
              1,
              "#f0f921"
             ]
            ],
            "type": "heatmapgl"
           }
          ],
          "histogram": [
           {
            "marker": {
             "pattern": {
              "fillmode": "overlay",
              "size": 10,
              "solidity": 0.2
             }
            },
            "type": "histogram"
           }
          ],
          "histogram2d": [
           {
            "colorbar": {
             "outlinewidth": 0,
             "ticks": ""
            },
            "colorscale": [
             [
              0,
              "#0d0887"
             ],
             [
              0.1111111111111111,
              "#46039f"
             ],
             [
              0.2222222222222222,
              "#7201a8"
             ],
             [
              0.3333333333333333,
              "#9c179e"
             ],
             [
              0.4444444444444444,
              "#bd3786"
             ],
             [
              0.5555555555555556,
              "#d8576b"
             ],
             [
              0.6666666666666666,
              "#ed7953"
             ],
             [
              0.7777777777777778,
              "#fb9f3a"
             ],
             [
              0.8888888888888888,
              "#fdca26"
             ],
             [
              1,
              "#f0f921"
             ]
            ],
            "type": "histogram2d"
           }
          ],
          "histogram2dcontour": [
           {
            "colorbar": {
             "outlinewidth": 0,
             "ticks": ""
            },
            "colorscale": [
             [
              0,
              "#0d0887"
             ],
             [
              0.1111111111111111,
              "#46039f"
             ],
             [
              0.2222222222222222,
              "#7201a8"
             ],
             [
              0.3333333333333333,
              "#9c179e"
             ],
             [
              0.4444444444444444,
              "#bd3786"
             ],
             [
              0.5555555555555556,
              "#d8576b"
             ],
             [
              0.6666666666666666,
              "#ed7953"
             ],
             [
              0.7777777777777778,
              "#fb9f3a"
             ],
             [
              0.8888888888888888,
              "#fdca26"
             ],
             [
              1,
              "#f0f921"
             ]
            ],
            "type": "histogram2dcontour"
           }
          ],
          "mesh3d": [
           {
            "colorbar": {
             "outlinewidth": 0,
             "ticks": ""
            },
            "type": "mesh3d"
           }
          ],
          "parcoords": [
           {
            "line": {
             "colorbar": {
              "outlinewidth": 0,
              "ticks": ""
             }
            },
            "type": "parcoords"
           }
          ],
          "pie": [
           {
            "automargin": true,
            "type": "pie"
           }
          ],
          "scatter": [
           {
            "fillpattern": {
             "fillmode": "overlay",
             "size": 10,
             "solidity": 0.2
            },
            "type": "scatter"
           }
          ],
          "scatter3d": [
           {
            "line": {
             "colorbar": {
              "outlinewidth": 0,
              "ticks": ""
             }
            },
            "marker": {
             "colorbar": {
              "outlinewidth": 0,
              "ticks": ""
             }
            },
            "type": "scatter3d"
           }
          ],
          "scattercarpet": [
           {
            "marker": {
             "colorbar": {
              "outlinewidth": 0,
              "ticks": ""
             }
            },
            "type": "scattercarpet"
           }
          ],
          "scattergeo": [
           {
            "marker": {
             "colorbar": {
              "outlinewidth": 0,
              "ticks": ""
             }
            },
            "type": "scattergeo"
           }
          ],
          "scattergl": [
           {
            "marker": {
             "colorbar": {
              "outlinewidth": 0,
              "ticks": ""
             }
            },
            "type": "scattergl"
           }
          ],
          "scattermapbox": [
           {
            "marker": {
             "colorbar": {
              "outlinewidth": 0,
              "ticks": ""
             }
            },
            "type": "scattermapbox"
           }
          ],
          "scatterpolar": [
           {
            "marker": {
             "colorbar": {
              "outlinewidth": 0,
              "ticks": ""
             }
            },
            "type": "scatterpolar"
           }
          ],
          "scatterpolargl": [
           {
            "marker": {
             "colorbar": {
              "outlinewidth": 0,
              "ticks": ""
             }
            },
            "type": "scatterpolargl"
           }
          ],
          "scatterternary": [
           {
            "marker": {
             "colorbar": {
              "outlinewidth": 0,
              "ticks": ""
             }
            },
            "type": "scatterternary"
           }
          ],
          "surface": [
           {
            "colorbar": {
             "outlinewidth": 0,
             "ticks": ""
            },
            "colorscale": [
             [
              0,
              "#0d0887"
             ],
             [
              0.1111111111111111,
              "#46039f"
             ],
             [
              0.2222222222222222,
              "#7201a8"
             ],
             [
              0.3333333333333333,
              "#9c179e"
             ],
             [
              0.4444444444444444,
              "#bd3786"
             ],
             [
              0.5555555555555556,
              "#d8576b"
             ],
             [
              0.6666666666666666,
              "#ed7953"
             ],
             [
              0.7777777777777778,
              "#fb9f3a"
             ],
             [
              0.8888888888888888,
              "#fdca26"
             ],
             [
              1,
              "#f0f921"
             ]
            ],
            "type": "surface"
           }
          ],
          "table": [
           {
            "cells": {
             "fill": {
              "color": "#EBF0F8"
             },
             "line": {
              "color": "white"
             }
            },
            "header": {
             "fill": {
              "color": "#C8D4E3"
             },
             "line": {
              "color": "white"
             }
            },
            "type": "table"
           }
          ]
         },
         "layout": {
          "annotationdefaults": {
           "arrowcolor": "#2a3f5f",
           "arrowhead": 0,
           "arrowwidth": 1
          },
          "autotypenumbers": "strict",
          "coloraxis": {
           "colorbar": {
            "outlinewidth": 0,
            "ticks": ""
           }
          },
          "colorscale": {
           "diverging": [
            [
             0,
             "#8e0152"
            ],
            [
             0.1,
             "#c51b7d"
            ],
            [
             0.2,
             "#de77ae"
            ],
            [
             0.3,
             "#f1b6da"
            ],
            [
             0.4,
             "#fde0ef"
            ],
            [
             0.5,
             "#f7f7f7"
            ],
            [
             0.6,
             "#e6f5d0"
            ],
            [
             0.7,
             "#b8e186"
            ],
            [
             0.8,
             "#7fbc41"
            ],
            [
             0.9,
             "#4d9221"
            ],
            [
             1,
             "#276419"
            ]
           ],
           "sequential": [
            [
             0,
             "#0d0887"
            ],
            [
             0.1111111111111111,
             "#46039f"
            ],
            [
             0.2222222222222222,
             "#7201a8"
            ],
            [
             0.3333333333333333,
             "#9c179e"
            ],
            [
             0.4444444444444444,
             "#bd3786"
            ],
            [
             0.5555555555555556,
             "#d8576b"
            ],
            [
             0.6666666666666666,
             "#ed7953"
            ],
            [
             0.7777777777777778,
             "#fb9f3a"
            ],
            [
             0.8888888888888888,
             "#fdca26"
            ],
            [
             1,
             "#f0f921"
            ]
           ],
           "sequentialminus": [
            [
             0,
             "#0d0887"
            ],
            [
             0.1111111111111111,
             "#46039f"
            ],
            [
             0.2222222222222222,
             "#7201a8"
            ],
            [
             0.3333333333333333,
             "#9c179e"
            ],
            [
             0.4444444444444444,
             "#bd3786"
            ],
            [
             0.5555555555555556,
             "#d8576b"
            ],
            [
             0.6666666666666666,
             "#ed7953"
            ],
            [
             0.7777777777777778,
             "#fb9f3a"
            ],
            [
             0.8888888888888888,
             "#fdca26"
            ],
            [
             1,
             "#f0f921"
            ]
           ]
          },
          "colorway": [
           "#636efa",
           "#EF553B",
           "#00cc96",
           "#ab63fa",
           "#FFA15A",
           "#19d3f3",
           "#FF6692",
           "#B6E880",
           "#FF97FF",
           "#FECB52"
          ],
          "font": {
           "color": "#2a3f5f"
          },
          "geo": {
           "bgcolor": "white",
           "lakecolor": "white",
           "landcolor": "#E5ECF6",
           "showlakes": true,
           "showland": true,
           "subunitcolor": "white"
          },
          "hoverlabel": {
           "align": "left"
          },
          "hovermode": "closest",
          "mapbox": {
           "style": "light"
          },
          "paper_bgcolor": "white",
          "plot_bgcolor": "#E5ECF6",
          "polar": {
           "angularaxis": {
            "gridcolor": "white",
            "linecolor": "white",
            "ticks": ""
           },
           "bgcolor": "#E5ECF6",
           "radialaxis": {
            "gridcolor": "white",
            "linecolor": "white",
            "ticks": ""
           }
          },
          "scene": {
           "xaxis": {
            "backgroundcolor": "#E5ECF6",
            "gridcolor": "white",
            "gridwidth": 2,
            "linecolor": "white",
            "showbackground": true,
            "ticks": "",
            "zerolinecolor": "white"
           },
           "yaxis": {
            "backgroundcolor": "#E5ECF6",
            "gridcolor": "white",
            "gridwidth": 2,
            "linecolor": "white",
            "showbackground": true,
            "ticks": "",
            "zerolinecolor": "white"
           },
           "zaxis": {
            "backgroundcolor": "#E5ECF6",
            "gridcolor": "white",
            "gridwidth": 2,
            "linecolor": "white",
            "showbackground": true,
            "ticks": "",
            "zerolinecolor": "white"
           }
          },
          "shapedefaults": {
           "line": {
            "color": "#2a3f5f"
           }
          },
          "ternary": {
           "aaxis": {
            "gridcolor": "white",
            "linecolor": "white",
            "ticks": ""
           },
           "baxis": {
            "gridcolor": "white",
            "linecolor": "white",
            "ticks": ""
           },
           "bgcolor": "#E5ECF6",
           "caxis": {
            "gridcolor": "white",
            "linecolor": "white",
            "ticks": ""
           }
          },
          "title": {
           "x": 0.05
          },
          "xaxis": {
           "automargin": true,
           "gridcolor": "white",
           "linecolor": "white",
           "ticks": "",
           "title": {
            "standoff": 15
           },
           "zerolinecolor": "white",
           "zerolinewidth": 2
          },
          "yaxis": {
           "automargin": true,
           "gridcolor": "white",
           "linecolor": "white",
           "ticks": "",
           "title": {
            "standoff": 15
           },
           "zerolinecolor": "white",
           "zerolinewidth": 2
          }
         }
        }
       }
      }
     },
     "metadata": {},
     "output_type": "display_data"
    }
   ],
   "source": [
    "# Visualiser les 10 meilleures et 10 pires villes sur une carte\n",
    "top_25_cities = city_accuracy.head(25)\n",
    "worst_25_cities = city_accuracy.tail(25)\n",
    "\n",
    "# Ajouter une colonne pour différencier les catégories\n",
    "top_25_cities[\"Category\"] = \"Top 25\"\n",
    "worst_25_cities[\"Category\"] = \"Worst 25\"\n",
    "\n",
    "# Fusionner les deux catégories\n",
    "top_worst_cities = pd.concat([top_25_cities, worst_25_cities])\n",
    "\n",
    "# Appliquer une taille uniforme pour toutes les villes\n",
    "top_worst_cities[\"Size\"] = 5  # Taille fixe pour tous les points\n",
    "\n",
    "# Définir une palette de couleurs : Rouge pour le Top 10, Bleu pour le Worst 10\n",
    "color_map = {\"Top 25\": \"red\", \"Worst 25\": \"blue\"}\n",
    "\n",
    "# Carte interactive des 10 meilleures et 10 pires villes\n",
    "fig = px.scatter_mapbox(\n",
    "    top_worst_cities,\n",
    "    lat=\"Latitude_jour1\",\n",
    "    lon=\"Longitude_jour1\",\n",
    "    color=\"Category\",  \n",
    "    size=\"Size\",  \n",
    "    hover_name=\"Ville_jour1\",\n",
    "    hover_data={\"Mean_Accuracy\": True},\n",
    "    mapbox_style=\"open-street-map\",\n",
    "    zoom=3.5,\n",
    "    color_discrete_map=color_map,\n",
    "    size_max=10  \n",
    ")\n",
    "\n",
    "fig.show()"
   ]
  },
  {
   "cell_type": "code",
   "execution_count": null,
   "metadata": {},
   "outputs": [],
   "source": []
  }
 ],
 "metadata": {
  "kernelspec": {
   "display_name": "base",
   "language": "python",
   "name": "python3"
  },
  "language_info": {
   "codemirror_mode": {
    "name": "ipython",
    "version": 3
   },
   "file_extension": ".py",
   "mimetype": "text/x-python",
   "name": "python",
   "nbconvert_exporter": "python",
   "pygments_lexer": "ipython3",
   "version": "3.11.7"
  }
 },
 "nbformat": 4,
 "nbformat_minor": 2
}
